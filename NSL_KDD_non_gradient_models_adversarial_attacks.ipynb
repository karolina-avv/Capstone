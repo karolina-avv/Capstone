{
 "cells": [
  {
   "cell_type": "code",
   "execution_count": 4,
   "id": "f146cd89-d9d4-4f9f-852f-457d4110fbf3",
   "metadata": {
    "tags": []
   },
   "outputs": [
    {
     "name": "stdout",
     "output_type": "stream",
     "text": [
      "Requirement already satisfied: pandas in /opt/anaconda3/lib/python3.11/site-packages (2.1.4)\n",
      "Requirement already satisfied: scikit-learn in /opt/anaconda3/lib/python3.11/site-packages (1.2.2)\n",
      "Requirement already satisfied: numpy<2,>=1.23.2 in /opt/anaconda3/lib/python3.11/site-packages (from pandas) (1.26.4)\n",
      "Requirement already satisfied: python-dateutil>=2.8.2 in /opt/anaconda3/lib/python3.11/site-packages (from pandas) (2.8.2)\n",
      "Requirement already satisfied: pytz>=2020.1 in /opt/anaconda3/lib/python3.11/site-packages (from pandas) (2023.3.post1)\n",
      "Requirement already satisfied: tzdata>=2022.1 in /opt/anaconda3/lib/python3.11/site-packages (from pandas) (2023.3)\n",
      "Requirement already satisfied: scipy>=1.3.2 in /opt/anaconda3/lib/python3.11/site-packages (from scikit-learn) (1.11.4)\n",
      "Requirement already satisfied: joblib>=1.1.1 in /opt/anaconda3/lib/python3.11/site-packages (from scikit-learn) (1.2.0)\n",
      "Requirement already satisfied: threadpoolctl>=2.0.0 in /opt/anaconda3/lib/python3.11/site-packages (from scikit-learn) (2.2.0)\n",
      "Requirement already satisfied: six>=1.5 in /opt/anaconda3/lib/python3.11/site-packages (from python-dateutil>=2.8.2->pandas) (1.16.0)\n"
     ]
    }
   ],
   "source": [
    "!pip install pandas scikit-learn"
   ]
  },
  {
   "cell_type": "code",
   "execution_count": 5,
   "id": "83e78939-d3ea-444f-8148-580a81f6ee46",
   "metadata": {
    "tags": []
   },
   "outputs": [],
   "source": [
    "import pandas as pd\n",
    "import os"
   ]
  },
  {
   "cell_type": "code",
   "execution_count": 6,
   "id": "6216e408-ff98-4d09-864b-29d7adaa804b",
   "metadata": {
    "tags": []
   },
   "outputs": [],
   "source": [
    "nsl_kdd_path = '/Users/marlenawasiak/Desktop/Data_Collection/NSL_KDD_Train.csv'"
   ]
  },
  {
   "cell_type": "code",
   "execution_count": 7,
   "id": "ad776770-e282-43ae-927c-c97b05a95036",
   "metadata": {
    "tags": []
   },
   "outputs": [],
   "source": [
    "nsl_kdd_df= pd.read_csv(nsl_kdd_path)"
   ]
  },
  {
   "cell_type": "code",
   "execution_count": 12,
   "id": "73dcfba5-fcd6-4614-966b-ffc0f42d82df",
   "metadata": {
    "tags": []
   },
   "outputs": [
    {
     "name": "stdout",
     "output_type": "stream",
     "text": [
      "NSL-KDD Dataset:\n",
      "   0  tcp ftp_data   SF  491   0.1  0.2  0.3  0.4  0.5  ...   25  0.17  0.03  \\\n",
      "0  0  udp    other   SF  146     0    0    0    0    0  ...    1  0.00  0.60   \n",
      "1  0  tcp  private   S0    0     0    0    0    0    0  ...   26  0.10  0.05   \n",
      "2  0  tcp     http   SF  232  8153    0    0    0    0  ...  255  1.00  0.00   \n",
      "3  0  tcp     http   SF  199   420    0    0    0    0  ...  255  1.00  0.00   \n",
      "4  0  tcp  private  REJ    0     0    0    0    0    0  ...   19  0.07  0.07   \n",
      "\n",
      "   0.17.1  0.25  0.26  0.27  0.05  0.28   normal  \n",
      "0    0.88  0.00  0.00  0.00   0.0  0.00   normal  \n",
      "1    0.00  0.00  1.00  1.00   0.0  0.00  neptune  \n",
      "2    0.03  0.04  0.03  0.01   0.0  0.01   normal  \n",
      "3    0.00  0.00  0.00  0.00   0.0  0.00   normal  \n",
      "4    0.00  0.00  0.00  0.00   1.0  1.00  neptune  \n",
      "\n",
      "[5 rows x 42 columns]\n"
     ]
    }
   ],
   "source": [
    "print('NSL-KDD Dataset:')\n",
    "print(nsl_kdd_df.head())"
   ]
  },
  {
   "cell_type": "code",
   "execution_count": 14,
   "id": "a8195537-4e15-4f32-8f3a-55da6567d81a",
   "metadata": {
    "tags": []
   },
   "outputs": [
    {
     "name": "stdout",
     "output_type": "stream",
     "text": [
      "Missing values:\n",
      "0           0\n",
      "tcp         0\n",
      "ftp_data    0\n",
      "SF          0\n",
      "491         0\n",
      "0.1         0\n",
      "0.2         0\n",
      "0.3         0\n",
      "0.4         0\n",
      "0.5         0\n",
      "0.6         0\n",
      "0.7         0\n",
      "0.8         0\n",
      "0.9         0\n",
      "0.10        0\n",
      "0.11        0\n",
      "0.12        0\n",
      "0.13        0\n",
      "0.14        0\n",
      "0.15        0\n",
      "0.16        0\n",
      "0.18        0\n",
      "2           0\n",
      "2.1         0\n",
      "0.19        0\n",
      "0.20        0\n",
      "0.21        0\n",
      "0.22        0\n",
      "1           0\n",
      "0.23        0\n",
      "0.24        0\n",
      "150         0\n",
      "25          0\n",
      "0.17        0\n",
      "0.03        0\n",
      "0.17.1      0\n",
      "0.25        0\n",
      "0.26        0\n",
      "0.27        0\n",
      "0.05        0\n",
      "0.28        0\n",
      "normal      0\n",
      "dtype: int64\n"
     ]
    }
   ],
   "source": [
    "print(\"Missing values:\")\n",
    "print(nsl_kdd_df.isnull().sum())"
   ]
  },
  {
   "cell_type": "code",
   "execution_count": 16,
   "id": "eabf7913-5699-4701-ba91-22d180479fd9",
   "metadata": {
    "tags": []
   },
   "outputs": [
    {
     "name": "stdout",
     "output_type": "stream",
     "text": [
      "Index(['0', 'tcp', 'ftp_data', 'SF', '491', '0.1', '0.2', '0.3', '0.4', '0.5',\n",
      "       '0.6', '0.7', '0.8', '0.9', '0.10', '0.11', '0.12', '0.13', '0.14',\n",
      "       '0.15', '0.16', '0.18', '2', '2.1', '0.19', '0.20', '0.21', '0.22', '1',\n",
      "       '0.23', '0.24', '150', '25', '0.17', '0.03', '0.17.1', '0.25', '0.26',\n",
      "       '0.27', '0.05', '0.28', 'normal'],\n",
      "      dtype='object')\n"
     ]
    }
   ],
   "source": [
    "print(nsl_kdd_df.columns)"
   ]
  },
  {
   "cell_type": "code",
   "execution_count": 18,
   "id": "1932eb41-31f9-4479-9188-bb9ad155e365",
   "metadata": {
    "tags": []
   },
   "outputs": [],
   "source": [
    "x= nsl_kdd_df.drop('normal', axis= 1)\n",
    "y= nsl_kdd_df['normal']"
   ]
  },
  {
   "cell_type": "code",
   "execution_count": 20,
   "id": "0b0117d1-4dbc-47d8-b779-d3fe6ecb8d62",
   "metadata": {
    "tags": []
   },
   "outputs": [
    {
     "name": "stdout",
     "output_type": "stream",
     "text": [
      "Features shape X:  (125972, 41)\n",
      "Features shape Y: (125972,)\n"
     ]
    }
   ],
   "source": [
    "print('Features shape X: ', x.shape)\n",
    "print('Features shape Y:', y.shape)"
   ]
  },
  {
   "cell_type": "code",
   "execution_count": 22,
   "id": "cf294354-fe58-4468-9996-6b7efba176d1",
   "metadata": {
    "tags": []
   },
   "outputs": [
    {
     "data": {
      "text/plain": [
       "(   0  tcp ftp_data   SF  491   0.1  0.2  0.3  0.4  0.5  ...  150   25  0.17  \\\n",
       " 0  0  udp    other   SF  146     0    0    0    0    0  ...  255    1  0.00   \n",
       " 1  0  tcp  private   S0    0     0    0    0    0    0  ...  255   26  0.10   \n",
       " 2  0  tcp     http   SF  232  8153    0    0    0    0  ...   30  255  1.00   \n",
       " 3  0  tcp     http   SF  199   420    0    0    0    0  ...  255  255  1.00   \n",
       " 4  0  tcp  private  REJ    0     0    0    0    0    0  ...  255   19  0.07   \n",
       " \n",
       "    0.03  0.17.1  0.25  0.26  0.27  0.05  0.28  \n",
       " 0  0.60    0.88  0.00  0.00  0.00   0.0  0.00  \n",
       " 1  0.05    0.00  0.00  1.00  1.00   0.0  0.00  \n",
       " 2  0.00    0.03  0.04  0.03  0.01   0.0  0.01  \n",
       " 3  0.00    0.00  0.00  0.00  0.00   0.0  0.00  \n",
       " 4  0.07    0.00  0.00  0.00  0.00   1.0  1.00  \n",
       " \n",
       " [5 rows x 41 columns],\n",
       " 0     normal\n",
       " 1    neptune\n",
       " 2     normal\n",
       " 3     normal\n",
       " 4    neptune\n",
       " Name: normal, dtype: object)"
      ]
     },
     "execution_count": 22,
     "metadata": {},
     "output_type": "execute_result"
    }
   ],
   "source": [
    "x.head(),y.head()"
   ]
  },
  {
   "cell_type": "code",
   "execution_count": 24,
   "id": "0af26805-1b5e-44a8-818a-b362a10b88d5",
   "metadata": {
    "tags": []
   },
   "outputs": [
    {
     "name": "stdout",
     "output_type": "stream",
     "text": [
      "First 5 encoded labels: [11  9 11 11  9]\n",
      "Label classes: ['back' 'buffer_overflow' 'ftp_write' 'guess_passwd' 'imap' 'ipsweep'\n",
      " 'land' 'loadmodule' 'multihop' 'neptune' 'nmap' 'normal' 'perl' 'phf'\n",
      " 'pod' 'portsweep' 'rootkit' 'satan' 'smurf' 'spy' 'teardrop'\n",
      " 'warezclient' 'warezmaster']\n"
     ]
    }
   ],
   "source": [
    "from sklearn.preprocessing import LabelEncoder\n",
    "label_encoder= LabelEncoder()\n",
    "y_encoded= label_encoder.fit_transform(y)\n",
    "\n",
    "print('First 5 encoded labels:', y_encoded[:5])\n",
    "print('Label classes:', label_encoder.classes_)"
   ]
  },
  {
   "cell_type": "code",
   "execution_count": 26,
   "id": "73adb62d-6378-48cb-8ead-576ae9660e3e",
   "metadata": {
    "tags": []
   },
   "outputs": [
    {
     "name": "stdout",
     "output_type": "stream",
     "text": [
      "   0  491   0.1  0.2  0.3  0.4  0.5  0.6  0.7  0.8  ...  SF_REJ  SF_RSTO  \\\n",
      "0  0  146     0    0    0    0    0    0    0    0  ...   False    False   \n",
      "1  0    0     0    0    0    0    0    0    0    0  ...   False    False   \n",
      "2  0  232  8153    0    0    0    0    0    1    0  ...   False    False   \n",
      "3  0  199   420    0    0    0    0    0    1    0  ...   False    False   \n",
      "4  0    0     0    0    0    0    0    0    0    0  ...    True    False   \n",
      "\n",
      "   SF_RSTOS0  SF_RSTR  SF_S0  SF_S1  SF_S2  SF_S3  SF_SF  SF_SH  \n",
      "0      False    False  False  False  False  False   True  False  \n",
      "1      False    False   True  False  False  False  False  False  \n",
      "2      False    False  False  False  False  False   True  False  \n",
      "3      False    False  False  False  False  False   True  False  \n",
      "4      False    False  False  False  False  False  False  False  \n",
      "\n",
      "[5 rows x 122 columns]\n"
     ]
    }
   ],
   "source": [
    "non_numeric_columns= x.select_dtypes(include=['object']).columns\n",
    "X_encoded= pd.get_dummies(x, columns=non_numeric_columns)\n",
    "print(X_encoded.head())\n",
    "#print(x.dtypes)\n"
   ]
  },
  {
   "cell_type": "code",
   "execution_count": 28,
   "id": "30fa490b-5d96-41d5-89b7-ebd16bc15c71",
   "metadata": {
    "tags": []
   },
   "outputs": [
    {
     "name": "stdout",
     "output_type": "stream",
     "text": [
      "First 5 rows of scaled features:\n",
      " [[-1.10249666e-01 -7.73740006e-03 -4.91866391e-03 -1.40888677e-02\n",
      "  -8.94867800e-02 -7.73601574e-03 -9.50760523e-02 -2.70229257e-02\n",
      "  -8.09267134e-01 -1.16636889e-02 -3.66520148e-02 -2.44366043e-02\n",
      "  -1.23851995e-02 -2.61801282e-02 -1.86099702e-02 -4.12213615e-02\n",
      "   0.00000000e+00 -2.81750510e-03 -9.75313348e-02 -6.20986958e-01\n",
      "  -3.68111748e-01 -6.37212824e-01 -6.31932543e-01 -3.74363934e-01\n",
      "  -3.74433298e-01 -1.32141976e+00  4.82196096e-01 -3.74561400e-01\n",
      "   7.34337380e-01 -1.03569278e+00 -1.16103461e+00  2.73683944e+00\n",
      "   2.36772855e+00 -2.89104644e-01 -6.39535482e-01 -6.24874248e-01\n",
      "  -3.87634945e-01 -3.76388732e-01 -2.65430168e-01 -2.10005685e+00\n",
      "   2.72067166e+00 -3.85572788e-02 -2.40796566e-02 -8.30056435e-02\n",
      "  -3.98456975e-03 -8.74011505e-02 -7.52869153e-02 -7.65561295e-02\n",
      "  -6.59178045e-02 -6.70023207e-02 -6.44438975e-02 -6.54912835e-02\n",
      "  -6.73600142e-02 -2.78096260e-01 -5.87972836e-02 -1.94371562e-01\n",
      "  -1.58232847e-01 -6.21686592e-02 -6.14569168e-02 -1.19274810e-01\n",
      "  -1.18829024e-01 -2.39966612e-01 -6.42573222e-02 -3.98456975e-03\n",
      "  -6.05391461e-02 -6.86331711e-01 -2.81750510e-03 -6.50004630e-02\n",
      "  -3.98456975e-03 -7.18510772e-02 -7.40506423e-02 -5.87292718e-02\n",
      "  -4.87769458e-02 -5.71429709e-02 -6.15219557e-02 -5.84564443e-02\n",
      "  -5.91361853e-02 -5.99418408e-02 -5.67923386e-02 -5.25565320e-02\n",
      "  -5.36836675e-02 -5.35347384e-02 -7.08960379e-02 -4.85310492e-02\n",
      "  -3.65432708e-02  5.28197774e+00 -6.30023297e-03 -2.48911399e-02\n",
      "  -4.58269026e-02 -2.34102745e-02 -4.58131906e-01 -7.96932929e-03\n",
      "  -2.48911399e-02 -2.61372871e-02 -2.27212249e-02 -2.48254680e-01\n",
      "  -4.41437035e-02 -4.97484941e-02 -5.50786426e-02 -6.58570391e-02\n",
      "  -6.16518308e-02 -1.37964817e-01 -4.88010073e-03 -7.96932929e-03\n",
      "  -7.22407334e-02 -8.91005174e-03 -6.92949256e-02 -7.89330733e-02\n",
      "  -7.41589443e-02 -7.01571198e-02 -7.43750855e-02 -1.91126634e-02\n",
      "  -3.12890480e-01 -1.12050260e-01 -2.86061375e-02 -1.39982667e-01\n",
      "  -6.18441156e-01 -5.39062984e-02 -3.17675614e-02 -1.97262943e-02\n",
      "   8.25155576e-01 -4.64317742e-02]\n",
      " [-1.10249666e-01 -7.76227089e-03 -4.91866391e-03 -1.40888677e-02\n",
      "  -8.94867800e-02 -7.73601574e-03 -9.50760523e-02 -2.70229257e-02\n",
      "  -8.09267134e-01 -1.16636889e-02 -3.66520148e-02 -2.44366043e-02\n",
      "  -1.23851995e-02 -2.61801282e-02 -1.86099702e-02 -4.12213615e-02\n",
      "   0.00000000e+00 -2.81750510e-03 -9.75313348e-02  3.39641479e-01\n",
      "  -2.99275172e-01  1.60265505e+00  1.60509487e+00 -3.74363934e-01\n",
      "  -3.74433298e-01 -1.38966023e+00  3.85263977e-02 -3.74561400e-01\n",
      "   7.34337380e-01 -8.09862183e-01 -9.38291799e-01 -1.74418935e-01\n",
      "  -4.80194395e-01 -2.89104644e-01  1.60875023e+00  1.61894633e+00\n",
      "  -3.87634945e-01 -3.76388732e-01 -2.65430168e-01  4.76177584e-01\n",
      "  -3.67556296e-01 -3.85572788e-02 -2.40796566e-02 -8.30056435e-02\n",
      "  -3.98456975e-03 -8.74011505e-02 -7.52869153e-02 -7.65561295e-02\n",
      "  -6.59178045e-02 -6.70023207e-02 -6.44438975e-02 -6.54912835e-02\n",
      "  -6.73600142e-02 -2.78096260e-01 -5.87972836e-02 -1.94371562e-01\n",
      "  -1.58232847e-01 -6.21686592e-02 -6.14569168e-02 -1.19274810e-01\n",
      "  -1.18829024e-01 -2.39966612e-01 -6.42573222e-02 -3.98456975e-03\n",
      "  -6.05391461e-02 -6.86331711e-01 -2.81750510e-03 -6.50004630e-02\n",
      "  -3.98456975e-03 -7.18510772e-02 -7.40506423e-02 -5.87292718e-02\n",
      "  -4.87769458e-02 -5.71429709e-02 -6.15219557e-02 -5.84564443e-02\n",
      "  -5.91361853e-02 -5.99418408e-02 -5.67923386e-02 -5.25565320e-02\n",
      "  -5.36836675e-02 -5.35347384e-02 -7.08960379e-02 -4.85310492e-02\n",
      "  -3.65432708e-02 -1.89323024e-01 -6.30023297e-03 -2.48911399e-02\n",
      "  -4.58269026e-02 -2.34102745e-02  2.18277746e+00 -7.96932929e-03\n",
      "  -2.48911399e-02 -2.61372871e-02 -2.27212249e-02 -2.48254680e-01\n",
      "  -4.41437035e-02 -4.97484941e-02 -5.50786426e-02 -6.58570391e-02\n",
      "  -6.16518308e-02 -1.37964817e-01 -4.88010073e-03 -7.96932929e-03\n",
      "  -7.22407334e-02 -8.91005174e-03 -6.92949256e-02 -7.89330733e-02\n",
      "  -7.41589443e-02 -7.01571198e-02 -7.43750855e-02 -1.91126634e-02\n",
      "  -3.12890480e-01 -1.12050260e-01 -2.86061375e-02 -1.39982667e-01\n",
      "   1.61696871e+00 -5.39062984e-02 -3.17675614e-02 -1.97262943e-02\n",
      "  -1.21189268e+00 -4.64317742e-02]\n",
      " [-1.10249666e-01 -7.72275012e-03 -2.89119454e-03 -1.40888677e-02\n",
      "  -8.94867800e-02 -7.73601574e-03 -9.50760523e-02 -2.70229257e-02\n",
      "   1.23568592e+00 -1.16636889e-02 -3.66520148e-02 -2.44366043e-02\n",
      "  -1.23851995e-02 -2.61801282e-02 -1.86099702e-02 -4.12213615e-02\n",
      "   0.00000000e+00 -2.81750510e-03 -9.75313348e-02 -6.90850844e-01\n",
      "  -3.13042487e-01 -1.89239249e-01 -1.84527059e-01 -3.74363934e-01\n",
      "  -3.74433298e-01  7.71287988e-01 -3.49684589e-01 -3.74561400e-01\n",
      "  -1.53366668e+00  1.25874613e+00  1.06639349e+00 -4.39078787e-01\n",
      "  -3.83106113e-01  6.62494892e-02 -5.72086910e-01 -6.02436043e-01\n",
      "  -3.87634945e-01 -3.45085831e-01 -2.65430168e-01  4.76177584e-01\n",
      "  -3.67556296e-01 -3.85572788e-02 -2.40796566e-02 -8.30056435e-02\n",
      "  -3.98456975e-03 -8.74011505e-02 -7.52869153e-02 -7.65561295e-02\n",
      "  -6.59178045e-02 -6.70023207e-02 -6.44438975e-02 -6.54912835e-02\n",
      "  -6.73600142e-02 -2.78096260e-01 -5.87972836e-02 -1.94371562e-01\n",
      "  -1.58232847e-01 -6.21686592e-02 -6.14569168e-02 -1.19274810e-01\n",
      "  -1.18829024e-01 -2.39966612e-01 -6.42573222e-02 -3.98456975e-03\n",
      "  -6.05391461e-02  1.45702141e+00 -2.81750510e-03 -6.50004630e-02\n",
      "  -3.98456975e-03 -7.18510772e-02 -7.40506423e-02 -5.87292718e-02\n",
      "  -4.87769458e-02 -5.71429709e-02 -6.15219557e-02 -5.84564443e-02\n",
      "  -5.91361853e-02 -5.99418408e-02 -5.67923386e-02 -5.25565320e-02\n",
      "  -5.36836675e-02 -5.35347384e-02 -7.08960379e-02 -4.85310492e-02\n",
      "  -3.65432708e-02 -1.89323024e-01 -6.30023297e-03 -2.48911399e-02\n",
      "  -4.58269026e-02 -2.34102745e-02 -4.58131906e-01 -7.96932929e-03\n",
      "  -2.48911399e-02 -2.61372871e-02 -2.27212249e-02 -2.48254680e-01\n",
      "  -4.41437035e-02 -4.97484941e-02 -5.50786426e-02 -6.58570391e-02\n",
      "  -6.16518308e-02 -1.37964817e-01 -4.88010073e-03 -7.96932929e-03\n",
      "  -7.22407334e-02 -8.91005174e-03 -6.92949256e-02 -7.89330733e-02\n",
      "  -7.41589443e-02 -7.01571198e-02 -7.43750855e-02 -1.91126634e-02\n",
      "  -3.12890480e-01 -1.12050260e-01 -2.86061375e-02 -1.39982667e-01\n",
      "  -6.18441156e-01 -5.39062984e-02 -3.17675614e-02 -1.97262943e-02\n",
      "   8.25155576e-01 -4.64317742e-02]\n",
      " [-1.10249666e-01 -7.72837161e-03 -4.81421927e-03 -1.40888677e-02\n",
      "  -8.94867800e-02 -7.73601574e-03 -9.50760523e-02 -2.70229257e-02\n",
      "   1.23568592e+00 -1.16636889e-02 -3.66520148e-02 -2.44366043e-02\n",
      "  -1.23851995e-02 -2.61801282e-02 -1.86099702e-02 -4.12213615e-02\n",
      "   0.00000000e+00 -2.81750510e-03 -9.75313348e-02 -4.72526199e-01\n",
      "   5.86750226e-02 -6.37212824e-01 -6.31932543e-01 -3.74363934e-01\n",
      "  -3.74433298e-01  7.71287988e-01 -3.49684589e-01 -2.81815452e-02\n",
      "   7.34337380e-01  1.25874613e+00  1.06639349e+00 -4.39078787e-01\n",
      "  -4.80194395e-01 -2.89104644e-01 -6.39535482e-01 -6.24874248e-01\n",
      "  -3.87634945e-01 -3.76388732e-01 -2.65430168e-01  4.76177584e-01\n",
      "  -3.67556296e-01 -3.85572788e-02 -2.40796566e-02 -8.30056435e-02\n",
      "  -3.98456975e-03 -8.74011505e-02 -7.52869153e-02 -7.65561295e-02\n",
      "  -6.59178045e-02 -6.70023207e-02 -6.44438975e-02 -6.54912835e-02\n",
      "  -6.73600142e-02 -2.78096260e-01 -5.87972836e-02 -1.94371562e-01\n",
      "  -1.58232847e-01 -6.21686592e-02 -6.14569168e-02 -1.19274810e-01\n",
      "  -1.18829024e-01 -2.39966612e-01 -6.42573222e-02 -3.98456975e-03\n",
      "  -6.05391461e-02  1.45702141e+00 -2.81750510e-03 -6.50004630e-02\n",
      "  -3.98456975e-03 -7.18510772e-02 -7.40506423e-02 -5.87292718e-02\n",
      "  -4.87769458e-02 -5.71429709e-02 -6.15219557e-02 -5.84564443e-02\n",
      "  -5.91361853e-02 -5.99418408e-02 -5.67923386e-02 -5.25565320e-02\n",
      "  -5.36836675e-02 -5.35347384e-02 -7.08960379e-02 -4.85310492e-02\n",
      "  -3.65432708e-02 -1.89323024e-01 -6.30023297e-03 -2.48911399e-02\n",
      "  -4.58269026e-02 -2.34102745e-02 -4.58131906e-01 -7.96932929e-03\n",
      "  -2.48911399e-02 -2.61372871e-02 -2.27212249e-02 -2.48254680e-01\n",
      "  -4.41437035e-02 -4.97484941e-02 -5.50786426e-02 -6.58570391e-02\n",
      "  -6.16518308e-02 -1.37964817e-01 -4.88010073e-03 -7.96932929e-03\n",
      "  -7.22407334e-02 -8.91005174e-03 -6.92949256e-02 -7.89330733e-02\n",
      "  -7.41589443e-02 -7.01571198e-02 -7.43750855e-02 -1.91126634e-02\n",
      "  -3.12890480e-01 -1.12050260e-01 -2.86061375e-02 -1.39982667e-01\n",
      "  -6.18441156e-01 -5.39062984e-02 -3.17675614e-02 -1.97262943e-02\n",
      "   8.25155576e-01 -4.64317742e-02]\n",
      " [-1.10249666e-01 -7.76227089e-03 -4.91866391e-03 -1.40888677e-02\n",
      "  -8.94867800e-02 -7.73601574e-03 -9.50760523e-02 -2.70229257e-02\n",
      "  -8.09267134e-01 -1.16636889e-02 -3.66520148e-02 -2.44366043e-02\n",
      "  -1.23851995e-02 -2.61801282e-02 -1.86099702e-02 -4.12213615e-02\n",
      "   0.00000000e+00 -2.81750510e-03 -9.75313348e-02  3.22175508e-01\n",
      "  -1.20300075e-01 -6.37212824e-01 -6.31932543e-01  2.74639045e+00\n",
      "   2.71535234e+00 -1.13944518e+00 -1.69323146e-02 -3.74561400e-01\n",
      "   7.34337380e-01 -8.73094751e-01 -1.00511464e+00 -6.85549945e-02\n",
      "  -4.80194395e-01 -2.89104644e-01 -6.39535482e-01 -6.24874248e-01\n",
      "   2.87439693e+00  2.75390135e+00 -2.65430168e-01  4.76177584e-01\n",
      "  -3.67556296e-01 -3.85572788e-02 -2.40796566e-02 -8.30056435e-02\n",
      "  -3.98456975e-03 -8.74011505e-02 -7.52869153e-02 -7.65561295e-02\n",
      "  -6.59178045e-02 -6.70023207e-02 -6.44438975e-02 -6.54912835e-02\n",
      "  -6.73600142e-02 -2.78096260e-01 -5.87972836e-02 -1.94371562e-01\n",
      "  -1.58232847e-01 -6.21686592e-02 -6.14569168e-02 -1.19274810e-01\n",
      "  -1.18829024e-01 -2.39966612e-01 -6.42573222e-02 -3.98456975e-03\n",
      "  -6.05391461e-02 -6.86331711e-01 -2.81750510e-03 -6.50004630e-02\n",
      "  -3.98456975e-03 -7.18510772e-02 -7.40506423e-02 -5.87292718e-02\n",
      "  -4.87769458e-02 -5.71429709e-02 -6.15219557e-02 -5.84564443e-02\n",
      "  -5.91361853e-02 -5.99418408e-02 -5.67923386e-02 -5.25565320e-02\n",
      "  -5.36836675e-02 -5.35347384e-02 -7.08960379e-02 -4.85310492e-02\n",
      "  -3.65432708e-02 -1.89323024e-01 -6.30023297e-03 -2.48911399e-02\n",
      "  -4.58269026e-02 -2.34102745e-02  2.18277746e+00 -7.96932929e-03\n",
      "  -2.48911399e-02 -2.61372871e-02 -2.27212249e-02 -2.48254680e-01\n",
      "  -4.41437035e-02 -4.97484941e-02 -5.50786426e-02 -6.58570391e-02\n",
      "  -6.16518308e-02 -1.37964817e-01 -4.88010073e-03 -7.96932929e-03\n",
      "  -7.22407334e-02 -8.91005174e-03 -6.92949256e-02 -7.89330733e-02\n",
      "  -7.41589443e-02 -7.01571198e-02 -7.43750855e-02 -1.91126634e-02\n",
      "   3.19600648e+00 -1.12050260e-01 -2.86061375e-02 -1.39982667e-01\n",
      "  -6.18441156e-01 -5.39062984e-02 -3.17675614e-02 -1.97262943e-02\n",
      "  -1.21189268e+00 -4.64317742e-02]]\n"
     ]
    }
   ],
   "source": [
    "from sklearn.preprocessing import StandardScaler\n",
    "\n",
    "scaler= StandardScaler()\n",
    "X_scaled= scaler.fit_transform(X_encoded)\n",
    "print('First 5 rows of scaled features:\\n', X_scaled[:5])"
   ]
  },
  {
   "cell_type": "code",
   "execution_count": 30,
   "id": "03b0bf60-62cf-4e0a-9140-e29af4b65598",
   "metadata": {
    "tags": []
   },
   "outputs": [
    {
     "name": "stdout",
     "output_type": "stream",
     "text": [
      "Requirement already satisfied: xgboost in /opt/anaconda3/lib/python3.11/site-packages (2.1.1)\n",
      "Requirement already satisfied: numpy in /opt/anaconda3/lib/python3.11/site-packages (from xgboost) (1.26.4)\n",
      "Requirement already satisfied: scipy in /opt/anaconda3/lib/python3.11/site-packages (from xgboost) (1.11.4)\n"
     ]
    }
   ],
   "source": [
    "from sklearn.ensemble import RandomForestClassifier\n",
    "from sklearn.metrics import accuracy_score, classification_report\n",
    "from sklearn.model_selection import train_test_split\n",
    "!pip install xgboost\n",
    "import xgboost as xgb\n",
    "import numpy as np"
   ]
  },
  {
   "cell_type": "code",
   "execution_count": 31,
   "id": "aa4be009-0992-4313-97de-c0a354557cf2",
   "metadata": {
    "tags": []
   },
   "outputs": [
    {
     "name": "stdout",
     "output_type": "stream",
     "text": [
      "Training set shape: (100777, 122)\n",
      "Testing set shape: (25195, 122)\n"
     ]
    }
   ],
   "source": [
    "# Split the scaled feature set and encoded labels into training and testing sets\n",
    "X_train, X_test, y_train, y_test = train_test_split(X_scaled, y_encoded, test_size=0.2, random_state=42)\n",
    "unique_classes, class_counts = np.unique(y_train, return_counts=True)\n",
    "class_weights = {cls: max(class_counts) / count for cls, count in zip(unique_classes, class_counts)}\n",
    "\n",
    "# Check the shapes of the training and testing sets\n",
    "print(\"Training set shape:\", X_train.shape)\n",
    "print(\"Testing set shape:\", X_test.shape)\n"
   ]
  },
  {
   "cell_type": "code",
   "execution_count": 34,
   "id": "41e04f70-7fcb-4d57-b4a9-7adc6e4d99ba",
   "metadata": {
    "tags": []
   },
   "outputs": [
    {
     "name": "stdout",
     "output_type": "stream",
     "text": [
      "Training set label distribution: {0: 755, 1: 23, 2: 8, 3: 39, 4: 9, 5: 2856, 6: 16, 7: 6, 8: 6, 9: 32976, 10: 1195, 11: 53956, 12: 2, 13: 3, 14: 165, 15: 2348, 16: 8, 17: 2884, 18: 2095, 19: 1, 20: 696, 21: 714, 22: 16}\n",
      "Test set label distribution: {0: 201, 1: 7, 3: 14, 4: 2, 5: 743, 6: 2, 7: 3, 8: 1, 9: 8238, 10: 298, 11: 13386, 12: 1, 13: 1, 14: 36, 15: 583, 16: 2, 17: 749, 18: 551, 19: 1, 20: 196, 21: 176, 22: 4}\n"
     ]
    }
   ],
   "source": [
    "import numpy as np\n",
    "\n",
    "# Check the distribution of labels in the training set\n",
    "unique, counts = np.unique(y_train, return_counts=True)\n",
    "print(\"Training set label distribution:\", dict(zip(unique, counts)))\n",
    "\n",
    "# Check the distribution of labels in the test set\n",
    "unique, counts = np.unique(y_test, return_counts=True)\n",
    "print(\"Test set label distribution:\", dict(zip(unique, counts)))\n"
   ]
  },
  {
   "cell_type": "code",
   "execution_count": 36,
   "id": "eff557da-32d5-42bf-b29c-c14f96546976",
   "metadata": {
    "tags": []
   },
   "outputs": [
    {
     "name": "stdout",
     "output_type": "stream",
     "text": [
      "Random Forest Accuracy: 0.9982933121651121\n",
      "Random Forest Classification Report:\n",
      "              precision    recall  f1-score   support\n",
      "\n",
      "           0       1.00      1.00      1.00       201\n",
      "           1       1.00      0.71      0.83         7\n",
      "           3       1.00      0.79      0.88        14\n",
      "           4       1.00      1.00      1.00         2\n",
      "           5       1.00      0.99      0.99       743\n",
      "           6       0.67      1.00      0.80         2\n",
      "           7       1.00      0.00      0.00         3\n",
      "           8       1.00      0.00      0.00         1\n",
      "           9       1.00      1.00      1.00      8238\n",
      "          10       0.98      0.99      0.99       298\n",
      "          11       1.00      1.00      1.00     13386\n",
      "          12       1.00      0.00      0.00         1\n",
      "          13       1.00      1.00      1.00         1\n",
      "          14       1.00      1.00      1.00        36\n",
      "          15       1.00      1.00      1.00       583\n",
      "          16       0.00      0.00      0.00         2\n",
      "          17       1.00      0.99      0.99       749\n",
      "          18       1.00      1.00      1.00       551\n",
      "          19       1.00      0.00      0.00         1\n",
      "          20       1.00      1.00      1.00       196\n",
      "          21       0.99      0.96      0.98       176\n",
      "          22       1.00      0.75      0.86         4\n",
      "\n",
      "    accuracy                           1.00     25195\n",
      "   macro avg       0.94      0.74      0.74     25195\n",
      "weighted avg       1.00      1.00      1.00     25195\n",
      "\n"
     ]
    }
   ],
   "source": [
    "rf_model = RandomForestClassifier(n_estimators=100, random_state=42, class_weight='balanced')\n",
    "rf_model.fit(X_train, y_train)\n",
    "y_pred_rf = rf_model.predict(X_test)\n",
    "\n",
    "print(\"Random Forest Accuracy:\", accuracy_score(y_test, y_pred_rf))\n",
    "print(\"Random Forest Classification Report:\")\n",
    "print(classification_report(y_test, y_pred_rf, zero_division=1))\n"
   ]
  },
  {
   "cell_type": "code",
   "execution_count": 37,
   "id": "c3ad2afe-a613-4d26-9621-75febef597ed",
   "metadata": {
    "tags": []
   },
   "outputs": [
    {
     "name": "stdout",
     "output_type": "stream",
     "text": [
      "XGBoost Accuracy: 0.9987299067275253\n",
      "XGBoost Classification Report:\n",
      "              precision    recall  f1-score   support\n",
      "\n",
      "           0       1.00      1.00      1.00       201\n",
      "           1       0.86      0.86      0.86         7\n",
      "           2       0.00      1.00      0.00         0\n",
      "           3       1.00      0.86      0.92        14\n",
      "           4       1.00      1.00      1.00         2\n",
      "           5       1.00      1.00      1.00       743\n",
      "           6       0.50      0.50      0.50         2\n",
      "           7       1.00      0.33      0.50         3\n",
      "           8       0.00      0.00      0.00         1\n",
      "           9       1.00      1.00      1.00      8238\n",
      "          10       0.98      0.99      0.99       298\n",
      "          11       1.00      1.00      1.00     13386\n",
      "          12       0.00      0.00      0.00         1\n",
      "          13       1.00      1.00      1.00         1\n",
      "          14       1.00      1.00      1.00        36\n",
      "          15       1.00      1.00      1.00       583\n",
      "          16       0.25      0.50      0.33         2\n",
      "          17       1.00      0.99      1.00       749\n",
      "          18       1.00      1.00      1.00       551\n",
      "          19       1.00      0.00      0.00         1\n",
      "          20       1.00      1.00      1.00       196\n",
      "          21       1.00      0.99      1.00       176\n",
      "          22       1.00      1.00      1.00         4\n",
      "\n",
      "    accuracy                           1.00     25195\n",
      "   macro avg       0.81      0.78      0.74     25195\n",
      "weighted avg       1.00      1.00      1.00     25195\n",
      "\n"
     ]
    }
   ],
   "source": [
    "# Train the XGBoost model with class weights\n",
    "# Create sample weights based on the class of each sample in the training set\n",
    "sample_weights = np.array([class_weights[label] for label in y_train])\n",
    "\n",
    "xgb_model = xgb.XGBClassifier(n_estimators=100, eval_metric='mlogloss', random_state=42)\n",
    "xgb_model.fit(X_train, y_train, sample_weight=sample_weights)\n",
    "y_pred_xgb = xgb_model.predict(X_test)\n",
    "\n",
    "# Evaluate the XGBoost model\n",
    "print(\"XGBoost Accuracy:\", accuracy_score(y_test, y_pred_xgb))\n",
    "print(\"XGBoost Classification Report:\")\n",
    "print(classification_report(y_test, y_pred_xgb, zero_division=1))"
   ]
  },
  {
   "cell_type": "code",
   "execution_count": 40,
   "id": "8947d055-d328-4b0c-824b-022f5ca6fb27",
   "metadata": {
    "tags": []
   },
   "outputs": [
    {
     "name": "stdout",
     "output_type": "stream",
     "text": [
      "SVM Accuracy: 0.973407422107561\n",
      "SVM Classification Report:\n",
      "              precision    recall  f1-score   support\n",
      "\n",
      "           0       0.89      0.99      0.94       201\n",
      "           1       0.10      0.57      0.17         7\n",
      "           2       0.00      1.00      0.00         0\n",
      "           3       0.87      0.93      0.90        14\n",
      "           4       1.00      1.00      1.00         2\n",
      "           5       0.93      0.98      0.96       743\n",
      "           6       0.67      1.00      0.80         2\n",
      "           7       0.00      0.00      0.00         3\n",
      "           8       0.08      1.00      0.15         1\n",
      "           9       1.00      1.00      1.00      8238\n",
      "          10       0.88      1.00      0.94       298\n",
      "          11       1.00      0.95      0.98     13386\n",
      "          12       1.00      1.00      1.00         1\n",
      "          13       1.00      1.00      1.00         1\n",
      "          14       0.95      1.00      0.97        36\n",
      "          15       0.99      0.99      0.99       583\n",
      "          16       0.00      0.00      0.00         2\n",
      "          17       0.80      0.98      0.88       749\n",
      "          18       0.95      1.00      0.97       551\n",
      "          19       1.00      0.00      0.00         1\n",
      "          20       1.00      1.00      1.00       196\n",
      "          21       0.44      0.95      0.60       176\n",
      "          22       1.00      0.75      0.86         4\n",
      "\n",
      "    accuracy                           0.97     25195\n",
      "   macro avg       0.72      0.83      0.70     25195\n",
      "weighted avg       0.98      0.97      0.98     25195\n",
      "\n"
     ]
    }
   ],
   "source": [
    "#Train the SVM model with class weights\n",
    "# Import SVM (SVC) and other necessary libraries\n",
    "from sklearn.svm import SVC\n",
    "from sklearn.metrics import accuracy_score, classification_report\n",
    "from sklearn.model_selection import train_test_split\n",
    "\n",
    "svm_model = SVC(kernel='linear', class_weight='balanced', random_state=42)\n",
    "svm_model.fit(X_train, y_train)\n",
    "y_pred_svm = svm_model.predict(X_test)\n",
    "\n",
    "# Evaluate the SVM model\n",
    "print(\"SVM Accuracy:\", accuracy_score(y_test, y_pred_svm))\n",
    "print(\"SVM Classification Report:\")\n",
    "print(classification_report(y_test, y_pred_svm, zero_division=1))"
   ]
  },
  {
   "cell_type": "code",
   "execution_count": 42,
   "id": "2f8091da-f8ee-4821-b455-2582072051cd",
   "metadata": {
    "tags": []
   },
   "outputs": [
    {
     "name": "stdout",
     "output_type": "stream",
     "text": [
      "Requirement already satisfied: adversarial-robustness-toolbox in /opt/anaconda3/lib/python3.11/site-packages (1.18.2)\n",
      "Requirement already satisfied: numpy>=1.18.0 in /opt/anaconda3/lib/python3.11/site-packages (from adversarial-robustness-toolbox) (1.26.4)\n",
      "Requirement already satisfied: scipy>=1.4.1 in /opt/anaconda3/lib/python3.11/site-packages (from adversarial-robustness-toolbox) (1.11.4)\n",
      "Requirement already satisfied: scikit-learn>=0.22.2 in /opt/anaconda3/lib/python3.11/site-packages (from adversarial-robustness-toolbox) (1.2.2)\n",
      "Requirement already satisfied: six in /opt/anaconda3/lib/python3.11/site-packages (from adversarial-robustness-toolbox) (1.16.0)\n",
      "Requirement already satisfied: setuptools in /opt/anaconda3/lib/python3.11/site-packages (from adversarial-robustness-toolbox) (68.2.2)\n",
      "Requirement already satisfied: tqdm in /opt/anaconda3/lib/python3.11/site-packages (from adversarial-robustness-toolbox) (4.65.0)\n",
      "Requirement already satisfied: joblib>=1.1.1 in /opt/anaconda3/lib/python3.11/site-packages (from scikit-learn>=0.22.2->adversarial-robustness-toolbox) (1.2.0)\n",
      "Requirement already satisfied: threadpoolctl>=2.0.0 in /opt/anaconda3/lib/python3.11/site-packages (from scikit-learn>=0.22.2->adversarial-robustness-toolbox) (2.2.0)\n"
     ]
    }
   ],
   "source": [
    "!pip install adversarial-robustness-toolbox"
   ]
  },
  {
   "cell_type": "code",
   "execution_count": 44,
   "id": "4d585c94-ff98-4667-8c25-d3d4afb41a3d",
   "metadata": {
    "tags": []
   },
   "outputs": [
    {
     "name": "stderr",
     "output_type": "stream",
     "text": [
      "/opt/anaconda3/lib/python3.11/site-packages/art/estimators/certification/__init__.py:30: UserWarning: PyTorch not found. Not importing DeepZ or Interval Bound Propagation functionality\n",
      "  warnings.warn(\"PyTorch not found. Not importing DeepZ or Interval Bound Propagation functionality\")\n"
     ]
    }
   ],
   "source": [
    "from art.estimators.classification import SklearnClassifier\n",
    "\n",
    "# Wrap all three models with ART's SklearnClassifier\n",
    "rf_art_classifier = SklearnClassifier(model=rf_model)    # Random Forest\n",
    "svm_art_classifier = SklearnClassifier(model=svm_model)  # SVM\n"
   ]
  },
  {
   "cell_type": "code",
   "execution_count": 46,
   "id": "7f6a875b-5423-46bf-b16e-eae197f6ac5b",
   "metadata": {
    "tags": []
   },
   "outputs": [
    {
     "data": {
      "application/vnd.jupyter.widget-view+json": {
       "model_id": "65206b7aeb484c4c8d94df7e93eb343e",
       "version_major": 2,
       "version_minor": 0
      },
      "text/plain": [
       "Boundary attack:   0%|          | 0/10 [00:00<?, ?it/s]"
      ]
     },
     "metadata": {},
     "output_type": "display_data"
    },
    {
     "data": {
      "application/vnd.jupyter.widget-view+json": {
       "model_id": "8e28298ed6a641d8957f2b2fc9fcb8d8",
       "version_major": 2,
       "version_minor": 0
      },
      "text/plain": [
       "Boundary attack - iterations:   0%|          | 0/100 [00:00<?, ?it/s]"
      ]
     },
     "metadata": {},
     "output_type": "display_data"
    },
    {
     "data": {
      "application/vnd.jupyter.widget-view+json": {
       "model_id": "0ca87375fec74a468f3a2fddbf4e9ef5",
       "version_major": 2,
       "version_minor": 0
      },
      "text/plain": [
       "Boundary attack - iterations:   0%|          | 0/100 [00:00<?, ?it/s]"
      ]
     },
     "metadata": {},
     "output_type": "display_data"
    },
    {
     "data": {
      "application/vnd.jupyter.widget-view+json": {
       "model_id": "aca4df21c68847cbb05bc4018175e7b9",
       "version_major": 2,
       "version_minor": 0
      },
      "text/plain": [
       "Boundary attack - iterations:   0%|          | 0/100 [00:00<?, ?it/s]"
      ]
     },
     "metadata": {},
     "output_type": "display_data"
    },
    {
     "data": {
      "application/vnd.jupyter.widget-view+json": {
       "model_id": "60276936d8db46808a5d6ba03d91b0bf",
       "version_major": 2,
       "version_minor": 0
      },
      "text/plain": [
       "Boundary attack - iterations:   0%|          | 0/100 [00:00<?, ?it/s]"
      ]
     },
     "metadata": {},
     "output_type": "display_data"
    },
    {
     "data": {
      "application/vnd.jupyter.widget-view+json": {
       "model_id": "56daf0b875ee45b09e63339b60787d78",
       "version_major": 2,
       "version_minor": 0
      },
      "text/plain": [
       "Boundary attack - iterations:   0%|          | 0/100 [00:00<?, ?it/s]"
      ]
     },
     "metadata": {},
     "output_type": "display_data"
    },
    {
     "data": {
      "application/vnd.jupyter.widget-view+json": {
       "model_id": "d4451156e2f64b9695e18baf1f520817",
       "version_major": 2,
       "version_minor": 0
      },
      "text/plain": [
       "Boundary attack - iterations:   0%|          | 0/100 [00:00<?, ?it/s]"
      ]
     },
     "metadata": {},
     "output_type": "display_data"
    },
    {
     "data": {
      "application/vnd.jupyter.widget-view+json": {
       "model_id": "4c1d6294d86a45c9bc6d73f933deabb5",
       "version_major": 2,
       "version_minor": 0
      },
      "text/plain": [
       "Boundary attack - iterations:   0%|          | 0/100 [00:00<?, ?it/s]"
      ]
     },
     "metadata": {},
     "output_type": "display_data"
    },
    {
     "data": {
      "application/vnd.jupyter.widget-view+json": {
       "model_id": "3e14417d5d1248c7b2b4d83855f33e15",
       "version_major": 2,
       "version_minor": 0
      },
      "text/plain": [
       "Boundary attack - iterations:   0%|          | 0/100 [00:00<?, ?it/s]"
      ]
     },
     "metadata": {},
     "output_type": "display_data"
    },
    {
     "data": {
      "application/vnd.jupyter.widget-view+json": {
       "model_id": "f4a1ae43224c4b02a0e66c302094e7cb",
       "version_major": 2,
       "version_minor": 0
      },
      "text/plain": [
       "Boundary attack:   0%|          | 0/10 [00:00<?, ?it/s]"
      ]
     },
     "metadata": {},
     "output_type": "display_data"
    },
    {
     "data": {
      "application/vnd.jupyter.widget-view+json": {
       "model_id": "34670765402648ce986b5b3cb3db8c50",
       "version_major": 2,
       "version_minor": 0
      },
      "text/plain": [
       "Boundary attack - iterations:   0%|          | 0/100 [00:00<?, ?it/s]"
      ]
     },
     "metadata": {},
     "output_type": "display_data"
    },
    {
     "data": {
      "application/vnd.jupyter.widget-view+json": {
       "model_id": "0d9c8ddc7fff4f08886eaef4540419d3",
       "version_major": 2,
       "version_minor": 0
      },
      "text/plain": [
       "Boundary attack - iterations:   0%|          | 0/100 [00:00<?, ?it/s]"
      ]
     },
     "metadata": {},
     "output_type": "display_data"
    },
    {
     "data": {
      "application/vnd.jupyter.widget-view+json": {
       "model_id": "f20726f4672041d9ad4a42838a9c29ca",
       "version_major": 2,
       "version_minor": 0
      },
      "text/plain": [
       "Boundary attack - iterations:   0%|          | 0/100 [00:00<?, ?it/s]"
      ]
     },
     "metadata": {},
     "output_type": "display_data"
    },
    {
     "data": {
      "application/vnd.jupyter.widget-view+json": {
       "model_id": "b6147958eb894750acced86b9f98d5f5",
       "version_major": 2,
       "version_minor": 0
      },
      "text/plain": [
       "Boundary attack - iterations:   0%|          | 0/100 [00:00<?, ?it/s]"
      ]
     },
     "metadata": {},
     "output_type": "display_data"
    },
    {
     "data": {
      "application/vnd.jupyter.widget-view+json": {
       "model_id": "ca4fb15501294118a6a4683f98ca698d",
       "version_major": 2,
       "version_minor": 0
      },
      "text/plain": [
       "Boundary attack - iterations:   0%|          | 0/100 [00:00<?, ?it/s]"
      ]
     },
     "metadata": {},
     "output_type": "display_data"
    },
    {
     "data": {
      "application/vnd.jupyter.widget-view+json": {
       "model_id": "6c14d3ec62754ff69c36050e8411fd0c",
       "version_major": 2,
       "version_minor": 0
      },
      "text/plain": [
       "Boundary attack - iterations:   0%|          | 0/100 [00:00<?, ?it/s]"
      ]
     },
     "metadata": {},
     "output_type": "display_data"
    },
    {
     "data": {
      "application/vnd.jupyter.widget-view+json": {
       "model_id": "db9335bb942448c8a505d8c779b9f33a",
       "version_major": 2,
       "version_minor": 0
      },
      "text/plain": [
       "Boundary attack - iterations:   0%|          | 0/100 [00:00<?, ?it/s]"
      ]
     },
     "metadata": {},
     "output_type": "display_data"
    },
    {
     "data": {
      "application/vnd.jupyter.widget-view+json": {
       "model_id": "45ac43a3a7e34ec093925c1a8d547b5a",
       "version_major": 2,
       "version_minor": 0
      },
      "text/plain": [
       "Boundary attack - iterations:   0%|          | 0/100 [00:00<?, ?it/s]"
      ]
     },
     "metadata": {},
     "output_type": "display_data"
    },
    {
     "data": {
      "application/vnd.jupyter.widget-view+json": {
       "model_id": "7e2d20b9dfe94a18a13a06c3020749f8",
       "version_major": 2,
       "version_minor": 0
      },
      "text/plain": [
       "Boundary attack - iterations:   0%|          | 0/100 [00:00<?, ?it/s]"
      ]
     },
     "metadata": {},
     "output_type": "display_data"
    },
    {
     "data": {
      "application/vnd.jupyter.widget-view+json": {
       "model_id": "84a451acae6a442d939e9e0de53b3d1f",
       "version_major": 2,
       "version_minor": 0
      },
      "text/plain": [
       "Boundary attack - iterations:   0%|          | 0/100 [00:00<?, ?it/s]"
      ]
     },
     "metadata": {},
     "output_type": "display_data"
    }
   ],
   "source": [
    "from art.attacks.evasion import BoundaryAttack\n",
    "\n",
    "# Initialize the Boundary Attack for each model\n",
    "boundary_attack_rf = BoundaryAttack(estimator=rf_art_classifier, targeted=False, max_iter=100)\n",
    "boundary_attack_svm = BoundaryAttack(estimator=svm_art_classifier, targeted=False, max_iter=100)\n",
    "\n",
    "\n",
    "# Select a small subset of the test data to run the attack\n",
    "X_test_sample = X_test[:10]\n",
    "y_test_sample = y_test[:10]\n",
    "\n",
    "# Generate adversarial examples for all models\n",
    "X_test_adv_rf = boundary_attack_rf.generate(x=X_test_sample, y=y_test_sample)\n",
    "X_test_adv_svm = boundary_attack_svm.generate(x=X_test_sample, y=y_test_sample)\n"
   ]
  },
  {
   "cell_type": "code",
   "execution_count": 48,
   "id": "ae123385-fdee-49e4-8522-dff2cd17e012",
   "metadata": {},
   "outputs": [
    {
     "name": "stdout",
     "output_type": "stream",
     "text": [
      "Random Forest Accuracy on Boundary Attack Adversarial Examples: 0.2\n",
      "Random Forest Classification Report:\n",
      "              precision    recall  f1-score   support\n",
      "\n",
      "           5       0.00      1.00      0.00         0\n",
      "           9       1.00      0.00      0.00         6\n",
      "          10       1.00      0.00      0.00         2\n",
      "          11       0.25      1.00      0.40         2\n",
      "\n",
      "    accuracy                           0.20        10\n",
      "   macro avg       0.56      0.50      0.10        10\n",
      "weighted avg       0.85      0.20      0.08        10\n",
      "\n",
      "SVM Accuracy on Boundary Attack Adversarial Examples: 0.0\n",
      "SVM Classification Report:\n",
      "              precision    recall  f1-score   support\n",
      "\n",
      "           0       0.00      1.00      0.00       0.0\n",
      "           5       0.00      1.00      0.00       0.0\n",
      "           9       1.00      0.00      0.00       6.0\n",
      "          10       1.00      0.00      0.00       2.0\n",
      "          11       1.00      0.00      0.00       2.0\n",
      "          15       0.00      1.00      0.00       0.0\n",
      "\n",
      "    accuracy                           0.00      10.0\n",
      "   macro avg       0.50      0.50      0.00      10.0\n",
      "weighted avg       1.00      0.00      0.00      10.0\n",
      "\n"
     ]
    }
   ],
   "source": [
    "from sklearn.metrics import accuracy_score, classification_report\n",
    "\n",
    "# Evaluate Random Forest\n",
    "y_pred_rf = rf_model.predict(X_test_adv_rf)\n",
    "accuracy_rf = accuracy_score(y_test_sample, y_pred_rf)\n",
    "print(f\"Random Forest Accuracy on Boundary Attack Adversarial Examples: {accuracy_rf}\")\n",
    "print(\"Random Forest Classification Report:\")\n",
    "print(classification_report(y_test_sample, y_pred_rf, zero_division=1))\n",
    "\n",
    "# Evaluate SVM\n",
    "y_pred_svm = svm_model.predict(X_test_adv_svm)\n",
    "accuracy_svm = accuracy_score(y_test_sample, y_pred_svm)\n",
    "print(f\"SVM Accuracy on Boundary Attack Adversarial Examples: {accuracy_svm}\")\n",
    "print(\"SVM Classification Report:\")\n",
    "print(classification_report(y_test_sample, y_pred_svm, zero_division=1))\n"
   ]
  },
  {
   "cell_type": "code",
   "execution_count": 50,
   "id": "a5d22895-22b2-4fa5-9d51-59e815223a95",
   "metadata": {},
   "outputs": [
    {
     "data": {
      "application/vnd.jupyter.widget-view+json": {
       "model_id": "d0fdfa48b7614576bb4fe4487cd47f77",
       "version_major": 2,
       "version_minor": 0
      },
      "text/plain": [
       "HopSkipJump:   0%|          | 0/10 [00:00<?, ?it/s]"
      ]
     },
     "metadata": {},
     "output_type": "display_data"
    },
    {
     "data": {
      "application/vnd.jupyter.widget-view+json": {
       "model_id": "dfa83e4b1e5c44a2a7e176fef024288c",
       "version_major": 2,
       "version_minor": 0
      },
      "text/plain": [
       "HopSkipJump:   0%|          | 0/10 [00:00<?, ?it/s]"
      ]
     },
     "metadata": {},
     "output_type": "display_data"
    }
   ],
   "source": [
    "from art.attacks.evasion import HopSkipJump\n",
    "\n",
    "# Initialize HopSkipJump Attack for each model\n",
    "hopskip_attack_rf = HopSkipJump(classifier=rf_art_classifier, targeted=False, max_iter=50)\n",
    "hopskip_attack_svm = HopSkipJump(classifier=svm_art_classifier, targeted=False, max_iter=50)\n",
    "\n",
    "# Generate adversarial examples for all models using HopSkipJump Attack\n",
    "X_test_adv_rf_hop = hopskip_attack_rf.generate(x=X_test_sample)\n",
    "X_test_adv_svm_hop = hopskip_attack_svm.generate(x=X_test_sample)"
   ]
  },
  {
   "cell_type": "code",
   "execution_count": 52,
   "id": "8d0fd537-6249-4f6b-871c-46beae0a2c06",
   "metadata": {},
   "outputs": [
    {
     "name": "stdout",
     "output_type": "stream",
     "text": [
      "Random Forest Accuracy on HopSkipJump Attack Adversarial Examples: 0.2\n",
      "Random Forest Classification Report (HopSkipJump):\n",
      "              precision    recall  f1-score   support\n",
      "\n",
      "           5       0.00      1.00      0.00         0\n",
      "           9       1.00      0.00      0.00         6\n",
      "          10       1.00      0.00      0.00         2\n",
      "          11       0.25      1.00      0.40         2\n",
      "\n",
      "    accuracy                           0.20        10\n",
      "   macro avg       0.56      0.50      0.10        10\n",
      "weighted avg       0.85      0.20      0.08        10\n",
      "\n",
      "SVM Accuracy on HopSkipJump Attack Adversarial Examples: 0.0\n",
      "SVM Classification Report (HopSkipJump):\n",
      "              precision    recall  f1-score   support\n",
      "\n",
      "           0       0.00      1.00      0.00       0.0\n",
      "           5       0.00      1.00      0.00       0.0\n",
      "           9       1.00      0.00      0.00       6.0\n",
      "          10       1.00      0.00      0.00       2.0\n",
      "          11       1.00      0.00      0.00       2.0\n",
      "          14       0.00      1.00      0.00       0.0\n",
      "          15       0.00      1.00      0.00       0.0\n",
      "          17       0.00      1.00      0.00       0.0\n",
      "\n",
      "    accuracy                           0.00      10.0\n",
      "   macro avg       0.38      0.62      0.00      10.0\n",
      "weighted avg       1.00      0.00      0.00      10.0\n",
      "\n"
     ]
    }
   ],
   "source": [
    "# Evaluate Random Forest on HopSkipJump Attack\n",
    "y_pred_rf_hop = rf_model.predict(X_test_adv_rf_hop)\n",
    "accuracy_rf_hop = accuracy_score(y_test_sample, y_pred_rf_hop)\n",
    "print(f\"Random Forest Accuracy on HopSkipJump Attack Adversarial Examples: {accuracy_rf_hop}\")\n",
    "print(\"Random Forest Classification Report (HopSkipJump):\")\n",
    "print(classification_report(y_test_sample, y_pred_rf_hop, zero_division=1))\n",
    "\n",
    "# Evaluate SVM on HopSkipJump Attack\n",
    "y_pred_svm_hop = svm_model.predict(X_test_adv_svm_hop)\n",
    "accuracy_svm_hop = accuracy_score(y_test_sample, y_pred_svm_hop)\n",
    "print(f\"SVM Accuracy on HopSkipJump Attack Adversarial Examples: {accuracy_svm_hop}\")\n",
    "print(\"SVM Classification Report (HopSkipJump):\")\n",
    "print(classification_report(y_test_sample, y_pred_svm_hop, zero_division=1))\n"
   ]
  },
  {
   "cell_type": "code",
   "execution_count": 60,
   "id": "7a2327ab-8a58-4110-827a-9e33e77238ea",
   "metadata": {},
   "outputs": [],
   "source": [
    "from art.estimators.classification import SklearnClassifier, XGBoostClassifier\n",
    "from art.attacks.evasion import FastGradientMethod, ProjectedGradientDescent, HopSkipJump\n",
    "from art.attacks.evasion import BoundaryAttack\n"
   ]
  },
  {
   "cell_type": "code",
   "execution_count": 56,
   "id": "9d01e1e0-03fb-4649-8dd0-263f075d1fbd",
   "metadata": {},
   "outputs": [],
   "source": [
    "# Manually set the input shape (number of features in your data)\n",
    "input_shape = (X_train.shape[1],)\n",
    "\n",
    "# Wrap the XGBoost model with ART's XGBoostClassifier\n",
    "xgb_art_classifier = XGBoostClassifier(model=xgb_model, clip_values=(0, 1), nb_features=input_shape[0])\n"
   ]
  },
  {
   "cell_type": "code",
   "execution_count": 62,
   "id": "b8850809-513a-4fc0-8f38-5b8f8e3f43c6",
   "metadata": {},
   "outputs": [
    {
     "data": {
      "application/vnd.jupyter.widget-view+json": {
       "model_id": "a02bc88f270744a9963e7c32c2df3ee6",
       "version_major": 2,
       "version_minor": 0
      },
      "text/plain": [
       "HopSkipJump:   0%|          | 0/10 [00:00<?, ?it/s]"
      ]
     },
     "metadata": {},
     "output_type": "display_data"
    },
    {
     "name": "stdout",
     "output_type": "stream",
     "text": [
      "XGBoost Accuracy on HopSkipJump Adversarial Examples: 0.1\n",
      "Classification Report (XGBoost - HopSkipJump):\n",
      "              precision    recall  f1-score   support\n",
      "\n",
      "           9       1.00      0.00      0.00         6\n",
      "          10       1.00      0.00      0.00         2\n",
      "          11       0.11      0.50      0.18         2\n",
      "          19       0.00      1.00      0.00         0\n",
      "\n",
      "    accuracy                           0.10        10\n",
      "   macro avg       0.53      0.38      0.05        10\n",
      "weighted avg       0.82      0.10      0.04        10\n",
      "\n"
     ]
    }
   ],
   "source": [
    "# Initialize the HopSkipJump attack\n",
    "hopskip_attack = HopSkipJump(classifier=xgb_art_classifier, targeted=False, max_iter=50)\n",
    "\n",
    "# Select a small subset of the test data\n",
    "X_test_sample = X_test[:10]\n",
    "\n",
    "# Generate adversarial examples using HopSkipJump\n",
    "X_test_adv_hop = hopskip_attack.generate(x=X_test_sample)\n",
    "\n",
    "# Predict on the adversarial examples\n",
    "y_pred_hop = xgb_model.predict(X_test_adv_hop)\n",
    "\n",
    "# Evaluate the model on HopSkipJump adversarial examples\n",
    "accuracy_hop = accuracy_score(y_test[:10], y_pred_hop)\n",
    "print(f\"XGBoost Accuracy on HopSkipJump Adversarial Examples: {accuracy_hop}\")\n",
    "\n",
    "# Display classification report\n",
    "print(\"Classification Report (XGBoost - HopSkipJump):\")\n",
    "print(classification_report(y_test[:10], y_pred_hop, zero_division=1))\n",
    "\n"
   ]
  },
  {
   "cell_type": "code",
   "execution_count": 64,
   "id": "c42028d0-d977-478b-8e89-8b1f0ec7d046",
   "metadata": {},
   "outputs": [
    {
     "data": {
      "application/vnd.jupyter.widget-view+json": {
       "model_id": "94db4364c3ad4780acc6b193c6294f32",
       "version_major": 2,
       "version_minor": 0
      },
      "text/plain": [
       "Boundary attack:   0%|          | 0/10 [00:00<?, ?it/s]"
      ]
     },
     "metadata": {},
     "output_type": "display_data"
    },
    {
     "data": {
      "application/vnd.jupyter.widget-view+json": {
       "model_id": "e78fe4c0f9af4c87998be5e342d5de80",
       "version_major": 2,
       "version_minor": 0
      },
      "text/plain": [
       "Boundary attack - iterations:   0%|          | 0/50 [00:00<?, ?it/s]"
      ]
     },
     "metadata": {},
     "output_type": "display_data"
    },
    {
     "data": {
      "application/vnd.jupyter.widget-view+json": {
       "model_id": "01fe86a81ca548b49b309ae227d73879",
       "version_major": 2,
       "version_minor": 0
      },
      "text/plain": [
       "Boundary attack - iterations:   0%|          | 0/50 [00:00<?, ?it/s]"
      ]
     },
     "metadata": {},
     "output_type": "display_data"
    },
    {
     "data": {
      "application/vnd.jupyter.widget-view+json": {
       "model_id": "ba6e13349c4e45839c7fec0efa7c7d38",
       "version_major": 2,
       "version_minor": 0
      },
      "text/plain": [
       "Boundary attack - iterations:   0%|          | 0/50 [00:00<?, ?it/s]"
      ]
     },
     "metadata": {},
     "output_type": "display_data"
    },
    {
     "data": {
      "application/vnd.jupyter.widget-view+json": {
       "model_id": "ad4201044ba04538b84ec190a9b33335",
       "version_major": 2,
       "version_minor": 0
      },
      "text/plain": [
       "Boundary attack - iterations:   0%|          | 0/50 [00:00<?, ?it/s]"
      ]
     },
     "metadata": {},
     "output_type": "display_data"
    },
    {
     "data": {
      "application/vnd.jupyter.widget-view+json": {
       "model_id": "a4d58a5bd6f346ea9a3c2090a3f08719",
       "version_major": 2,
       "version_minor": 0
      },
      "text/plain": [
       "Boundary attack - iterations:   0%|          | 0/50 [00:00<?, ?it/s]"
      ]
     },
     "metadata": {},
     "output_type": "display_data"
    },
    {
     "data": {
      "application/vnd.jupyter.widget-view+json": {
       "model_id": "42eafb7db8f04f47905cdbbe351c2c7c",
       "version_major": 2,
       "version_minor": 0
      },
      "text/plain": [
       "Boundary attack - iterations:   0%|          | 0/50 [00:00<?, ?it/s]"
      ]
     },
     "metadata": {},
     "output_type": "display_data"
    },
    {
     "data": {
      "application/vnd.jupyter.widget-view+json": {
       "model_id": "9edcc434890e4febab8092d4d986e0ba",
       "version_major": 2,
       "version_minor": 0
      },
      "text/plain": [
       "Boundary attack - iterations:   0%|          | 0/50 [00:00<?, ?it/s]"
      ]
     },
     "metadata": {},
     "output_type": "display_data"
    },
    {
     "data": {
      "application/vnd.jupyter.widget-view+json": {
       "model_id": "e7df993686054c00ac0168b5d63321d2",
       "version_major": 2,
       "version_minor": 0
      },
      "text/plain": [
       "Boundary attack - iterations:   0%|          | 0/50 [00:00<?, ?it/s]"
      ]
     },
     "metadata": {},
     "output_type": "display_data"
    },
    {
     "name": "stdout",
     "output_type": "stream",
     "text": [
      "XGBoost Accuracy on Boundary Attack Adversarial Examples: 0.2\n",
      "Classification Report (XGBoost - Boundary Attack):\n",
      "              precision    recall  f1-score   support\n",
      "\n",
      "           9       1.00      0.00      0.00         6\n",
      "          10       1.00      0.00      0.00         2\n",
      "          11       0.20      1.00      0.33         2\n",
      "\n",
      "    accuracy                           0.20        10\n",
      "   macro avg       0.73      0.33      0.11        10\n",
      "weighted avg       0.84      0.20      0.07        10\n",
      "\n"
     ]
    }
   ],
   "source": [
    "# Initialize the Boundary Attack\n",
    "boundary_attack = BoundaryAttack(estimator=xgb_art_classifier, targeted=False, max_iter=50)\n",
    "\n",
    "# Select a small subset of the test data\n",
    "X_test_sample = X_test[:10]\n",
    "\n",
    "# Generate adversarial examples using Boundary Attack\n",
    "X_test_adv_boundary = boundary_attack.generate(x=X_test_sample)\n",
    "\n",
    "# Predict on the adversarial examples\n",
    "y_pred_boundary = xgb_model.predict(X_test_adv_boundary)\n",
    "\n",
    "# Evaluate the model on Boundary Attack adversarial examples\n",
    "accuracy_boundary = accuracy_score(y_test[:10], y_pred_boundary)\n",
    "print(f\"XGBoost Accuracy on Boundary Attack Adversarial Examples: {accuracy_boundary}\")\n",
    "\n",
    "# Display classification report\n",
    "print(\"Classification Report (XGBoost - Boundary Attack):\")\n",
    "print(classification_report(y_test[:10], y_pred_boundary, zero_division=1))\n"
   ]
  },
  {
   "cell_type": "code",
   "execution_count": null,
   "id": "8714ddd5-5c88-48a3-be78-386226624a9d",
   "metadata": {},
   "outputs": [],
   "source": []
  }
 ],
 "metadata": {
  "kernelspec": {
   "display_name": "Python 3 (ipykernel)",
   "language": "python",
   "name": "python3"
  },
  "language_info": {
   "codemirror_mode": {
    "name": "ipython",
    "version": 3
   },
   "file_extension": ".py",
   "mimetype": "text/x-python",
   "name": "python",
   "nbconvert_exporter": "python",
   "pygments_lexer": "ipython3",
   "version": "3.11.7"
  }
 },
 "nbformat": 4,
 "nbformat_minor": 5
}
