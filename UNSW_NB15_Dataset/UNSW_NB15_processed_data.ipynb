{
 "cells": [
  {
   "cell_type": "code",
   "execution_count": 2,
   "id": "f146cd89-d9d4-4f9f-852f-457d4110fbf3",
   "metadata": {
    "tags": []
   },
   "outputs": [
    {
     "name": "stdout",
     "output_type": "stream",
     "text": [
      "Requirement already satisfied: pandas in /opt/anaconda3/lib/python3.11/site-packages (2.1.4)\n",
      "Requirement already satisfied: scikit-learn in /opt/anaconda3/lib/python3.11/site-packages (1.2.2)\n",
      "Requirement already satisfied: numpy<2,>=1.23.2 in /opt/anaconda3/lib/python3.11/site-packages (from pandas) (1.26.4)\n",
      "Requirement already satisfied: python-dateutil>=2.8.2 in /opt/anaconda3/lib/python3.11/site-packages (from pandas) (2.8.2)\n",
      "Requirement already satisfied: pytz>=2020.1 in /opt/anaconda3/lib/python3.11/site-packages (from pandas) (2023.3.post1)\n",
      "Requirement already satisfied: tzdata>=2022.1 in /opt/anaconda3/lib/python3.11/site-packages (from pandas) (2023.3)\n",
      "Requirement already satisfied: scipy>=1.3.2 in /opt/anaconda3/lib/python3.11/site-packages (from scikit-learn) (1.11.4)\n",
      "Requirement already satisfied: joblib>=1.1.1 in /opt/anaconda3/lib/python3.11/site-packages (from scikit-learn) (1.2.0)\n",
      "Requirement already satisfied: threadpoolctl>=2.0.0 in /opt/anaconda3/lib/python3.11/site-packages (from scikit-learn) (2.2.0)\n",
      "Requirement already satisfied: six>=1.5 in /opt/anaconda3/lib/python3.11/site-packages (from python-dateutil>=2.8.2->pandas) (1.16.0)\n"
     ]
    }
   ],
   "source": [
    "!pip install pandas scikit-learn"
   ]
  },
  {
   "cell_type": "code",
   "execution_count": 4,
   "id": "83e78939-d3ea-444f-8148-580a81f6ee46",
   "metadata": {
    "tags": []
   },
   "outputs": [],
   "source": [
    "import pandas as pd\n",
    "import os"
   ]
  },
  {
   "cell_type": "code",
   "execution_count": 6,
   "id": "6216e408-ff98-4d09-864b-29d7adaa804b",
   "metadata": {
    "tags": []
   },
   "outputs": [],
   "source": [
    "unsw_nb15_path = '/Users/marlenawasiak/Desktop/Data_Collection/UNSW_NB15_training-set.csv'"
   ]
  },
  {
   "cell_type": "code",
   "execution_count": 20,
   "id": "ad776770-e282-43ae-927c-c97b05a95036",
   "metadata": {
    "tags": []
   },
   "outputs": [],
   "source": [
    "df= pd.read_csv(unsw_nb15_path)"
   ]
  },
  {
   "cell_type": "code",
   "execution_count": 22,
   "id": "73dcfba5-fcd6-4614-966b-ffc0f42d82df",
   "metadata": {
    "tags": []
   },
   "outputs": [
    {
     "name": "stdout",
     "output_type": "stream",
     "text": [
      "UNSW_NB15_training-set:\n",
      "   id       dur proto service state  spkts  dpkts  sbytes  dbytes       rate  \\\n",
      "0   1  0.121478   tcp       -   FIN      6      4     258     172  74.087490   \n",
      "1   2  0.649902   tcp       -   FIN     14     38     734   42014  78.473372   \n",
      "2   3  1.623129   tcp       -   FIN      8     16     364   13186  14.170161   \n",
      "3   4  1.681642   tcp     ftp   FIN     12     12     628     770  13.677108   \n",
      "4   5  0.449454   tcp       -   FIN     10      6     534     268  33.373826   \n",
      "\n",
      "   ...  ct_dst_sport_ltm  ct_dst_src_ltm  is_ftp_login  ct_ftp_cmd  \\\n",
      "0  ...                 1               1             0           0   \n",
      "1  ...                 1               2             0           0   \n",
      "2  ...                 1               3             0           0   \n",
      "3  ...                 1               3             1           1   \n",
      "4  ...                 1              40             0           0   \n",
      "\n",
      "   ct_flw_http_mthd  ct_src_ltm  ct_srv_dst  is_sm_ips_ports  attack_cat  \\\n",
      "0                 0           1           1                0      Normal   \n",
      "1                 0           1           6                0      Normal   \n",
      "2                 0           2           6                0      Normal   \n",
      "3                 0           2           1                0      Normal   \n",
      "4                 0           2          39                0      Normal   \n",
      "\n",
      "   label  \n",
      "0      0  \n",
      "1      0  \n",
      "2      0  \n",
      "3      0  \n",
      "4      0  \n",
      "\n",
      "[5 rows x 45 columns]\n"
     ]
    }
   ],
   "source": [
    "print('UNSW_NB15_training-set:')\n",
    "print(unsw_nb15_df.head())"
   ]
  },
  {
   "cell_type": "code",
   "execution_count": 24,
   "id": "27dc3a1d-7e21-42f1-bc10-4d0beb6cae37",
   "metadata": {},
   "outputs": [
    {
     "name": "stdout",
     "output_type": "stream",
     "text": [
      "Features shape: (175341, 44), Target shape: (175341,)\n"
     ]
    }
   ],
   "source": [
    "# Identify the last column as the target label\n",
    "target_column = df.columns[-1]\n",
    "\n",
    "# Separate features (all columns except the last one) and target\n",
    "X = df.iloc[:, :-1]  # All rows, all columns except the last\n",
    "y = df.iloc[:, -1]   # All rows, only the last column\n",
    "\n",
    "print(f\"Features shape: {X.shape}, Target shape: {y.shape}\")\n"
   ]
  },
  {
   "cell_type": "code",
   "execution_count": 26,
   "id": "4bcb8427-9187-42b7-bae3-3eaa865fe102",
   "metadata": {},
   "outputs": [
    {
     "name": "stdout",
     "output_type": "stream",
     "text": [
      "Missing values per column:\n",
      "id                   0\n",
      "dur                  0\n",
      "proto                0\n",
      "service              0\n",
      "state                0\n",
      "spkts                0\n",
      "dpkts                0\n",
      "sbytes               0\n",
      "dbytes               0\n",
      "rate                 0\n",
      "sttl                 0\n",
      "dttl                 0\n",
      "sload                0\n",
      "dload                0\n",
      "sloss                0\n",
      "dloss                0\n",
      "sinpkt               0\n",
      "dinpkt               0\n",
      "sjit                 0\n",
      "djit                 0\n",
      "swin                 0\n",
      "stcpb                0\n",
      "dtcpb                0\n",
      "dwin                 0\n",
      "tcprtt               0\n",
      "synack               0\n",
      "ackdat               0\n",
      "smean                0\n",
      "dmean                0\n",
      "trans_depth          0\n",
      "response_body_len    0\n",
      "ct_srv_src           0\n",
      "ct_state_ttl         0\n",
      "ct_dst_ltm           0\n",
      "ct_src_dport_ltm     0\n",
      "ct_dst_sport_ltm     0\n",
      "ct_dst_src_ltm       0\n",
      "is_ftp_login         0\n",
      "ct_ftp_cmd           0\n",
      "ct_flw_http_mthd     0\n",
      "ct_src_ltm           0\n",
      "ct_srv_dst           0\n",
      "is_sm_ips_ports      0\n",
      "attack_cat           0\n",
      "label                0\n",
      "dtype: int64\n",
      "New dataset shape after dropping missing values: (175341, 45)\n"
     ]
    }
   ],
   "source": [
    "# Check for missing values\n",
    "print(\"Missing values per column:\")\n",
    "print(df.isnull().sum())\n",
    "\n",
    "# Drop rows with missing values (if needed)\n",
    "df_clean = df.dropna()\n",
    "\n",
    "print(f\"New dataset shape after dropping missing values: {df_clean.shape}\")\n"
   ]
  },
  {
   "cell_type": "code",
   "execution_count": 28,
   "id": "d3245787-1be6-4f33-bd60-5518900fbfa8",
   "metadata": {},
   "outputs": [
    {
     "name": "stdout",
     "output_type": "stream",
     "text": [
      "Categorical columns: Index(['proto', 'service', 'state', 'attack_cat'], dtype='object')\n",
      "   id       dur  proto  service  state  spkts  dpkts  sbytes  dbytes  \\\n",
      "0   1  0.121478    113        0      2      6      4     258     172   \n",
      "1   2  0.649902    113        0      2     14     38     734   42014   \n",
      "2   3  1.623129    113        0      2      8     16     364   13186   \n",
      "3   4  1.681642    113        3      2     12     12     628     770   \n",
      "4   5  0.449454    113        0      2     10      6     534     268   \n",
      "\n",
      "        rate  ...  ct_src_dport_ltm  ct_dst_sport_ltm  ct_dst_src_ltm  \\\n",
      "0  74.087490  ...                 1                 1               1   \n",
      "1  78.473372  ...                 1                 1               2   \n",
      "2  14.170161  ...                 1                 1               3   \n",
      "3  13.677108  ...                 1                 1               3   \n",
      "4  33.373826  ...                 2                 1              40   \n",
      "\n",
      "   is_ftp_login  ct_ftp_cmd  ct_flw_http_mthd  ct_src_ltm  ct_srv_dst  \\\n",
      "0             0           0                 0           1           1   \n",
      "1             0           0                 0           1           6   \n",
      "2             0           0                 0           2           6   \n",
      "3             1           1                 0           2           1   \n",
      "4             0           0                 0           2          39   \n",
      "\n",
      "   is_sm_ips_ports  attack_cat  \n",
      "0                0           6  \n",
      "1                0           6  \n",
      "2                0           6  \n",
      "3                0           6  \n",
      "4                0           6  \n",
      "\n",
      "[5 rows x 44 columns]\n"
     ]
    }
   ],
   "source": [
    "from sklearn.preprocessing import LabelEncoder\n",
    "\n",
    "# Identify categorical columns\n",
    "categorical_columns = X.select_dtypes(include=['object']).columns\n",
    "print(f\"Categorical columns: {categorical_columns}\")\n",
    "\n",
    "# Apply Label Encoding to each categorical column\n",
    "label_encoders = {}  # Store encoders to decode later if needed\n",
    "for col in categorical_columns:\n",
    "    le = LabelEncoder()\n",
    "    X[col] = le.fit_transform(X[col])\n",
    "    label_encoders[col] = le\n",
    "\n",
    "print(X.head())\n"
   ]
  },
  {
   "cell_type": "code",
   "execution_count": 36,
   "id": "8de9c6b1-3e56-4744-8104-5163a4d50f0e",
   "metadata": {},
   "outputs": [
    {
     "name": "stdout",
     "output_type": "stream",
     "text": [
      "Scaled features shape: (175341, 44)\n",
      "First 5 rows of scaled features:\n",
      " [[-1.73204093e+00 -1.91028809e-01  1.51809388e-01 -7.02307378e-01\n",
      "  -4.09218065e-01 -1.04455808e-01 -1.35768803e-01 -4.91336175e-02\n",
      "  -1.02725565e-01 -5.76371267e-01  7.03839147e-01  1.57810045e+00\n",
      "  -3.89897426e-01 -2.73699545e-01 -7.50399195e-02 -1.31758667e-01\n",
      "  -1.32788092e-01 -8.08854974e-02 -1.09996612e-01 -1.45904604e-01\n",
      "   1.09245621e+00 -2.56391859e-01  9.11122995e-01  1.10324378e+00\n",
      "  -5.21659615e-01 -4.84345974e-01 -5.03013700e-01 -4.58047910e-01\n",
      "  -3.14240240e-01 -1.36415097e-01 -3.95568747e-02 -7.75990642e-01\n",
      "  -1.36648585e+00 -6.45012907e-01 -5.44736436e-01 -5.54373170e-01\n",
      "  -7.05528637e-01 -1.18590161e-01 -1.18590161e-01 -1.89768056e-01\n",
      "  -7.15713657e-01 -7.53074017e-01 -1.26507963e-01  8.48024302e-01]\n",
      " [-1.73202117e+00 -1.09484795e-01  1.51809388e-01 -7.02307378e-01\n",
      "  -4.09218065e-01 -4.60135312e-02  1.72598967e-01 -4.64099623e-02\n",
      "   1.88544124e-01 -5.76344750e-01 -1.14190130e+00  1.56000198e+00\n",
      "  -3.89928026e-01 -6.92330079e-02 -4.47391252e-02  1.90621033e-01\n",
      "  -1.29250588e-01 -7.37353265e-02 -1.09301652e-01  1.92912679e-01\n",
      "   1.09245621e+00  3.31031386e-01  1.55725086e+00  1.10324378e+00\n",
      "  -5.21659615e-01 -4.84345974e-01 -5.03013700e-01 -4.14076140e-01\n",
      "   3.80086949e+00 -1.36415097e-01 -3.95568747e-02  3.14766595e+00\n",
      "  -3.18710853e-01 -6.45012907e-01 -5.44736436e-01 -5.54373170e-01\n",
      "  -6.14255735e-01 -1.18590161e-01 -1.18590161e-01 -1.89768056e-01\n",
      "  -7.15713657e-01 -2.88257008e-01 -1.26507963e-01  8.48024302e-01]\n",
      " [-1.73200142e+00  4.06992179e-02  1.51809388e-01 -7.02307378e-01\n",
      "  -4.09218065e-01 -8.98452387e-02 -2.69331193e-02 -4.85270893e-02\n",
      "  -1.21327697e-02 -5.76733523e-01 -1.14190130e+00  1.56000198e+00\n",
      "  -3.89964249e-01 -2.52044340e-01 -5.98895223e-02 -1.79775965e-02\n",
      "  -1.04125634e-01  1.47108177e-02  2.71391920e-01  2.66350356e+00\n",
      "   1.09245621e+00  8.46258253e-01  1.47285399e+00  1.10324378e+00\n",
      "   8.88443956e-01  9.31748077e-01  7.42201839e-01 -4.43390653e-01\n",
      "   2.70918469e+00 -1.36415097e-01 -3.95568747e-02 -2.15468272e-01\n",
      "  -3.18710853e-01 -5.20827153e-01 -5.44736436e-01 -5.54373170e-01\n",
      "  -5.22982833e-01 -1.18590161e-01 -1.18590161e-01 -1.89768056e-01\n",
      "  -5.95542567e-01 -2.88257008e-01 -1.26507963e-01  8.48024302e-01]\n",
      " [-1.73198166e+00  4.97286808e-02  1.51809388e-01  5.99129702e-01\n",
      "  -4.09218065e-01 -6.06241003e-02 -6.32116804e-02 -4.70164906e-02\n",
      "  -9.85627792e-02 -5.76736504e-01 -1.14190130e+00  1.56000198e+00\n",
      "  -3.89958049e-01 -2.75821022e-01 -5.98895223e-02 -7.48681317e-02\n",
      "  -1.15033749e-01  2.04584062e-03 -1.04906009e-01  1.08037345e+00\n",
      "   1.09245621e+00  1.01728610e-01  5.80251945e-02  1.10324378e+00\n",
      "  -5.21659615e-01 -4.84345974e-01 -5.03013700e-01 -4.14076140e-01\n",
      "  -2.32944563e-01 -1.36415097e-01 -3.95568747e-02 -7.75990642e-01\n",
      "  -3.18710853e-01 -5.20827153e-01 -5.44736436e-01 -5.54373170e-01\n",
      "  -5.22982833e-01  7.81491514e+00  7.81491514e+00 -1.89768056e-01\n",
      "  -5.95542567e-01 -7.53074017e-01 -1.26507963e-01  8.48024302e-01]\n",
      " [-1.73196190e+00 -1.40417028e-01  1.51809388e-01 -7.02307378e-01\n",
      "  -4.09218065e-01 -7.52346695e-02 -1.17629522e-01 -4.75543552e-02\n",
      "  -1.02057291e-01 -5.76617419e-01  7.23267994e-01  1.56000198e+00\n",
      "  -3.89927143e-01 -2.75561477e-01 -4.47391252e-02 -1.12795155e-01\n",
      "  -1.29549483e-01 -1.27209166e-02 -5.69415254e-02 -1.20301160e-01\n",
      "   1.09245621e+00  1.08236553e+00  7.44667929e-01  1.10324378e+00\n",
      "   1.09617202e+00  1.15499868e+00  9.09953769e-01 -4.09190388e-01\n",
      "  -3.06497794e-01 -1.36415097e-01 -3.95568747e-02  3.14766595e+00\n",
      "  -3.18710853e-01 -5.20827153e-01 -4.20467777e-01 -5.54373170e-01\n",
      "   2.85411454e+00 -1.18590161e-01 -1.18590161e-01 -1.89768056e-01\n",
      "  -5.95542567e-01  2.77953526e+00 -1.26507963e-01  8.48024302e-01]]\n"
     ]
    }
   ],
   "source": [
    "from sklearn.preprocessing import StandardScaler\n",
    "\n",
    "# Initialize the scaler\n",
    "scaler = StandardScaler()\n",
    "\n",
    "# Fit and transform the features\n",
    "X_scaled = scaler.fit_transform(X)\n",
    "\n",
    "print(f\"Scaled features shape: {X_scaled.shape}\")\n",
    "print('First 5 rows of scaled features:\\n', X_scaled[:5])"
   ]
  },
  {
   "cell_type": "code",
   "execution_count": null,
   "id": "cb6a75db-8adc-4049-aefc-6518c3e564db",
   "metadata": {},
   "outputs": [],
   "source": []
  }
 ],
 "metadata": {
  "kernelspec": {
   "display_name": "Python 3 (ipykernel)",
   "language": "python",
   "name": "python3"
  },
  "language_info": {
   "codemirror_mode": {
    "name": "ipython",
    "version": 3
   },
   "file_extension": ".py",
   "mimetype": "text/x-python",
   "name": "python",
   "nbconvert_exporter": "python",
   "pygments_lexer": "ipython3",
   "version": "3.11.7"
  }
 },
 "nbformat": 4,
 "nbformat_minor": 5
}
