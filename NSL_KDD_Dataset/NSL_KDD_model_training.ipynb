{
 "cells": [
  {
   "cell_type": "code",
   "execution_count": 2,
   "id": "f146cd89-d9d4-4f9f-852f-457d4110fbf3",
   "metadata": {
    "tags": []
   },
   "outputs": [
    {
     "name": "stdout",
     "output_type": "stream",
     "text": [
      "Requirement already satisfied: pandas in /opt/anaconda3/lib/python3.11/site-packages (2.1.4)\n",
      "Requirement already satisfied: scikit-learn in /opt/anaconda3/lib/python3.11/site-packages (1.2.2)\n",
      "Requirement already satisfied: numpy<2,>=1.23.2 in /opt/anaconda3/lib/python3.11/site-packages (from pandas) (1.26.4)\n",
      "Requirement already satisfied: python-dateutil>=2.8.2 in /opt/anaconda3/lib/python3.11/site-packages (from pandas) (2.8.2)\n",
      "Requirement already satisfied: pytz>=2020.1 in /opt/anaconda3/lib/python3.11/site-packages (from pandas) (2023.3.post1)\n",
      "Requirement already satisfied: tzdata>=2022.1 in /opt/anaconda3/lib/python3.11/site-packages (from pandas) (2023.3)\n",
      "Requirement already satisfied: scipy>=1.3.2 in /opt/anaconda3/lib/python3.11/site-packages (from scikit-learn) (1.11.4)\n",
      "Requirement already satisfied: joblib>=1.1.1 in /opt/anaconda3/lib/python3.11/site-packages (from scikit-learn) (1.2.0)\n",
      "Requirement already satisfied: threadpoolctl>=2.0.0 in /opt/anaconda3/lib/python3.11/site-packages (from scikit-learn) (2.2.0)\n",
      "Requirement already satisfied: six>=1.5 in /opt/anaconda3/lib/python3.11/site-packages (from python-dateutil>=2.8.2->pandas) (1.16.0)\n"
     ]
    }
   ],
   "source": [
    "!pip install pandas scikit-learn"
   ]
  },
  {
   "cell_type": "code",
   "execution_count": 3,
   "id": "83e78939-d3ea-444f-8148-580a81f6ee46",
   "metadata": {
    "tags": []
   },
   "outputs": [],
   "source": [
    "import pandas as pd\n",
    "import os"
   ]
  },
  {
   "cell_type": "code",
   "execution_count": 6,
   "id": "6216e408-ff98-4d09-864b-29d7adaa804b",
   "metadata": {
    "tags": []
   },
   "outputs": [],
   "source": [
    "nsl_kdd_path = '/Users/marlenawasiak/Desktop/Data_Collection/NSL_KDD_Train.csv'"
   ]
  },
  {
   "cell_type": "code",
   "execution_count": 10,
   "id": "ad776770-e282-43ae-927c-c97b05a95036",
   "metadata": {
    "tags": []
   },
   "outputs": [],
   "source": [
    "nsl_kdd_df= pd.read_csv(nsl_kdd_path)"
   ]
  },
  {
   "cell_type": "code",
   "execution_count": 12,
   "id": "73dcfba5-fcd6-4614-966b-ffc0f42d82df",
   "metadata": {
    "tags": []
   },
   "outputs": [
    {
     "name": "stdout",
     "output_type": "stream",
     "text": [
      "NSL-KDD Dataset:\n",
      "   0  tcp ftp_data   SF  491   0.1  0.2  0.3  0.4  0.5  ...   25  0.17  0.03  \\\n",
      "0  0  udp    other   SF  146     0    0    0    0    0  ...    1  0.00  0.60   \n",
      "1  0  tcp  private   S0    0     0    0    0    0    0  ...   26  0.10  0.05   \n",
      "2  0  tcp     http   SF  232  8153    0    0    0    0  ...  255  1.00  0.00   \n",
      "3  0  tcp     http   SF  199   420    0    0    0    0  ...  255  1.00  0.00   \n",
      "4  0  tcp  private  REJ    0     0    0    0    0    0  ...   19  0.07  0.07   \n",
      "\n",
      "   0.17.1  0.25  0.26  0.27  0.05  0.28   normal  \n",
      "0    0.88  0.00  0.00  0.00   0.0  0.00   normal  \n",
      "1    0.00  0.00  1.00  1.00   0.0  0.00  neptune  \n",
      "2    0.03  0.04  0.03  0.01   0.0  0.01   normal  \n",
      "3    0.00  0.00  0.00  0.00   0.0  0.00   normal  \n",
      "4    0.00  0.00  0.00  0.00   1.0  1.00  neptune  \n",
      "\n",
      "[5 rows x 42 columns]\n"
     ]
    }
   ],
   "source": [
    "print('NSL-KDD Dataset:')\n",
    "print(nsl_kdd_df.head())"
   ]
  },
  {
   "cell_type": "code",
   "execution_count": 14,
   "id": "a8195537-4e15-4f32-8f3a-55da6567d81a",
   "metadata": {
    "tags": []
   },
   "outputs": [
    {
     "name": "stdout",
     "output_type": "stream",
     "text": [
      "Missing values:\n",
      "0           0\n",
      "tcp         0\n",
      "ftp_data    0\n",
      "SF          0\n",
      "491         0\n",
      "0.1         0\n",
      "0.2         0\n",
      "0.3         0\n",
      "0.4         0\n",
      "0.5         0\n",
      "0.6         0\n",
      "0.7         0\n",
      "0.8         0\n",
      "0.9         0\n",
      "0.10        0\n",
      "0.11        0\n",
      "0.12        0\n",
      "0.13        0\n",
      "0.14        0\n",
      "0.15        0\n",
      "0.16        0\n",
      "0.18        0\n",
      "2           0\n",
      "2.1         0\n",
      "0.19        0\n",
      "0.20        0\n",
      "0.21        0\n",
      "0.22        0\n",
      "1           0\n",
      "0.23        0\n",
      "0.24        0\n",
      "150         0\n",
      "25          0\n",
      "0.17        0\n",
      "0.03        0\n",
      "0.17.1      0\n",
      "0.25        0\n",
      "0.26        0\n",
      "0.27        0\n",
      "0.05        0\n",
      "0.28        0\n",
      "normal      0\n",
      "dtype: int64\n"
     ]
    }
   ],
   "source": [
    "print(\"Missing values:\")\n",
    "print(nsl_kdd_df.isnull().sum())"
   ]
  },
  {
   "cell_type": "code",
   "execution_count": 16,
   "id": "eabf7913-5699-4701-ba91-22d180479fd9",
   "metadata": {
    "tags": []
   },
   "outputs": [
    {
     "name": "stdout",
     "output_type": "stream",
     "text": [
      "Index(['0', 'tcp', 'ftp_data', 'SF', '491', '0.1', '0.2', '0.3', '0.4', '0.5',\n",
      "       '0.6', '0.7', '0.8', '0.9', '0.10', '0.11', '0.12', '0.13', '0.14',\n",
      "       '0.15', '0.16', '0.18', '2', '2.1', '0.19', '0.20', '0.21', '0.22', '1',\n",
      "       '0.23', '0.24', '150', '25', '0.17', '0.03', '0.17.1', '0.25', '0.26',\n",
      "       '0.27', '0.05', '0.28', 'normal'],\n",
      "      dtype='object')\n"
     ]
    }
   ],
   "source": [
    "print(nsl_kdd_df.columns)"
   ]
  },
  {
   "cell_type": "code",
   "execution_count": 18,
   "id": "1932eb41-31f9-4479-9188-bb9ad155e365",
   "metadata": {
    "tags": []
   },
   "outputs": [],
   "source": [
    "x= nsl_kdd_df.drop('normal', axis= 1)\n",
    "y= nsl_kdd_df['normal']"
   ]
  },
  {
   "cell_type": "code",
   "execution_count": 20,
   "id": "0b0117d1-4dbc-47d8-b779-d3fe6ecb8d62",
   "metadata": {
    "tags": []
   },
   "outputs": [
    {
     "name": "stdout",
     "output_type": "stream",
     "text": [
      "Features shape X:  (125972, 41)\n",
      "Features shape Y: (125972,)\n"
     ]
    }
   ],
   "source": [
    "print('Features shape X: ', x.shape)\n",
    "print('Features shape Y:', y.shape)"
   ]
  },
  {
   "cell_type": "code",
   "execution_count": 22,
   "id": "cf294354-fe58-4468-9996-6b7efba176d1",
   "metadata": {
    "tags": []
   },
   "outputs": [
    {
     "data": {
      "text/plain": [
       "(   0  tcp ftp_data   SF  491   0.1  0.2  0.3  0.4  0.5  ...  150   25  0.17  \\\n",
       " 0  0  udp    other   SF  146     0    0    0    0    0  ...  255    1  0.00   \n",
       " 1  0  tcp  private   S0    0     0    0    0    0    0  ...  255   26  0.10   \n",
       " 2  0  tcp     http   SF  232  8153    0    0    0    0  ...   30  255  1.00   \n",
       " 3  0  tcp     http   SF  199   420    0    0    0    0  ...  255  255  1.00   \n",
       " 4  0  tcp  private  REJ    0     0    0    0    0    0  ...  255   19  0.07   \n",
       " \n",
       "    0.03  0.17.1  0.25  0.26  0.27  0.05  0.28  \n",
       " 0  0.60    0.88  0.00  0.00  0.00   0.0  0.00  \n",
       " 1  0.05    0.00  0.00  1.00  1.00   0.0  0.00  \n",
       " 2  0.00    0.03  0.04  0.03  0.01   0.0  0.01  \n",
       " 3  0.00    0.00  0.00  0.00  0.00   0.0  0.00  \n",
       " 4  0.07    0.00  0.00  0.00  0.00   1.0  1.00  \n",
       " \n",
       " [5 rows x 41 columns],\n",
       " 0     normal\n",
       " 1    neptune\n",
       " 2     normal\n",
       " 3     normal\n",
       " 4    neptune\n",
       " Name: normal, dtype: object)"
      ]
     },
     "execution_count": 22,
     "metadata": {},
     "output_type": "execute_result"
    }
   ],
   "source": [
    "x.head(),y.head()"
   ]
  },
  {
   "cell_type": "code",
   "execution_count": 24,
   "id": "0af26805-1b5e-44a8-818a-b362a10b88d5",
   "metadata": {
    "tags": []
   },
   "outputs": [
    {
     "name": "stdout",
     "output_type": "stream",
     "text": [
      "First 5 encoded labels: [11  9 11 11  9]\n",
      "Label classes: ['back' 'buffer_overflow' 'ftp_write' 'guess_passwd' 'imap' 'ipsweep'\n",
      " 'land' 'loadmodule' 'multihop' 'neptune' 'nmap' 'normal' 'perl' 'phf'\n",
      " 'pod' 'portsweep' 'rootkit' 'satan' 'smurf' 'spy' 'teardrop'\n",
      " 'warezclient' 'warezmaster']\n"
     ]
    }
   ],
   "source": [
    "from sklearn.preprocessing import LabelEncoder\n",
    "label_encoder= LabelEncoder()\n",
    "y_encoded= label_encoder.fit_transform(y)\n",
    "\n",
    "print('First 5 encoded labels:', y_encoded[:5])\n",
    "print('Label classes:', label_encoder.classes_)"
   ]
  },
  {
   "cell_type": "code",
   "execution_count": 25,
   "id": "73adb62d-6378-48cb-8ead-576ae9660e3e",
   "metadata": {
    "tags": []
   },
   "outputs": [
    {
     "name": "stdout",
     "output_type": "stream",
     "text": [
      "   0  491   0.1  0.2  0.3  0.4  0.5  0.6  0.7  0.8  ...  SF_REJ  SF_RSTO  \\\n",
      "0  0  146     0    0    0    0    0    0    0    0  ...   False    False   \n",
      "1  0    0     0    0    0    0    0    0    0    0  ...   False    False   \n",
      "2  0  232  8153    0    0    0    0    0    1    0  ...   False    False   \n",
      "3  0  199   420    0    0    0    0    0    1    0  ...   False    False   \n",
      "4  0    0     0    0    0    0    0    0    0    0  ...    True    False   \n",
      "\n",
      "   SF_RSTOS0  SF_RSTR  SF_S0  SF_S1  SF_S2  SF_S3  SF_SF  SF_SH  \n",
      "0      False    False  False  False  False  False   True  False  \n",
      "1      False    False   True  False  False  False  False  False  \n",
      "2      False    False  False  False  False  False   True  False  \n",
      "3      False    False  False  False  False  False   True  False  \n",
      "4      False    False  False  False  False  False  False  False  \n",
      "\n",
      "[5 rows x 122 columns]\n"
     ]
    }
   ],
   "source": [
    "non_numeric_columns= x.select_dtypes(include=['object']).columns\n",
    "X_encoded= pd.get_dummies(x, columns=non_numeric_columns)\n",
    "print(X_encoded.head())\n",
    "#print(x.dtypes)\n"
   ]
  },
  {
   "cell_type": "code",
   "execution_count": 28,
   "id": "30fa490b-5d96-41d5-89b7-ebd16bc15c71",
   "metadata": {
    "tags": []
   },
   "outputs": [
    {
     "name": "stdout",
     "output_type": "stream",
     "text": [
      "First 5 rows of scaled features:\n",
      " [[-1.10249666e-01 -7.73740006e-03 -4.91866391e-03 -1.40888677e-02\n",
      "  -8.94867800e-02 -7.73601574e-03 -9.50760523e-02 -2.70229257e-02\n",
      "  -8.09267134e-01 -1.16636889e-02 -3.66520148e-02 -2.44366043e-02\n",
      "  -1.23851995e-02 -2.61801282e-02 -1.86099702e-02 -4.12213615e-02\n",
      "   0.00000000e+00 -2.81750510e-03 -9.75313348e-02 -6.20986958e-01\n",
      "  -3.68111748e-01 -6.37212824e-01 -6.31932543e-01 -3.74363934e-01\n",
      "  -3.74433298e-01 -1.32141976e+00  4.82196096e-01 -3.74561400e-01\n",
      "   7.34337380e-01 -1.03569278e+00 -1.16103461e+00  2.73683944e+00\n",
      "   2.36772855e+00 -2.89104644e-01 -6.39535482e-01 -6.24874248e-01\n",
      "  -3.87634945e-01 -3.76388732e-01 -2.65430168e-01 -2.10005685e+00\n",
      "   2.72067166e+00 -3.85572788e-02 -2.40796566e-02 -8.30056435e-02\n",
      "  -3.98456975e-03 -8.74011505e-02 -7.52869153e-02 -7.65561295e-02\n",
      "  -6.59178045e-02 -6.70023207e-02 -6.44438975e-02 -6.54912835e-02\n",
      "  -6.73600142e-02 -2.78096260e-01 -5.87972836e-02 -1.94371562e-01\n",
      "  -1.58232847e-01 -6.21686592e-02 -6.14569168e-02 -1.19274810e-01\n",
      "  -1.18829024e-01 -2.39966612e-01 -6.42573222e-02 -3.98456975e-03\n",
      "  -6.05391461e-02 -6.86331711e-01 -2.81750510e-03 -6.50004630e-02\n",
      "  -3.98456975e-03 -7.18510772e-02 -7.40506423e-02 -5.87292718e-02\n",
      "  -4.87769458e-02 -5.71429709e-02 -6.15219557e-02 -5.84564443e-02\n",
      "  -5.91361853e-02 -5.99418408e-02 -5.67923386e-02 -5.25565320e-02\n",
      "  -5.36836675e-02 -5.35347384e-02 -7.08960379e-02 -4.85310492e-02\n",
      "  -3.65432708e-02  5.28197774e+00 -6.30023297e-03 -2.48911399e-02\n",
      "  -4.58269026e-02 -2.34102745e-02 -4.58131906e-01 -7.96932929e-03\n",
      "  -2.48911399e-02 -2.61372871e-02 -2.27212249e-02 -2.48254680e-01\n",
      "  -4.41437035e-02 -4.97484941e-02 -5.50786426e-02 -6.58570391e-02\n",
      "  -6.16518308e-02 -1.37964817e-01 -4.88010073e-03 -7.96932929e-03\n",
      "  -7.22407334e-02 -8.91005174e-03 -6.92949256e-02 -7.89330733e-02\n",
      "  -7.41589443e-02 -7.01571198e-02 -7.43750855e-02 -1.91126634e-02\n",
      "  -3.12890480e-01 -1.12050260e-01 -2.86061375e-02 -1.39982667e-01\n",
      "  -6.18441156e-01 -5.39062984e-02 -3.17675614e-02 -1.97262943e-02\n",
      "   8.25155576e-01 -4.64317742e-02]\n",
      " [-1.10249666e-01 -7.76227089e-03 -4.91866391e-03 -1.40888677e-02\n",
      "  -8.94867800e-02 -7.73601574e-03 -9.50760523e-02 -2.70229257e-02\n",
      "  -8.09267134e-01 -1.16636889e-02 -3.66520148e-02 -2.44366043e-02\n",
      "  -1.23851995e-02 -2.61801282e-02 -1.86099702e-02 -4.12213615e-02\n",
      "   0.00000000e+00 -2.81750510e-03 -9.75313348e-02  3.39641479e-01\n",
      "  -2.99275172e-01  1.60265505e+00  1.60509487e+00 -3.74363934e-01\n",
      "  -3.74433298e-01 -1.38966023e+00  3.85263977e-02 -3.74561400e-01\n",
      "   7.34337380e-01 -8.09862183e-01 -9.38291799e-01 -1.74418935e-01\n",
      "  -4.80194395e-01 -2.89104644e-01  1.60875023e+00  1.61894633e+00\n",
      "  -3.87634945e-01 -3.76388732e-01 -2.65430168e-01  4.76177584e-01\n",
      "  -3.67556296e-01 -3.85572788e-02 -2.40796566e-02 -8.30056435e-02\n",
      "  -3.98456975e-03 -8.74011505e-02 -7.52869153e-02 -7.65561295e-02\n",
      "  -6.59178045e-02 -6.70023207e-02 -6.44438975e-02 -6.54912835e-02\n",
      "  -6.73600142e-02 -2.78096260e-01 -5.87972836e-02 -1.94371562e-01\n",
      "  -1.58232847e-01 -6.21686592e-02 -6.14569168e-02 -1.19274810e-01\n",
      "  -1.18829024e-01 -2.39966612e-01 -6.42573222e-02 -3.98456975e-03\n",
      "  -6.05391461e-02 -6.86331711e-01 -2.81750510e-03 -6.50004630e-02\n",
      "  -3.98456975e-03 -7.18510772e-02 -7.40506423e-02 -5.87292718e-02\n",
      "  -4.87769458e-02 -5.71429709e-02 -6.15219557e-02 -5.84564443e-02\n",
      "  -5.91361853e-02 -5.99418408e-02 -5.67923386e-02 -5.25565320e-02\n",
      "  -5.36836675e-02 -5.35347384e-02 -7.08960379e-02 -4.85310492e-02\n",
      "  -3.65432708e-02 -1.89323024e-01 -6.30023297e-03 -2.48911399e-02\n",
      "  -4.58269026e-02 -2.34102745e-02  2.18277746e+00 -7.96932929e-03\n",
      "  -2.48911399e-02 -2.61372871e-02 -2.27212249e-02 -2.48254680e-01\n",
      "  -4.41437035e-02 -4.97484941e-02 -5.50786426e-02 -6.58570391e-02\n",
      "  -6.16518308e-02 -1.37964817e-01 -4.88010073e-03 -7.96932929e-03\n",
      "  -7.22407334e-02 -8.91005174e-03 -6.92949256e-02 -7.89330733e-02\n",
      "  -7.41589443e-02 -7.01571198e-02 -7.43750855e-02 -1.91126634e-02\n",
      "  -3.12890480e-01 -1.12050260e-01 -2.86061375e-02 -1.39982667e-01\n",
      "   1.61696871e+00 -5.39062984e-02 -3.17675614e-02 -1.97262943e-02\n",
      "  -1.21189268e+00 -4.64317742e-02]\n",
      " [-1.10249666e-01 -7.72275012e-03 -2.89119454e-03 -1.40888677e-02\n",
      "  -8.94867800e-02 -7.73601574e-03 -9.50760523e-02 -2.70229257e-02\n",
      "   1.23568592e+00 -1.16636889e-02 -3.66520148e-02 -2.44366043e-02\n",
      "  -1.23851995e-02 -2.61801282e-02 -1.86099702e-02 -4.12213615e-02\n",
      "   0.00000000e+00 -2.81750510e-03 -9.75313348e-02 -6.90850844e-01\n",
      "  -3.13042487e-01 -1.89239249e-01 -1.84527059e-01 -3.74363934e-01\n",
      "  -3.74433298e-01  7.71287988e-01 -3.49684589e-01 -3.74561400e-01\n",
      "  -1.53366668e+00  1.25874613e+00  1.06639349e+00 -4.39078787e-01\n",
      "  -3.83106113e-01  6.62494892e-02 -5.72086910e-01 -6.02436043e-01\n",
      "  -3.87634945e-01 -3.45085831e-01 -2.65430168e-01  4.76177584e-01\n",
      "  -3.67556296e-01 -3.85572788e-02 -2.40796566e-02 -8.30056435e-02\n",
      "  -3.98456975e-03 -8.74011505e-02 -7.52869153e-02 -7.65561295e-02\n",
      "  -6.59178045e-02 -6.70023207e-02 -6.44438975e-02 -6.54912835e-02\n",
      "  -6.73600142e-02 -2.78096260e-01 -5.87972836e-02 -1.94371562e-01\n",
      "  -1.58232847e-01 -6.21686592e-02 -6.14569168e-02 -1.19274810e-01\n",
      "  -1.18829024e-01 -2.39966612e-01 -6.42573222e-02 -3.98456975e-03\n",
      "  -6.05391461e-02  1.45702141e+00 -2.81750510e-03 -6.50004630e-02\n",
      "  -3.98456975e-03 -7.18510772e-02 -7.40506423e-02 -5.87292718e-02\n",
      "  -4.87769458e-02 -5.71429709e-02 -6.15219557e-02 -5.84564443e-02\n",
      "  -5.91361853e-02 -5.99418408e-02 -5.67923386e-02 -5.25565320e-02\n",
      "  -5.36836675e-02 -5.35347384e-02 -7.08960379e-02 -4.85310492e-02\n",
      "  -3.65432708e-02 -1.89323024e-01 -6.30023297e-03 -2.48911399e-02\n",
      "  -4.58269026e-02 -2.34102745e-02 -4.58131906e-01 -7.96932929e-03\n",
      "  -2.48911399e-02 -2.61372871e-02 -2.27212249e-02 -2.48254680e-01\n",
      "  -4.41437035e-02 -4.97484941e-02 -5.50786426e-02 -6.58570391e-02\n",
      "  -6.16518308e-02 -1.37964817e-01 -4.88010073e-03 -7.96932929e-03\n",
      "  -7.22407334e-02 -8.91005174e-03 -6.92949256e-02 -7.89330733e-02\n",
      "  -7.41589443e-02 -7.01571198e-02 -7.43750855e-02 -1.91126634e-02\n",
      "  -3.12890480e-01 -1.12050260e-01 -2.86061375e-02 -1.39982667e-01\n",
      "  -6.18441156e-01 -5.39062984e-02 -3.17675614e-02 -1.97262943e-02\n",
      "   8.25155576e-01 -4.64317742e-02]\n",
      " [-1.10249666e-01 -7.72837161e-03 -4.81421927e-03 -1.40888677e-02\n",
      "  -8.94867800e-02 -7.73601574e-03 -9.50760523e-02 -2.70229257e-02\n",
      "   1.23568592e+00 -1.16636889e-02 -3.66520148e-02 -2.44366043e-02\n",
      "  -1.23851995e-02 -2.61801282e-02 -1.86099702e-02 -4.12213615e-02\n",
      "   0.00000000e+00 -2.81750510e-03 -9.75313348e-02 -4.72526199e-01\n",
      "   5.86750226e-02 -6.37212824e-01 -6.31932543e-01 -3.74363934e-01\n",
      "  -3.74433298e-01  7.71287988e-01 -3.49684589e-01 -2.81815452e-02\n",
      "   7.34337380e-01  1.25874613e+00  1.06639349e+00 -4.39078787e-01\n",
      "  -4.80194395e-01 -2.89104644e-01 -6.39535482e-01 -6.24874248e-01\n",
      "  -3.87634945e-01 -3.76388732e-01 -2.65430168e-01  4.76177584e-01\n",
      "  -3.67556296e-01 -3.85572788e-02 -2.40796566e-02 -8.30056435e-02\n",
      "  -3.98456975e-03 -8.74011505e-02 -7.52869153e-02 -7.65561295e-02\n",
      "  -6.59178045e-02 -6.70023207e-02 -6.44438975e-02 -6.54912835e-02\n",
      "  -6.73600142e-02 -2.78096260e-01 -5.87972836e-02 -1.94371562e-01\n",
      "  -1.58232847e-01 -6.21686592e-02 -6.14569168e-02 -1.19274810e-01\n",
      "  -1.18829024e-01 -2.39966612e-01 -6.42573222e-02 -3.98456975e-03\n",
      "  -6.05391461e-02  1.45702141e+00 -2.81750510e-03 -6.50004630e-02\n",
      "  -3.98456975e-03 -7.18510772e-02 -7.40506423e-02 -5.87292718e-02\n",
      "  -4.87769458e-02 -5.71429709e-02 -6.15219557e-02 -5.84564443e-02\n",
      "  -5.91361853e-02 -5.99418408e-02 -5.67923386e-02 -5.25565320e-02\n",
      "  -5.36836675e-02 -5.35347384e-02 -7.08960379e-02 -4.85310492e-02\n",
      "  -3.65432708e-02 -1.89323024e-01 -6.30023297e-03 -2.48911399e-02\n",
      "  -4.58269026e-02 -2.34102745e-02 -4.58131906e-01 -7.96932929e-03\n",
      "  -2.48911399e-02 -2.61372871e-02 -2.27212249e-02 -2.48254680e-01\n",
      "  -4.41437035e-02 -4.97484941e-02 -5.50786426e-02 -6.58570391e-02\n",
      "  -6.16518308e-02 -1.37964817e-01 -4.88010073e-03 -7.96932929e-03\n",
      "  -7.22407334e-02 -8.91005174e-03 -6.92949256e-02 -7.89330733e-02\n",
      "  -7.41589443e-02 -7.01571198e-02 -7.43750855e-02 -1.91126634e-02\n",
      "  -3.12890480e-01 -1.12050260e-01 -2.86061375e-02 -1.39982667e-01\n",
      "  -6.18441156e-01 -5.39062984e-02 -3.17675614e-02 -1.97262943e-02\n",
      "   8.25155576e-01 -4.64317742e-02]\n",
      " [-1.10249666e-01 -7.76227089e-03 -4.91866391e-03 -1.40888677e-02\n",
      "  -8.94867800e-02 -7.73601574e-03 -9.50760523e-02 -2.70229257e-02\n",
      "  -8.09267134e-01 -1.16636889e-02 -3.66520148e-02 -2.44366043e-02\n",
      "  -1.23851995e-02 -2.61801282e-02 -1.86099702e-02 -4.12213615e-02\n",
      "   0.00000000e+00 -2.81750510e-03 -9.75313348e-02  3.22175508e-01\n",
      "  -1.20300075e-01 -6.37212824e-01 -6.31932543e-01  2.74639045e+00\n",
      "   2.71535234e+00 -1.13944518e+00 -1.69323146e-02 -3.74561400e-01\n",
      "   7.34337380e-01 -8.73094751e-01 -1.00511464e+00 -6.85549945e-02\n",
      "  -4.80194395e-01 -2.89104644e-01 -6.39535482e-01 -6.24874248e-01\n",
      "   2.87439693e+00  2.75390135e+00 -2.65430168e-01  4.76177584e-01\n",
      "  -3.67556296e-01 -3.85572788e-02 -2.40796566e-02 -8.30056435e-02\n",
      "  -3.98456975e-03 -8.74011505e-02 -7.52869153e-02 -7.65561295e-02\n",
      "  -6.59178045e-02 -6.70023207e-02 -6.44438975e-02 -6.54912835e-02\n",
      "  -6.73600142e-02 -2.78096260e-01 -5.87972836e-02 -1.94371562e-01\n",
      "  -1.58232847e-01 -6.21686592e-02 -6.14569168e-02 -1.19274810e-01\n",
      "  -1.18829024e-01 -2.39966612e-01 -6.42573222e-02 -3.98456975e-03\n",
      "  -6.05391461e-02 -6.86331711e-01 -2.81750510e-03 -6.50004630e-02\n",
      "  -3.98456975e-03 -7.18510772e-02 -7.40506423e-02 -5.87292718e-02\n",
      "  -4.87769458e-02 -5.71429709e-02 -6.15219557e-02 -5.84564443e-02\n",
      "  -5.91361853e-02 -5.99418408e-02 -5.67923386e-02 -5.25565320e-02\n",
      "  -5.36836675e-02 -5.35347384e-02 -7.08960379e-02 -4.85310492e-02\n",
      "  -3.65432708e-02 -1.89323024e-01 -6.30023297e-03 -2.48911399e-02\n",
      "  -4.58269026e-02 -2.34102745e-02  2.18277746e+00 -7.96932929e-03\n",
      "  -2.48911399e-02 -2.61372871e-02 -2.27212249e-02 -2.48254680e-01\n",
      "  -4.41437035e-02 -4.97484941e-02 -5.50786426e-02 -6.58570391e-02\n",
      "  -6.16518308e-02 -1.37964817e-01 -4.88010073e-03 -7.96932929e-03\n",
      "  -7.22407334e-02 -8.91005174e-03 -6.92949256e-02 -7.89330733e-02\n",
      "  -7.41589443e-02 -7.01571198e-02 -7.43750855e-02 -1.91126634e-02\n",
      "   3.19600648e+00 -1.12050260e-01 -2.86061375e-02 -1.39982667e-01\n",
      "  -6.18441156e-01 -5.39062984e-02 -3.17675614e-02 -1.97262943e-02\n",
      "  -1.21189268e+00 -4.64317742e-02]]\n"
     ]
    }
   ],
   "source": [
    "from sklearn.preprocessing import StandardScaler\n",
    "\n",
    "scaler= StandardScaler()\n",
    "X_scaled= scaler.fit_transform(X_encoded)\n",
    "print('First 5 rows of scaled features:\\n', X_scaled[:5])"
   ]
  },
  {
   "cell_type": "code",
   "execution_count": 50,
   "id": "03b0bf60-62cf-4e0a-9140-e29af4b65598",
   "metadata": {
    "tags": []
   },
   "outputs": [
    {
     "name": "stdout",
     "output_type": "stream",
     "text": [
      "Requirement already satisfied: xgboost in /opt/anaconda3/lib/python3.11/site-packages (2.1.1)\n",
      "Requirement already satisfied: numpy in /opt/anaconda3/lib/python3.11/site-packages (from xgboost) (1.26.4)\n",
      "Requirement already satisfied: scipy in /opt/anaconda3/lib/python3.11/site-packages (from xgboost) (1.11.4)\n"
     ]
    }
   ],
   "source": [
    "from sklearn.ensemble import RandomForestClassifier\n",
    "from sklearn.metrics import accuracy_score, classification_report\n",
    "from sklearn.model_selection import train_test_split\n",
    "!pip install xgboost\n",
    "import xgboost as xgb\n",
    "import numpy as np"
   ]
  },
  {
   "cell_type": "code",
   "execution_count": 60,
   "id": "aa4be009-0992-4313-97de-c0a354557cf2",
   "metadata": {
    "tags": []
   },
   "outputs": [
    {
     "name": "stdout",
     "output_type": "stream",
     "text": [
      "Training set shape: (100777, 122)\n",
      "Testing set shape: (25195, 122)\n"
     ]
    }
   ],
   "source": [
    "# Split the scaled feature set and encoded labels into training and testing sets\n",
    "X_train, X_test, y_train, y_test = train_test_split(X_scaled, y_encoded, test_size=0.2, random_state=42)\n",
    "unique_classes, class_counts = np.unique(y_train, return_counts=True)\n",
    "class_weights = {cls: max(class_counts) / count for cls, count in zip(unique_classes, class_counts)}\n",
    "\n",
    "# Check the shapes of the training and testing sets\n",
    "print(\"Training set shape:\", X_train.shape)\n",
    "print(\"Testing set shape:\", X_test.shape)\n"
   ]
  },
  {
   "cell_type": "code",
   "execution_count": 62,
   "id": "41e04f70-7fcb-4d57-b4a9-7adc6e4d99ba",
   "metadata": {
    "tags": []
   },
   "outputs": [
    {
     "name": "stdout",
     "output_type": "stream",
     "text": [
      "Training set label distribution: {0: 755, 1: 23, 2: 8, 3: 39, 4: 9, 5: 2856, 6: 16, 7: 6, 8: 6, 9: 32976, 10: 1195, 11: 53956, 12: 2, 13: 3, 14: 165, 15: 2348, 16: 8, 17: 2884, 18: 2095, 19: 1, 20: 696, 21: 714, 22: 16}\n",
      "Test set label distribution: {0: 201, 1: 7, 3: 14, 4: 2, 5: 743, 6: 2, 7: 3, 8: 1, 9: 8238, 10: 298, 11: 13386, 12: 1, 13: 1, 14: 36, 15: 583, 16: 2, 17: 749, 18: 551, 19: 1, 20: 196, 21: 176, 22: 4}\n"
     ]
    }
   ],
   "source": [
    "import numpy as np\n",
    "\n",
    "# Check the distribution of labels in the training set\n",
    "unique, counts = np.unique(y_train, return_counts=True)\n",
    "print(\"Training set label distribution:\", dict(zip(unique, counts)))\n",
    "\n",
    "# Check the distribution of labels in the test set\n",
    "unique, counts = np.unique(y_test, return_counts=True)\n",
    "print(\"Test set label distribution:\", dict(zip(unique, counts)))\n"
   ]
  },
  {
   "cell_type": "code",
   "execution_count": 64,
   "id": "eff557da-32d5-42bf-b29c-c14f96546976",
   "metadata": {
    "tags": []
   },
   "outputs": [
    {
     "name": "stdout",
     "output_type": "stream",
     "text": [
      "Random Forest Accuracy: 0.9982933121651121\n",
      "Random Forest Classification Report:\n",
      "              precision    recall  f1-score   support\n",
      "\n",
      "           0       1.00      1.00      1.00       201\n",
      "           1       1.00      0.71      0.83         7\n",
      "           3       1.00      0.79      0.88        14\n",
      "           4       1.00      1.00      1.00         2\n",
      "           5       1.00      0.99      0.99       743\n",
      "           6       0.67      1.00      0.80         2\n",
      "           7       1.00      0.00      0.00         3\n",
      "           8       1.00      0.00      0.00         1\n",
      "           9       1.00      1.00      1.00      8238\n",
      "          10       0.98      0.99      0.99       298\n",
      "          11       1.00      1.00      1.00     13386\n",
      "          12       1.00      0.00      0.00         1\n",
      "          13       1.00      1.00      1.00         1\n",
      "          14       1.00      1.00      1.00        36\n",
      "          15       1.00      1.00      1.00       583\n",
      "          16       0.00      0.00      0.00         2\n",
      "          17       1.00      0.99      0.99       749\n",
      "          18       1.00      1.00      1.00       551\n",
      "          19       1.00      0.00      0.00         1\n",
      "          20       1.00      1.00      1.00       196\n",
      "          21       0.99      0.96      0.98       176\n",
      "          22       1.00      0.75      0.86         4\n",
      "\n",
      "    accuracy                           1.00     25195\n",
      "   macro avg       0.94      0.74      0.74     25195\n",
      "weighted avg       1.00      1.00      1.00     25195\n",
      "\n"
     ]
    }
   ],
   "source": [
    "rf_model = RandomForestClassifier(n_estimators=100, random_state=42, class_weight='balanced')\n",
    "rf_model.fit(X_train, y_train)\n",
    "y_pred_rf = rf_model.predict(X_test)\n",
    "\n",
    "print(\"Random Forest Accuracy:\", accuracy_score(y_test, y_pred_rf))\n",
    "print(\"Random Forest Classification Report:\")\n",
    "print(classification_report(y_test, y_pred_rf, zero_division=1))\n"
   ]
  },
  {
   "cell_type": "code",
   "execution_count": 68,
   "id": "c3ad2afe-a613-4d26-9621-75febef597ed",
   "metadata": {
    "tags": []
   },
   "outputs": [
    {
     "name": "stdout",
     "output_type": "stream",
     "text": [
      "XGBoost Accuracy: 0.9987299067275253\n",
      "XGBoost Classification Report:\n",
      "              precision    recall  f1-score   support\n",
      "\n",
      "           0       1.00      1.00      1.00       201\n",
      "           1       0.86      0.86      0.86         7\n",
      "           2       0.00      1.00      0.00         0\n",
      "           3       1.00      0.86      0.92        14\n",
      "           4       1.00      1.00      1.00         2\n",
      "           5       1.00      1.00      1.00       743\n",
      "           6       0.50      0.50      0.50         2\n",
      "           7       1.00      0.33      0.50         3\n",
      "           8       0.00      0.00      0.00         1\n",
      "           9       1.00      1.00      1.00      8238\n",
      "          10       0.98      0.99      0.99       298\n",
      "          11       1.00      1.00      1.00     13386\n",
      "          12       0.00      0.00      0.00         1\n",
      "          13       1.00      1.00      1.00         1\n",
      "          14       1.00      1.00      1.00        36\n",
      "          15       1.00      1.00      1.00       583\n",
      "          16       0.25      0.50      0.33         2\n",
      "          17       1.00      0.99      1.00       749\n",
      "          18       1.00      1.00      1.00       551\n",
      "          19       1.00      0.00      0.00         1\n",
      "          20       1.00      1.00      1.00       196\n",
      "          21       1.00      0.99      1.00       176\n",
      "          22       1.00      1.00      1.00         4\n",
      "\n",
      "    accuracy                           1.00     25195\n",
      "   macro avg       0.81      0.78      0.74     25195\n",
      "weighted avg       1.00      1.00      1.00     25195\n",
      "\n"
     ]
    }
   ],
   "source": [
    "# Train the XGBoost model with class weights\n",
    "# Create sample weights based on the class of each sample in the training set\n",
    "sample_weights = np.array([class_weights[label] for label in y_train])\n",
    "\n",
    "xgb_model = xgb.XGBClassifier(n_estimators=100, eval_metric='mlogloss', random_state=42)\n",
    "xgb_model.fit(X_train, y_train, sample_weight=sample_weights)\n",
    "y_pred_xgb = xgb_model.predict(X_test)\n",
    "\n",
    "# Evaluate the XGBoost model\n",
    "print(\"XGBoost Accuracy:\", accuracy_score(y_test, y_pred_xgb))\n",
    "print(\"XGBoost Classification Report:\")\n",
    "print(classification_report(y_test, y_pred_xgb, zero_division=1))"
   ]
  },
  {
   "cell_type": "code",
   "execution_count": 70,
   "id": "8947d055-d328-4b0c-824b-022f5ca6fb27",
   "metadata": {
    "tags": []
   },
   "outputs": [
    {
     "name": "stdout",
     "output_type": "stream",
     "text": [
      "SVM Accuracy: 0.973407422107561\n",
      "SVM Classification Report:\n",
      "              precision    recall  f1-score   support\n",
      "\n",
      "           0       0.89      0.99      0.94       201\n",
      "           1       0.10      0.57      0.17         7\n",
      "           2       0.00      1.00      0.00         0\n",
      "           3       0.87      0.93      0.90        14\n",
      "           4       1.00      1.00      1.00         2\n",
      "           5       0.93      0.98      0.96       743\n",
      "           6       0.67      1.00      0.80         2\n",
      "           7       0.00      0.00      0.00         3\n",
      "           8       0.08      1.00      0.15         1\n",
      "           9       1.00      1.00      1.00      8238\n",
      "          10       0.88      1.00      0.94       298\n",
      "          11       1.00      0.95      0.98     13386\n",
      "          12       1.00      1.00      1.00         1\n",
      "          13       1.00      1.00      1.00         1\n",
      "          14       0.95      1.00      0.97        36\n",
      "          15       0.99      0.99      0.99       583\n",
      "          16       0.00      0.00      0.00         2\n",
      "          17       0.80      0.98      0.88       749\n",
      "          18       0.95      1.00      0.97       551\n",
      "          19       1.00      0.00      0.00         1\n",
      "          20       1.00      1.00      1.00       196\n",
      "          21       0.44      0.95      0.60       176\n",
      "          22       1.00      0.75      0.86         4\n",
      "\n",
      "    accuracy                           0.97     25195\n",
      "   macro avg       0.72      0.83      0.70     25195\n",
      "weighted avg       0.98      0.97      0.98     25195\n",
      "\n"
     ]
    }
   ],
   "source": [
    "#Train the SVM model with class weights\n",
    "svm_model = SVC(kernel='linear', class_weight='balanced', random_state=42)\n",
    "svm_model.fit(X_train, y_train)\n",
    "y_pred_svm = svm_model.predict(X_test)\n",
    "\n",
    "# Evaluate the SVM model\n",
    "print(\"SVM Accuracy:\", accuracy_score(y_test, y_pred_svm))\n",
    "print(\"SVM Classification Report:\")\n",
    "print(classification_report(y_test, y_pred_svm, zero_division=1))"
   ]
  },
  {
   "cell_type": "code",
   "execution_count": null,
   "id": "ec6b25e5-832e-40af-be05-5b9af9a90639",
   "metadata": {},
   "outputs": [],
   "source": []
  }
 ],
 "metadata": {
  "kernelspec": {
   "display_name": "Python 3 (ipykernel)",
   "language": "python",
   "name": "python3"
  },
  "language_info": {
   "codemirror_mode": {
    "name": "ipython",
    "version": 3
   },
   "file_extension": ".py",
   "mimetype": "text/x-python",
   "name": "python",
   "nbconvert_exporter": "python",
   "pygments_lexer": "ipython3",
   "version": "3.11.7"
  }
 },
 "nbformat": 4,
 "nbformat_minor": 5
}
