{
 "cells": [
  {
   "cell_type": "code",
   "execution_count": 2,
   "id": "f146cd89-d9d4-4f9f-852f-457d4110fbf3",
   "metadata": {
    "tags": []
   },
   "outputs": [
    {
     "name": "stdout",
     "output_type": "stream",
     "text": [
      "Requirement already satisfied: pandas in /opt/anaconda3/lib/python3.11/site-packages (2.1.4)\n",
      "Requirement already satisfied: scikit-learn in /opt/anaconda3/lib/python3.11/site-packages (1.2.2)\n",
      "Requirement already satisfied: numpy<2,>=1.23.2 in /opt/anaconda3/lib/python3.11/site-packages (from pandas) (1.26.4)\n",
      "Requirement already satisfied: python-dateutil>=2.8.2 in /opt/anaconda3/lib/python3.11/site-packages (from pandas) (2.8.2)\n",
      "Requirement already satisfied: pytz>=2020.1 in /opt/anaconda3/lib/python3.11/site-packages (from pandas) (2023.3.post1)\n",
      "Requirement already satisfied: tzdata>=2022.1 in /opt/anaconda3/lib/python3.11/site-packages (from pandas) (2023.3)\n",
      "Requirement already satisfied: scipy>=1.3.2 in /opt/anaconda3/lib/python3.11/site-packages (from scikit-learn) (1.11.4)\n",
      "Requirement already satisfied: joblib>=1.1.1 in /opt/anaconda3/lib/python3.11/site-packages (from scikit-learn) (1.2.0)\n",
      "Requirement already satisfied: threadpoolctl>=2.0.0 in /opt/anaconda3/lib/python3.11/site-packages (from scikit-learn) (2.2.0)\n",
      "Requirement already satisfied: six>=1.5 in /opt/anaconda3/lib/python3.11/site-packages (from python-dateutil>=2.8.2->pandas) (1.16.0)\n"
     ]
    }
   ],
   "source": [
    "!pip install pandas scikit-learn"
   ]
  },
  {
   "cell_type": "code",
   "execution_count": 4,
   "id": "83e78939-d3ea-444f-8148-580a81f6ee46",
   "metadata": {
    "tags": []
   },
   "outputs": [],
   "source": [
    "import pandas as pd\n",
    "import os"
   ]
  },
  {
   "cell_type": "code",
   "execution_count": 6,
   "id": "6216e408-ff98-4d09-864b-29d7adaa804b",
   "metadata": {
    "tags": []
   },
   "outputs": [],
   "source": [
    "nsl_kdd_path = '/Users/marlenawasiak/Desktop/Data_Collection/NSL_KDD_Train.csv'"
   ]
  },
  {
   "cell_type": "code",
   "execution_count": 8,
   "id": "ad776770-e282-43ae-927c-c97b05a95036",
   "metadata": {
    "tags": []
   },
   "outputs": [],
   "source": [
    "nsl_kdd_df= pd.read_csv(nsl_kdd_path)"
   ]
  },
  {
   "cell_type": "code",
   "execution_count": 10,
   "id": "73dcfba5-fcd6-4614-966b-ffc0f42d82df",
   "metadata": {
    "tags": []
   },
   "outputs": [
    {
     "name": "stdout",
     "output_type": "stream",
     "text": [
      "NSL-KDD Dataset:\n",
      "   0  tcp ftp_data   SF  491   0.1  0.2  0.3  0.4  0.5  ...   25  0.17  0.03  \\\n",
      "0  0  udp    other   SF  146     0    0    0    0    0  ...    1  0.00  0.60   \n",
      "1  0  tcp  private   S0    0     0    0    0    0    0  ...   26  0.10  0.05   \n",
      "2  0  tcp     http   SF  232  8153    0    0    0    0  ...  255  1.00  0.00   \n",
      "3  0  tcp     http   SF  199   420    0    0    0    0  ...  255  1.00  0.00   \n",
      "4  0  tcp  private  REJ    0     0    0    0    0    0  ...   19  0.07  0.07   \n",
      "\n",
      "   0.17.1  0.25  0.26  0.27  0.05  0.28   normal  \n",
      "0    0.88  0.00  0.00  0.00   0.0  0.00   normal  \n",
      "1    0.00  0.00  1.00  1.00   0.0  0.00  neptune  \n",
      "2    0.03  0.04  0.03  0.01   0.0  0.01   normal  \n",
      "3    0.00  0.00  0.00  0.00   0.0  0.00   normal  \n",
      "4    0.00  0.00  0.00  0.00   1.0  1.00  neptune  \n",
      "\n",
      "[5 rows x 42 columns]\n"
     ]
    }
   ],
   "source": [
    "print('NSL-KDD Dataset:')\n",
    "print(nsl_kdd_df.head())"
   ]
  },
  {
   "cell_type": "code",
   "execution_count": 12,
   "id": "a8195537-4e15-4f32-8f3a-55da6567d81a",
   "metadata": {
    "tags": []
   },
   "outputs": [
    {
     "name": "stdout",
     "output_type": "stream",
     "text": [
      "Missing values:\n",
      "0           0\n",
      "tcp         0\n",
      "ftp_data    0\n",
      "SF          0\n",
      "491         0\n",
      "0.1         0\n",
      "0.2         0\n",
      "0.3         0\n",
      "0.4         0\n",
      "0.5         0\n",
      "0.6         0\n",
      "0.7         0\n",
      "0.8         0\n",
      "0.9         0\n",
      "0.10        0\n",
      "0.11        0\n",
      "0.12        0\n",
      "0.13        0\n",
      "0.14        0\n",
      "0.15        0\n",
      "0.16        0\n",
      "0.18        0\n",
      "2           0\n",
      "2.1         0\n",
      "0.19        0\n",
      "0.20        0\n",
      "0.21        0\n",
      "0.22        0\n",
      "1           0\n",
      "0.23        0\n",
      "0.24        0\n",
      "150         0\n",
      "25          0\n",
      "0.17        0\n",
      "0.03        0\n",
      "0.17.1      0\n",
      "0.25        0\n",
      "0.26        0\n",
      "0.27        0\n",
      "0.05        0\n",
      "0.28        0\n",
      "normal      0\n",
      "dtype: int64\n"
     ]
    }
   ],
   "source": [
    "print(\"Missing values:\")\n",
    "print(nsl_kdd_df.isnull().sum())"
   ]
  },
  {
   "cell_type": "code",
   "execution_count": 14,
   "id": "eabf7913-5699-4701-ba91-22d180479fd9",
   "metadata": {
    "tags": []
   },
   "outputs": [
    {
     "name": "stdout",
     "output_type": "stream",
     "text": [
      "Index(['0', 'tcp', 'ftp_data', 'SF', '491', '0.1', '0.2', '0.3', '0.4', '0.5',\n",
      "       '0.6', '0.7', '0.8', '0.9', '0.10', '0.11', '0.12', '0.13', '0.14',\n",
      "       '0.15', '0.16', '0.18', '2', '2.1', '0.19', '0.20', '0.21', '0.22', '1',\n",
      "       '0.23', '0.24', '150', '25', '0.17', '0.03', '0.17.1', '0.25', '0.26',\n",
      "       '0.27', '0.05', '0.28', 'normal'],\n",
      "      dtype='object')\n"
     ]
    }
   ],
   "source": [
    "print(nsl_kdd_df.columns)"
   ]
  },
  {
   "cell_type": "code",
   "execution_count": 16,
   "id": "1932eb41-31f9-4479-9188-bb9ad155e365",
   "metadata": {
    "tags": []
   },
   "outputs": [],
   "source": [
    "x= nsl_kdd_df.drop('normal', axis= 1)\n",
    "y= nsl_kdd_df['normal']"
   ]
  },
  {
   "cell_type": "code",
   "execution_count": 18,
   "id": "0b0117d1-4dbc-47d8-b779-d3fe6ecb8d62",
   "metadata": {
    "tags": []
   },
   "outputs": [
    {
     "name": "stdout",
     "output_type": "stream",
     "text": [
      "Features shape X:  (125972, 41)\n",
      "Features shape Y: (125972,)\n"
     ]
    }
   ],
   "source": [
    "print('Features shape X: ', x.shape)\n",
    "print('Features shape Y:', y.shape)"
   ]
  },
  {
   "cell_type": "code",
   "execution_count": 20,
   "id": "cf294354-fe58-4468-9996-6b7efba176d1",
   "metadata": {
    "tags": []
   },
   "outputs": [
    {
     "data": {
      "text/plain": [
       "(   0  tcp ftp_data   SF  491   0.1  0.2  0.3  0.4  0.5  ...  150   25  0.17  \\\n",
       " 0  0  udp    other   SF  146     0    0    0    0    0  ...  255    1  0.00   \n",
       " 1  0  tcp  private   S0    0     0    0    0    0    0  ...  255   26  0.10   \n",
       " 2  0  tcp     http   SF  232  8153    0    0    0    0  ...   30  255  1.00   \n",
       " 3  0  tcp     http   SF  199   420    0    0    0    0  ...  255  255  1.00   \n",
       " 4  0  tcp  private  REJ    0     0    0    0    0    0  ...  255   19  0.07   \n",
       " \n",
       "    0.03  0.17.1  0.25  0.26  0.27  0.05  0.28  \n",
       " 0  0.60    0.88  0.00  0.00  0.00   0.0  0.00  \n",
       " 1  0.05    0.00  0.00  1.00  1.00   0.0  0.00  \n",
       " 2  0.00    0.03  0.04  0.03  0.01   0.0  0.01  \n",
       " 3  0.00    0.00  0.00  0.00  0.00   0.0  0.00  \n",
       " 4  0.07    0.00  0.00  0.00  0.00   1.0  1.00  \n",
       " \n",
       " [5 rows x 41 columns],\n",
       " 0     normal\n",
       " 1    neptune\n",
       " 2     normal\n",
       " 3     normal\n",
       " 4    neptune\n",
       " Name: normal, dtype: object)"
      ]
     },
     "execution_count": 20,
     "metadata": {},
     "output_type": "execute_result"
    }
   ],
   "source": [
    "x.head(),y.head()"
   ]
  },
  {
   "cell_type": "code",
   "execution_count": 22,
   "id": "0af26805-1b5e-44a8-818a-b362a10b88d5",
   "metadata": {
    "tags": []
   },
   "outputs": [
    {
     "name": "stdout",
     "output_type": "stream",
     "text": [
      "First 5 encoded labels: [11  9 11 11  9]\n",
      "Label classes: ['back' 'buffer_overflow' 'ftp_write' 'guess_passwd' 'imap' 'ipsweep'\n",
      " 'land' 'loadmodule' 'multihop' 'neptune' 'nmap' 'normal' 'perl' 'phf'\n",
      " 'pod' 'portsweep' 'rootkit' 'satan' 'smurf' 'spy' 'teardrop'\n",
      " 'warezclient' 'warezmaster']\n"
     ]
    }
   ],
   "source": [
    "from sklearn.preprocessing import LabelEncoder\n",
    "label_encoder= LabelEncoder()\n",
    "y_encoded= label_encoder.fit_transform(y)\n",
    "\n",
    "print('First 5 encoded labels:', y_encoded[:5])\n",
    "print('Label classes:', label_encoder.classes_)"
   ]
  },
  {
   "cell_type": "code",
   "execution_count": 24,
   "id": "73adb62d-6378-48cb-8ead-576ae9660e3e",
   "metadata": {
    "tags": []
   },
   "outputs": [
    {
     "name": "stdout",
     "output_type": "stream",
     "text": [
      "   0  491   0.1  0.2  0.3  0.4  0.5  0.6  0.7  0.8  ...  SF_REJ  SF_RSTO  \\\n",
      "0  0  146     0    0    0    0    0    0    0    0  ...   False    False   \n",
      "1  0    0     0    0    0    0    0    0    0    0  ...   False    False   \n",
      "2  0  232  8153    0    0    0    0    0    1    0  ...   False    False   \n",
      "3  0  199   420    0    0    0    0    0    1    0  ...   False    False   \n",
      "4  0    0     0    0    0    0    0    0    0    0  ...    True    False   \n",
      "\n",
      "   SF_RSTOS0  SF_RSTR  SF_S0  SF_S1  SF_S2  SF_S3  SF_SF  SF_SH  \n",
      "0      False    False  False  False  False  False   True  False  \n",
      "1      False    False   True  False  False  False  False  False  \n",
      "2      False    False  False  False  False  False   True  False  \n",
      "3      False    False  False  False  False  False   True  False  \n",
      "4      False    False  False  False  False  False  False  False  \n",
      "\n",
      "[5 rows x 122 columns]\n"
     ]
    }
   ],
   "source": [
    "non_numeric_columns= x.select_dtypes(include=['object']).columns\n",
    "X_encoded= pd.get_dummies(x, columns=non_numeric_columns)\n",
    "print(X_encoded.head())\n",
    "#print(x.dtypes)\n"
   ]
  },
  {
   "cell_type": "code",
   "execution_count": 26,
   "id": "30fa490b-5d96-41d5-89b7-ebd16bc15c71",
   "metadata": {
    "tags": []
   },
   "outputs": [
    {
     "name": "stdout",
     "output_type": "stream",
     "text": [
      "First 5 rows of scaled features:\n",
      " [[-1.10249666e-01 -7.73740006e-03 -4.91866391e-03 -1.40888677e-02\n",
      "  -8.94867800e-02 -7.73601574e-03 -9.50760523e-02 -2.70229257e-02\n",
      "  -8.09267134e-01 -1.16636889e-02 -3.66520148e-02 -2.44366043e-02\n",
      "  -1.23851995e-02 -2.61801282e-02 -1.86099702e-02 -4.12213615e-02\n",
      "   0.00000000e+00 -2.81750510e-03 -9.75313348e-02 -6.20986958e-01\n",
      "  -3.68111748e-01 -6.37212824e-01 -6.31932543e-01 -3.74363934e-01\n",
      "  -3.74433298e-01 -1.32141976e+00  4.82196096e-01 -3.74561400e-01\n",
      "   7.34337380e-01 -1.03569278e+00 -1.16103461e+00  2.73683944e+00\n",
      "   2.36772855e+00 -2.89104644e-01 -6.39535482e-01 -6.24874248e-01\n",
      "  -3.87634945e-01 -3.76388732e-01 -2.65430168e-01 -2.10005685e+00\n",
      "   2.72067166e+00 -3.85572788e-02 -2.40796566e-02 -8.30056435e-02\n",
      "  -3.98456975e-03 -8.74011505e-02 -7.52869153e-02 -7.65561295e-02\n",
      "  -6.59178045e-02 -6.70023207e-02 -6.44438975e-02 -6.54912835e-02\n",
      "  -6.73600142e-02 -2.78096260e-01 -5.87972836e-02 -1.94371562e-01\n",
      "  -1.58232847e-01 -6.21686592e-02 -6.14569168e-02 -1.19274810e-01\n",
      "  -1.18829024e-01 -2.39966612e-01 -6.42573222e-02 -3.98456975e-03\n",
      "  -6.05391461e-02 -6.86331711e-01 -2.81750510e-03 -6.50004630e-02\n",
      "  -3.98456975e-03 -7.18510772e-02 -7.40506423e-02 -5.87292718e-02\n",
      "  -4.87769458e-02 -5.71429709e-02 -6.15219557e-02 -5.84564443e-02\n",
      "  -5.91361853e-02 -5.99418408e-02 -5.67923386e-02 -5.25565320e-02\n",
      "  -5.36836675e-02 -5.35347384e-02 -7.08960379e-02 -4.85310492e-02\n",
      "  -3.65432708e-02  5.28197774e+00 -6.30023297e-03 -2.48911399e-02\n",
      "  -4.58269026e-02 -2.34102745e-02 -4.58131906e-01 -7.96932929e-03\n",
      "  -2.48911399e-02 -2.61372871e-02 -2.27212249e-02 -2.48254680e-01\n",
      "  -4.41437035e-02 -4.97484941e-02 -5.50786426e-02 -6.58570391e-02\n",
      "  -6.16518308e-02 -1.37964817e-01 -4.88010073e-03 -7.96932929e-03\n",
      "  -7.22407334e-02 -8.91005174e-03 -6.92949256e-02 -7.89330733e-02\n",
      "  -7.41589443e-02 -7.01571198e-02 -7.43750855e-02 -1.91126634e-02\n",
      "  -3.12890480e-01 -1.12050260e-01 -2.86061375e-02 -1.39982667e-01\n",
      "  -6.18441156e-01 -5.39062984e-02 -3.17675614e-02 -1.97262943e-02\n",
      "   8.25155576e-01 -4.64317742e-02]\n",
      " [-1.10249666e-01 -7.76227089e-03 -4.91866391e-03 -1.40888677e-02\n",
      "  -8.94867800e-02 -7.73601574e-03 -9.50760523e-02 -2.70229257e-02\n",
      "  -8.09267134e-01 -1.16636889e-02 -3.66520148e-02 -2.44366043e-02\n",
      "  -1.23851995e-02 -2.61801282e-02 -1.86099702e-02 -4.12213615e-02\n",
      "   0.00000000e+00 -2.81750510e-03 -9.75313348e-02  3.39641479e-01\n",
      "  -2.99275172e-01  1.60265505e+00  1.60509487e+00 -3.74363934e-01\n",
      "  -3.74433298e-01 -1.38966023e+00  3.85263977e-02 -3.74561400e-01\n",
      "   7.34337380e-01 -8.09862183e-01 -9.38291799e-01 -1.74418935e-01\n",
      "  -4.80194395e-01 -2.89104644e-01  1.60875023e+00  1.61894633e+00\n",
      "  -3.87634945e-01 -3.76388732e-01 -2.65430168e-01  4.76177584e-01\n",
      "  -3.67556296e-01 -3.85572788e-02 -2.40796566e-02 -8.30056435e-02\n",
      "  -3.98456975e-03 -8.74011505e-02 -7.52869153e-02 -7.65561295e-02\n",
      "  -6.59178045e-02 -6.70023207e-02 -6.44438975e-02 -6.54912835e-02\n",
      "  -6.73600142e-02 -2.78096260e-01 -5.87972836e-02 -1.94371562e-01\n",
      "  -1.58232847e-01 -6.21686592e-02 -6.14569168e-02 -1.19274810e-01\n",
      "  -1.18829024e-01 -2.39966612e-01 -6.42573222e-02 -3.98456975e-03\n",
      "  -6.05391461e-02 -6.86331711e-01 -2.81750510e-03 -6.50004630e-02\n",
      "  -3.98456975e-03 -7.18510772e-02 -7.40506423e-02 -5.87292718e-02\n",
      "  -4.87769458e-02 -5.71429709e-02 -6.15219557e-02 -5.84564443e-02\n",
      "  -5.91361853e-02 -5.99418408e-02 -5.67923386e-02 -5.25565320e-02\n",
      "  -5.36836675e-02 -5.35347384e-02 -7.08960379e-02 -4.85310492e-02\n",
      "  -3.65432708e-02 -1.89323024e-01 -6.30023297e-03 -2.48911399e-02\n",
      "  -4.58269026e-02 -2.34102745e-02  2.18277746e+00 -7.96932929e-03\n",
      "  -2.48911399e-02 -2.61372871e-02 -2.27212249e-02 -2.48254680e-01\n",
      "  -4.41437035e-02 -4.97484941e-02 -5.50786426e-02 -6.58570391e-02\n",
      "  -6.16518308e-02 -1.37964817e-01 -4.88010073e-03 -7.96932929e-03\n",
      "  -7.22407334e-02 -8.91005174e-03 -6.92949256e-02 -7.89330733e-02\n",
      "  -7.41589443e-02 -7.01571198e-02 -7.43750855e-02 -1.91126634e-02\n",
      "  -3.12890480e-01 -1.12050260e-01 -2.86061375e-02 -1.39982667e-01\n",
      "   1.61696871e+00 -5.39062984e-02 -3.17675614e-02 -1.97262943e-02\n",
      "  -1.21189268e+00 -4.64317742e-02]\n",
      " [-1.10249666e-01 -7.72275012e-03 -2.89119454e-03 -1.40888677e-02\n",
      "  -8.94867800e-02 -7.73601574e-03 -9.50760523e-02 -2.70229257e-02\n",
      "   1.23568592e+00 -1.16636889e-02 -3.66520148e-02 -2.44366043e-02\n",
      "  -1.23851995e-02 -2.61801282e-02 -1.86099702e-02 -4.12213615e-02\n",
      "   0.00000000e+00 -2.81750510e-03 -9.75313348e-02 -6.90850844e-01\n",
      "  -3.13042487e-01 -1.89239249e-01 -1.84527059e-01 -3.74363934e-01\n",
      "  -3.74433298e-01  7.71287988e-01 -3.49684589e-01 -3.74561400e-01\n",
      "  -1.53366668e+00  1.25874613e+00  1.06639349e+00 -4.39078787e-01\n",
      "  -3.83106113e-01  6.62494892e-02 -5.72086910e-01 -6.02436043e-01\n",
      "  -3.87634945e-01 -3.45085831e-01 -2.65430168e-01  4.76177584e-01\n",
      "  -3.67556296e-01 -3.85572788e-02 -2.40796566e-02 -8.30056435e-02\n",
      "  -3.98456975e-03 -8.74011505e-02 -7.52869153e-02 -7.65561295e-02\n",
      "  -6.59178045e-02 -6.70023207e-02 -6.44438975e-02 -6.54912835e-02\n",
      "  -6.73600142e-02 -2.78096260e-01 -5.87972836e-02 -1.94371562e-01\n",
      "  -1.58232847e-01 -6.21686592e-02 -6.14569168e-02 -1.19274810e-01\n",
      "  -1.18829024e-01 -2.39966612e-01 -6.42573222e-02 -3.98456975e-03\n",
      "  -6.05391461e-02  1.45702141e+00 -2.81750510e-03 -6.50004630e-02\n",
      "  -3.98456975e-03 -7.18510772e-02 -7.40506423e-02 -5.87292718e-02\n",
      "  -4.87769458e-02 -5.71429709e-02 -6.15219557e-02 -5.84564443e-02\n",
      "  -5.91361853e-02 -5.99418408e-02 -5.67923386e-02 -5.25565320e-02\n",
      "  -5.36836675e-02 -5.35347384e-02 -7.08960379e-02 -4.85310492e-02\n",
      "  -3.65432708e-02 -1.89323024e-01 -6.30023297e-03 -2.48911399e-02\n",
      "  -4.58269026e-02 -2.34102745e-02 -4.58131906e-01 -7.96932929e-03\n",
      "  -2.48911399e-02 -2.61372871e-02 -2.27212249e-02 -2.48254680e-01\n",
      "  -4.41437035e-02 -4.97484941e-02 -5.50786426e-02 -6.58570391e-02\n",
      "  -6.16518308e-02 -1.37964817e-01 -4.88010073e-03 -7.96932929e-03\n",
      "  -7.22407334e-02 -8.91005174e-03 -6.92949256e-02 -7.89330733e-02\n",
      "  -7.41589443e-02 -7.01571198e-02 -7.43750855e-02 -1.91126634e-02\n",
      "  -3.12890480e-01 -1.12050260e-01 -2.86061375e-02 -1.39982667e-01\n",
      "  -6.18441156e-01 -5.39062984e-02 -3.17675614e-02 -1.97262943e-02\n",
      "   8.25155576e-01 -4.64317742e-02]\n",
      " [-1.10249666e-01 -7.72837161e-03 -4.81421927e-03 -1.40888677e-02\n",
      "  -8.94867800e-02 -7.73601574e-03 -9.50760523e-02 -2.70229257e-02\n",
      "   1.23568592e+00 -1.16636889e-02 -3.66520148e-02 -2.44366043e-02\n",
      "  -1.23851995e-02 -2.61801282e-02 -1.86099702e-02 -4.12213615e-02\n",
      "   0.00000000e+00 -2.81750510e-03 -9.75313348e-02 -4.72526199e-01\n",
      "   5.86750226e-02 -6.37212824e-01 -6.31932543e-01 -3.74363934e-01\n",
      "  -3.74433298e-01  7.71287988e-01 -3.49684589e-01 -2.81815452e-02\n",
      "   7.34337380e-01  1.25874613e+00  1.06639349e+00 -4.39078787e-01\n",
      "  -4.80194395e-01 -2.89104644e-01 -6.39535482e-01 -6.24874248e-01\n",
      "  -3.87634945e-01 -3.76388732e-01 -2.65430168e-01  4.76177584e-01\n",
      "  -3.67556296e-01 -3.85572788e-02 -2.40796566e-02 -8.30056435e-02\n",
      "  -3.98456975e-03 -8.74011505e-02 -7.52869153e-02 -7.65561295e-02\n",
      "  -6.59178045e-02 -6.70023207e-02 -6.44438975e-02 -6.54912835e-02\n",
      "  -6.73600142e-02 -2.78096260e-01 -5.87972836e-02 -1.94371562e-01\n",
      "  -1.58232847e-01 -6.21686592e-02 -6.14569168e-02 -1.19274810e-01\n",
      "  -1.18829024e-01 -2.39966612e-01 -6.42573222e-02 -3.98456975e-03\n",
      "  -6.05391461e-02  1.45702141e+00 -2.81750510e-03 -6.50004630e-02\n",
      "  -3.98456975e-03 -7.18510772e-02 -7.40506423e-02 -5.87292718e-02\n",
      "  -4.87769458e-02 -5.71429709e-02 -6.15219557e-02 -5.84564443e-02\n",
      "  -5.91361853e-02 -5.99418408e-02 -5.67923386e-02 -5.25565320e-02\n",
      "  -5.36836675e-02 -5.35347384e-02 -7.08960379e-02 -4.85310492e-02\n",
      "  -3.65432708e-02 -1.89323024e-01 -6.30023297e-03 -2.48911399e-02\n",
      "  -4.58269026e-02 -2.34102745e-02 -4.58131906e-01 -7.96932929e-03\n",
      "  -2.48911399e-02 -2.61372871e-02 -2.27212249e-02 -2.48254680e-01\n",
      "  -4.41437035e-02 -4.97484941e-02 -5.50786426e-02 -6.58570391e-02\n",
      "  -6.16518308e-02 -1.37964817e-01 -4.88010073e-03 -7.96932929e-03\n",
      "  -7.22407334e-02 -8.91005174e-03 -6.92949256e-02 -7.89330733e-02\n",
      "  -7.41589443e-02 -7.01571198e-02 -7.43750855e-02 -1.91126634e-02\n",
      "  -3.12890480e-01 -1.12050260e-01 -2.86061375e-02 -1.39982667e-01\n",
      "  -6.18441156e-01 -5.39062984e-02 -3.17675614e-02 -1.97262943e-02\n",
      "   8.25155576e-01 -4.64317742e-02]\n",
      " [-1.10249666e-01 -7.76227089e-03 -4.91866391e-03 -1.40888677e-02\n",
      "  -8.94867800e-02 -7.73601574e-03 -9.50760523e-02 -2.70229257e-02\n",
      "  -8.09267134e-01 -1.16636889e-02 -3.66520148e-02 -2.44366043e-02\n",
      "  -1.23851995e-02 -2.61801282e-02 -1.86099702e-02 -4.12213615e-02\n",
      "   0.00000000e+00 -2.81750510e-03 -9.75313348e-02  3.22175508e-01\n",
      "  -1.20300075e-01 -6.37212824e-01 -6.31932543e-01  2.74639045e+00\n",
      "   2.71535234e+00 -1.13944518e+00 -1.69323146e-02 -3.74561400e-01\n",
      "   7.34337380e-01 -8.73094751e-01 -1.00511464e+00 -6.85549945e-02\n",
      "  -4.80194395e-01 -2.89104644e-01 -6.39535482e-01 -6.24874248e-01\n",
      "   2.87439693e+00  2.75390135e+00 -2.65430168e-01  4.76177584e-01\n",
      "  -3.67556296e-01 -3.85572788e-02 -2.40796566e-02 -8.30056435e-02\n",
      "  -3.98456975e-03 -8.74011505e-02 -7.52869153e-02 -7.65561295e-02\n",
      "  -6.59178045e-02 -6.70023207e-02 -6.44438975e-02 -6.54912835e-02\n",
      "  -6.73600142e-02 -2.78096260e-01 -5.87972836e-02 -1.94371562e-01\n",
      "  -1.58232847e-01 -6.21686592e-02 -6.14569168e-02 -1.19274810e-01\n",
      "  -1.18829024e-01 -2.39966612e-01 -6.42573222e-02 -3.98456975e-03\n",
      "  -6.05391461e-02 -6.86331711e-01 -2.81750510e-03 -6.50004630e-02\n",
      "  -3.98456975e-03 -7.18510772e-02 -7.40506423e-02 -5.87292718e-02\n",
      "  -4.87769458e-02 -5.71429709e-02 -6.15219557e-02 -5.84564443e-02\n",
      "  -5.91361853e-02 -5.99418408e-02 -5.67923386e-02 -5.25565320e-02\n",
      "  -5.36836675e-02 -5.35347384e-02 -7.08960379e-02 -4.85310492e-02\n",
      "  -3.65432708e-02 -1.89323024e-01 -6.30023297e-03 -2.48911399e-02\n",
      "  -4.58269026e-02 -2.34102745e-02  2.18277746e+00 -7.96932929e-03\n",
      "  -2.48911399e-02 -2.61372871e-02 -2.27212249e-02 -2.48254680e-01\n",
      "  -4.41437035e-02 -4.97484941e-02 -5.50786426e-02 -6.58570391e-02\n",
      "  -6.16518308e-02 -1.37964817e-01 -4.88010073e-03 -7.96932929e-03\n",
      "  -7.22407334e-02 -8.91005174e-03 -6.92949256e-02 -7.89330733e-02\n",
      "  -7.41589443e-02 -7.01571198e-02 -7.43750855e-02 -1.91126634e-02\n",
      "   3.19600648e+00 -1.12050260e-01 -2.86061375e-02 -1.39982667e-01\n",
      "  -6.18441156e-01 -5.39062984e-02 -3.17675614e-02 -1.97262943e-02\n",
      "  -1.21189268e+00 -4.64317742e-02]]\n"
     ]
    }
   ],
   "source": [
    "from sklearn.preprocessing import StandardScaler\n",
    "\n",
    "scaler= StandardScaler()\n",
    "X_scaled= scaler.fit_transform(X_encoded)\n",
    "print('First 5 rows of scaled features:\\n', X_scaled[:5])"
   ]
  },
  {
   "cell_type": "code",
   "execution_count": 106,
   "id": "5b0acd54-7549-4095-8933-d87e9735cf05",
   "metadata": {},
   "outputs": [
    {
     "name": "stdout",
     "output_type": "stream",
     "text": [
      "Requirement already satisfied: tensorflow in /opt/anaconda3/lib/python3.11/site-packages (2.16.2)\n",
      "Requirement already satisfied: scikit-learn in /opt/anaconda3/lib/python3.11/site-packages (1.2.2)\n",
      "Requirement already satisfied: xgboost in /opt/anaconda3/lib/python3.11/site-packages (2.1.1)\n",
      "Requirement already satisfied: adversarial-robustness-toolbox in /opt/anaconda3/lib/python3.11/site-packages (1.18.2)\n",
      "Requirement already satisfied: absl-py>=1.0.0 in /opt/anaconda3/lib/python3.11/site-packages (from tensorflow) (2.1.0)\n",
      "Requirement already satisfied: astunparse>=1.6.0 in /opt/anaconda3/lib/python3.11/site-packages (from tensorflow) (1.6.3)\n",
      "Requirement already satisfied: flatbuffers>=23.5.26 in /opt/anaconda3/lib/python3.11/site-packages (from tensorflow) (24.3.25)\n",
      "Requirement already satisfied: gast!=0.5.0,!=0.5.1,!=0.5.2,>=0.2.1 in /opt/anaconda3/lib/python3.11/site-packages (from tensorflow) (0.6.0)\n",
      "Requirement already satisfied: google-pasta>=0.1.1 in /opt/anaconda3/lib/python3.11/site-packages (from tensorflow) (0.2.0)\n",
      "Requirement already satisfied: h5py>=3.10.0 in /opt/anaconda3/lib/python3.11/site-packages (from tensorflow) (3.11.0)\n",
      "Requirement already satisfied: libclang>=13.0.0 in /opt/anaconda3/lib/python3.11/site-packages (from tensorflow) (18.1.1)\n",
      "Requirement already satisfied: ml-dtypes~=0.3.1 in /opt/anaconda3/lib/python3.11/site-packages (from tensorflow) (0.3.2)\n",
      "Requirement already satisfied: opt-einsum>=2.3.2 in /opt/anaconda3/lib/python3.11/site-packages (from tensorflow) (3.3.0)\n",
      "Requirement already satisfied: packaging in /opt/anaconda3/lib/python3.11/site-packages (from tensorflow) (23.1)\n",
      "Requirement already satisfied: protobuf!=4.21.0,!=4.21.1,!=4.21.2,!=4.21.3,!=4.21.4,!=4.21.5,<5.0.0dev,>=3.20.3 in /opt/anaconda3/lib/python3.11/site-packages (from tensorflow) (3.20.3)\n",
      "Requirement already satisfied: requests<3,>=2.21.0 in /opt/anaconda3/lib/python3.11/site-packages (from tensorflow) (2.31.0)\n",
      "Requirement already satisfied: setuptools in /opt/anaconda3/lib/python3.11/site-packages (from tensorflow) (68.2.2)\n",
      "Requirement already satisfied: six>=1.12.0 in /opt/anaconda3/lib/python3.11/site-packages (from tensorflow) (1.16.0)\n",
      "Requirement already satisfied: termcolor>=1.1.0 in /opt/anaconda3/lib/python3.11/site-packages (from tensorflow) (2.4.0)\n",
      "Requirement already satisfied: typing-extensions>=3.6.6 in /opt/anaconda3/lib/python3.11/site-packages (from tensorflow) (4.9.0)\n",
      "Requirement already satisfied: wrapt>=1.11.0 in /opt/anaconda3/lib/python3.11/site-packages (from tensorflow) (1.14.1)\n",
      "Requirement already satisfied: grpcio<2.0,>=1.24.3 in /opt/anaconda3/lib/python3.11/site-packages (from tensorflow) (1.64.1)\n",
      "Requirement already satisfied: tensorboard<2.17,>=2.16 in /opt/anaconda3/lib/python3.11/site-packages (from tensorflow) (2.16.2)\n",
      "Requirement already satisfied: keras>=3.0.0 in /opt/anaconda3/lib/python3.11/site-packages (from tensorflow) (3.4.1)\n",
      "Requirement already satisfied: tensorflow-io-gcs-filesystem>=0.23.1 in /opt/anaconda3/lib/python3.11/site-packages (from tensorflow) (0.37.0)\n",
      "Requirement already satisfied: numpy<2.0.0,>=1.23.5 in /opt/anaconda3/lib/python3.11/site-packages (from tensorflow) (1.26.4)\n",
      "Requirement already satisfied: scipy>=1.3.2 in /opt/anaconda3/lib/python3.11/site-packages (from scikit-learn) (1.11.4)\n",
      "Requirement already satisfied: joblib>=1.1.1 in /opt/anaconda3/lib/python3.11/site-packages (from scikit-learn) (1.2.0)\n",
      "Requirement already satisfied: threadpoolctl>=2.0.0 in /opt/anaconda3/lib/python3.11/site-packages (from scikit-learn) (2.2.0)\n",
      "Requirement already satisfied: tqdm in /opt/anaconda3/lib/python3.11/site-packages (from adversarial-robustness-toolbox) (4.65.0)\n",
      "Requirement already satisfied: wheel<1.0,>=0.23.0 in /opt/anaconda3/lib/python3.11/site-packages (from astunparse>=1.6.0->tensorflow) (0.41.2)\n",
      "Requirement already satisfied: rich in /opt/anaconda3/lib/python3.11/site-packages (from keras>=3.0.0->tensorflow) (13.3.5)\n",
      "Requirement already satisfied: namex in /opt/anaconda3/lib/python3.11/site-packages (from keras>=3.0.0->tensorflow) (0.0.8)\n",
      "Requirement already satisfied: optree in /opt/anaconda3/lib/python3.11/site-packages (from keras>=3.0.0->tensorflow) (0.11.0)\n",
      "Requirement already satisfied: charset-normalizer<4,>=2 in /opt/anaconda3/lib/python3.11/site-packages (from requests<3,>=2.21.0->tensorflow) (2.0.4)\n",
      "Requirement already satisfied: idna<4,>=2.5 in /opt/anaconda3/lib/python3.11/site-packages (from requests<3,>=2.21.0->tensorflow) (3.4)\n",
      "Requirement already satisfied: urllib3<3,>=1.21.1 in /opt/anaconda3/lib/python3.11/site-packages (from requests<3,>=2.21.0->tensorflow) (2.0.7)\n",
      "Requirement already satisfied: certifi>=2017.4.17 in /opt/anaconda3/lib/python3.11/site-packages (from requests<3,>=2.21.0->tensorflow) (2024.8.30)\n",
      "Requirement already satisfied: markdown>=2.6.8 in /opt/anaconda3/lib/python3.11/site-packages (from tensorboard<2.17,>=2.16->tensorflow) (3.4.1)\n",
      "Requirement already satisfied: tensorboard-data-server<0.8.0,>=0.7.0 in /opt/anaconda3/lib/python3.11/site-packages (from tensorboard<2.17,>=2.16->tensorflow) (0.7.2)\n",
      "Requirement already satisfied: werkzeug>=1.0.1 in /opt/anaconda3/lib/python3.11/site-packages (from tensorboard<2.17,>=2.16->tensorflow) (2.2.3)\n",
      "Requirement already satisfied: MarkupSafe>=2.1.1 in /opt/anaconda3/lib/python3.11/site-packages (from werkzeug>=1.0.1->tensorboard<2.17,>=2.16->tensorflow) (2.1.3)\n",
      "Requirement already satisfied: markdown-it-py<3.0.0,>=2.2.0 in /opt/anaconda3/lib/python3.11/site-packages (from rich->keras>=3.0.0->tensorflow) (2.2.0)\n",
      "Requirement already satisfied: pygments<3.0.0,>=2.13.0 in /opt/anaconda3/lib/python3.11/site-packages (from rich->keras>=3.0.0->tensorflow) (2.15.1)\n",
      "Requirement already satisfied: mdurl~=0.1 in /opt/anaconda3/lib/python3.11/site-packages (from markdown-it-py<3.0.0,>=2.2.0->rich->keras>=3.0.0->tensorflow) (0.1.0)\n"
     ]
    }
   ],
   "source": [
    "!pip install tensorflow scikit-learn xgboost adversarial-robustness-toolbox\n"
   ]
  },
  {
   "cell_type": "code",
   "execution_count": 108,
   "id": "ab9caf29-7764-4ade-b14f-5e572d699d42",
   "metadata": {},
   "outputs": [],
   "source": [
    "import tensorflow as tf\n",
    "from tensorflow.keras.models import Sequential\n",
    "from tensorflow.keras.layers import Dense, Flatten\n",
    "from sklearn.model_selection import train_test_split\n",
    "from sklearn.metrics import accuracy_score, classification_report\n",
    "import xgboost as xgb\n",
    "from sklearn.ensemble import RandomForestClassifier\n",
    "\n",
    "from art.estimators.classification import TensorFlowV2Classifier, SklearnClassifier, XGBoostClassifier\n",
    "from art.attacks.evasion import HopSkipJump\n"
   ]
  },
  {
   "cell_type": "code",
   "execution_count": 112,
   "id": "33a38774-7e7e-4f75-870e-ae624fdc1682",
   "metadata": {},
   "outputs": [
    {
     "name": "stdout",
     "output_type": "stream",
     "text": [
      "Training Set: (100777, 122), Test Set: (25195, 122)\n"
     ]
    }
   ],
   "source": [
    "# Split the data into training and test sets\n",
    "X_train, X_test, y_train, y_test = train_test_split(X_scaled, y_encoded, test_size=0.2, random_state=42)\n",
    "\n",
    "print(f\"Training Set: {X_train.shape}, Test Set: {X_test.shape}\")\n"
   ]
  },
  {
   "cell_type": "code",
   "execution_count": 114,
   "id": "aedbdb1d-c373-4138-9301-556f7de8f457",
   "metadata": {},
   "outputs": [
    {
     "name": "stdout",
     "output_type": "stream",
     "text": [
      "Epoch 1/10\n"
     ]
    },
    {
     "name": "stderr",
     "output_type": "stream",
     "text": [
      "/opt/anaconda3/lib/python3.11/site-packages/keras/src/layers/reshaping/flatten.py:37: UserWarning: Do not pass an `input_shape`/`input_dim` argument to a layer. When using Sequential models, prefer using an `Input(shape)` object as the first layer in the model instead.\n",
      "  super().__init__(**kwargs)\n"
     ]
    },
    {
     "name": "stdout",
     "output_type": "stream",
     "text": [
      "\u001b[1m2835/2835\u001b[0m \u001b[32m━━━━━━━━━━━━━━━━━━━━\u001b[0m\u001b[37m\u001b[0m \u001b[1m2s\u001b[0m 445us/step - accuracy: 0.9531 - loss: 0.2262 - val_accuracy: 0.9906 - val_loss: 0.0320\n",
      "Epoch 2/10\n",
      "\u001b[1m2835/2835\u001b[0m \u001b[32m━━━━━━━━━━━━━━━━━━━━\u001b[0m\u001b[37m\u001b[0m \u001b[1m1s\u001b[0m 401us/step - accuracy: 0.9902 - loss: 0.0335 - val_accuracy: 0.9923 - val_loss: 0.0233\n",
      "Epoch 3/10\n",
      "\u001b[1m2835/2835\u001b[0m \u001b[32m━━━━━━━━━━━━━━━━━━━━\u001b[0m\u001b[37m\u001b[0m \u001b[1m1s\u001b[0m 400us/step - accuracy: 0.9918 - loss: 0.0261 - val_accuracy: 0.9912 - val_loss: 0.0248\n",
      "Epoch 4/10\n",
      "\u001b[1m2835/2835\u001b[0m \u001b[32m━━━━━━━━━━━━━━━━━━━━\u001b[0m\u001b[37m\u001b[0m \u001b[1m1s\u001b[0m 404us/step - accuracy: 0.9926 - loss: 0.0232 - val_accuracy: 0.9938 - val_loss: 0.0214\n",
      "Epoch 5/10\n",
      "\u001b[1m2835/2835\u001b[0m \u001b[32m━━━━━━━━━━━━━━━━━━━━\u001b[0m\u001b[37m\u001b[0m \u001b[1m1s\u001b[0m 403us/step - accuracy: 0.9930 - loss: 0.0217 - val_accuracy: 0.9929 - val_loss: 0.0225\n",
      "Epoch 6/10\n",
      "\u001b[1m2835/2835\u001b[0m \u001b[32m━━━━━━━━━━━━━━━━━━━━\u001b[0m\u001b[37m\u001b[0m \u001b[1m1s\u001b[0m 401us/step - accuracy: 0.9941 - loss: 0.0182 - val_accuracy: 0.9942 - val_loss: 0.0251\n",
      "Epoch 7/10\n",
      "\u001b[1m2835/2835\u001b[0m \u001b[32m━━━━━━━━━━━━━━━━━━━━\u001b[0m\u001b[37m\u001b[0m \u001b[1m1s\u001b[0m 403us/step - accuracy: 0.9938 - loss: 0.0189 - val_accuracy: 0.9959 - val_loss: 0.0174\n",
      "Epoch 8/10\n",
      "\u001b[1m2835/2835\u001b[0m \u001b[32m━━━━━━━━━━━━━━━━━━━━\u001b[0m\u001b[37m\u001b[0m \u001b[1m1s\u001b[0m 427us/step - accuracy: 0.9944 - loss: 0.0177 - val_accuracy: 0.9957 - val_loss: 0.0172\n",
      "Epoch 9/10\n",
      "\u001b[1m2835/2835\u001b[0m \u001b[32m━━━━━━━━━━━━━━━━━━━━\u001b[0m\u001b[37m\u001b[0m \u001b[1m1s\u001b[0m 404us/step - accuracy: 0.9947 - loss: 0.0149 - val_accuracy: 0.9947 - val_loss: 0.0179\n",
      "Epoch 10/10\n",
      "\u001b[1m2835/2835\u001b[0m \u001b[32m━━━━━━━━━━━━━━━━━━━━\u001b[0m\u001b[37m\u001b[0m \u001b[1m1s\u001b[0m 403us/step - accuracy: 0.9950 - loss: 0.0149 - val_accuracy: 0.9947 - val_loss: 0.0193\n",
      "\u001b[1m788/788\u001b[0m \u001b[32m━━━━━━━━━━━━━━━━━━━━\u001b[0m\u001b[37m\u001b[0m \u001b[1m0s\u001b[0m 246us/step\n",
      "Model Accuracy on Clean Test Data: 0.9933717007342727\n",
      "Classification Report on Clean Test Data:\n",
      "              precision    recall  f1-score   support\n",
      "\n",
      "           0       1.00      0.98      0.99       201\n",
      "           1       1.00      0.00      0.00         7\n",
      "           3       1.00      0.86      0.92        14\n",
      "           4       1.00      1.00      1.00         2\n",
      "           5       0.95      0.98      0.97       743\n",
      "           6       0.50      0.50      0.50         2\n",
      "           7       0.50      0.33      0.40         3\n",
      "           8       1.00      0.00      0.00         1\n",
      "           9       1.00      1.00      1.00      8238\n",
      "          10       0.95      0.99      0.97       298\n",
      "          11       1.00      0.99      0.99     13386\n",
      "          12       1.00      1.00      1.00         1\n",
      "          13       1.00      1.00      1.00         1\n",
      "          14       1.00      0.97      0.99        36\n",
      "          15       1.00      0.99      0.99       583\n",
      "          16       1.00      0.00      0.00         2\n",
      "          17       0.97      0.99      0.98       749\n",
      "          18       0.99      0.99      0.99       551\n",
      "          19       1.00      0.00      0.00         1\n",
      "          20       1.00      1.00      1.00       196\n",
      "          21       0.88      0.86      0.87       176\n",
      "          22       0.60      0.75      0.67         4\n",
      "\n",
      "    accuracy                           0.99     25195\n",
      "   macro avg       0.92      0.74      0.74     25195\n",
      "weighted avg       0.99      0.99      0.99     25195\n",
      "\n"
     ]
    }
   ],
   "source": [
    "# Define a simple neural network model\n",
    "model = Sequential([\n",
    "    Flatten(input_shape=(X_train.shape[1],)),\n",
    "    Dense(128, activation='relu'),\n",
    "    Dense(64, activation='relu'),\n",
    "    Dense(len(set(y_encoded)), activation='softmax')\n",
    "])\n",
    "\n",
    "# Compile the model\n",
    "model.compile(optimizer='adam', \n",
    "              loss='sparse_categorical_crossentropy', \n",
    "              metrics=['accuracy'])\n",
    "\n",
    "# Train the model\n",
    "model.fit(X_train, y_train, epochs=10, batch_size=32, validation_split=0.1)\n",
    "\n",
    "# Evaluate the model on clean data\n",
    "y_pred_clean = model.predict(X_test).argmax(axis=1)\n",
    "accuracy_clean = accuracy_score(y_test, y_pred_clean)\n",
    "\n",
    "print(f\"Model Accuracy on Clean Test Data: {accuracy_clean}\")\n",
    "print(\"Classification Report on Clean Test Data:\")\n",
    "print(classification_report(y_test, y_pred_clean, zero_division=1))\n"
   ]
  },
  {
   "cell_type": "code",
   "execution_count": 116,
   "id": "07c15821-a4d7-4561-ab80-fdc594961787",
   "metadata": {},
   "outputs": [],
   "source": [
    "# Wrap the TensorFlow model with ART's TensorFlowV2Classifier\n",
    "classifier = TensorFlowV2Classifier(\n",
    "    model=model,\n",
    "    nb_classes=len(set(y_encoded)),\n",
    "    input_shape=(X_train.shape[1],),\n",
    "    loss_object=tf.keras.losses.SparseCategoricalCrossentropy()\n",
    ")\n"
   ]
  },
  {
   "cell_type": "code",
   "execution_count": 118,
   "id": "e357170e-45c9-4b7b-af73-8770a325f9f4",
   "metadata": {},
   "outputs": [
    {
     "name": "stdout",
     "output_type": "stream",
     "text": [
      "\u001b[1m1/1\u001b[0m \u001b[32m━━━━━━━━━━━━━━━━━━━━\u001b[0m\u001b[37m\u001b[0m \u001b[1m0s\u001b[0m 12ms/step\n",
      "Model Accuracy on FGSM Adversarial Examples: 1.0\n",
      "Classification Report on FGSM Adversarial Examples:\n",
      "              precision    recall  f1-score   support\n",
      "\n",
      "           9       1.00      1.00      1.00         6\n",
      "          10       1.00      1.00      1.00         2\n",
      "          11       1.00      1.00      1.00         2\n",
      "\n",
      "    accuracy                           1.00        10\n",
      "   macro avg       1.00      1.00      1.00        10\n",
      "weighted avg       1.00      1.00      1.00        10\n",
      "\n"
     ]
    }
   ],
   "source": [
    "# Initialize the FGSM attack\n",
    "fgsm = FastGradientMethod(estimator=classifier, eps=0.1)\n",
    "\n",
    "# Generate adversarial examples\n",
    "X_test_adv_fgsm = fgsm.generate(x=X_test[:10])\n",
    "\n",
    "# Predict on the adversarial examples\n",
    "y_pred_fgsm = model.predict(X_test_adv_fgsm).argmax(axis=1)\n",
    "\n",
    "# Evaluate performance on adversarial examples\n",
    "accuracy_fgsm = accuracy_score(y_test[:10], y_pred_fgsm)\n",
    "print(f\"Model Accuracy on FGSM Adversarial Examples: {accuracy_fgsm}\")\n",
    "print(\"Classification Report on FGSM Adversarial Examples:\")\n",
    "print(classification_report(y_test[:10], y_pred_fgsm, zero_division=1))\n"
   ]
  },
  {
   "cell_type": "code",
   "execution_count": 120,
   "id": "cd1d0b58-1fee-41a0-8dca-5ee46536c438",
   "metadata": {},
   "outputs": [
    {
     "data": {
      "application/vnd.jupyter.widget-view+json": {
       "model_id": "",
       "version_major": 2,
       "version_minor": 0
      },
      "text/plain": [
       "PGD - Batches: 0it [00:00, ?it/s]"
      ]
     },
     "metadata": {},
     "output_type": "display_data"
    },
    {
     "name": "stdout",
     "output_type": "stream",
     "text": [
      "\u001b[1m1/1\u001b[0m \u001b[32m━━━━━━━━━━━━━━━━━━━━\u001b[0m\u001b[37m\u001b[0m \u001b[1m0s\u001b[0m 7ms/step\n",
      "Model Accuracy on PGD Adversarial Examples: 0.8\n",
      "Classification Report on PGD Adversarial Examples:\n",
      "              precision    recall  f1-score   support\n",
      "\n",
      "           0       0.00      1.00      0.00         0\n",
      "           9       1.00      1.00      1.00         6\n",
      "          10       1.00      1.00      1.00         2\n",
      "          11       1.00      0.00      0.00         2\n",
      "\n",
      "    accuracy                           0.80        10\n",
      "   macro avg       0.75      0.75      0.50        10\n",
      "weighted avg       1.00      0.80      0.80        10\n",
      "\n"
     ]
    },
    {
     "name": "stderr",
     "output_type": "stream",
     "text": [
      "2024-10-16 17:40:03.716859: W tensorflow/core/framework/local_rendezvous.cc:404] Local rendezvous is aborting with status: OUT_OF_RANGE: End of sequence\n"
     ]
    }
   ],
   "source": [
    "# Initialize the PGD attack\n",
    "pgd = ProjectedGradientDescent(estimator=classifier, eps=0.1, eps_step=0.01, max_iter=50)\n",
    "\n",
    "# Generate adversarial examples using PGD\n",
    "X_test_adv_pgd = pgd.generate(x=X_test[:10])\n",
    "\n",
    "# Predict on the adversarial examples\n",
    "y_pred_pgd = model.predict(X_test_adv_pgd).argmax(axis=1)\n",
    "\n",
    "# Evaluate performance on PGD adversarial examples\n",
    "accuracy_pgd = accuracy_score(y_test[:10], y_pred_pgd)\n",
    "print(f\"Model Accuracy on PGD Adversarial Examples: {accuracy_pgd}\")\n",
    "print(\"Classification Report on PGD Adversarial Examples:\")\n",
    "print(classification_report(y_test[:10], y_pred_pgd, zero_division=1))\n"
   ]
  },
  {
   "cell_type": "code",
   "execution_count": 124,
   "id": "11136ac2-1b86-41f5-8986-b591cdb2cb30",
   "metadata": {},
   "outputs": [
    {
     "data": {
      "application/vnd.jupyter.widget-view+json": {
       "model_id": "6b3beedd2ae44d8fa55909c57e55f9f8",
       "version_major": 2,
       "version_minor": 0
      },
      "text/plain": [
       "C&W L_2:   0%|          | 0/10 [00:00<?, ?it/s]"
      ]
     },
     "metadata": {},
     "output_type": "display_data"
    },
    {
     "name": "stdout",
     "output_type": "stream",
     "text": [
      "WARNING:tensorflow:Calling GradientTape.gradient on a persistent tape inside its context is significantly less efficient than calling it outside the context (it causes the gradient ops to be recorded on the tape, leading to increased CPU and memory usage). Only call GradientTape.gradient inside the context if you actually want to trace the gradient in order to compute higher order derivatives.\n",
      "\u001b[1m1/1\u001b[0m \u001b[32m━━━━━━━━━━━━━━━━━━━━\u001b[0m\u001b[37m\u001b[0m \u001b[1m0s\u001b[0m 7ms/step\n",
      "Model Accuracy on C&W Adversarial Examples: 1.0\n",
      "Classification Report on C&W Adversarial Examples:\n",
      "              precision    recall  f1-score   support\n",
      "\n",
      "           9       1.00      1.00      1.00         6\n",
      "          10       1.00      1.00      1.00         2\n",
      "          11       1.00      1.00      1.00         2\n",
      "\n",
      "    accuracy                           1.00        10\n",
      "   macro avg       1.00      1.00      1.00        10\n",
      "weighted avg       1.00      1.00      1.00        10\n",
      "\n"
     ]
    }
   ],
   "source": [
    "# Initialize the C&W attack (L2 norm)\n",
    "from art.attacks.evasion import CarliniL2Method\n",
    "\n",
    "cw = CarliniL2Method(classifier=classifier, targeted=False, max_iter=10)\n",
    "\n",
    "# Generate adversarial examples using C&W\n",
    "X_test_adv_cw = cw.generate(x=X_test[:10])\n",
    "\n",
    "# Predict on the adversarial examples\n",
    "y_pred_cw = model.predict(X_test_adv_cw).argmax(axis=1)\n",
    "\n",
    "# Evaluate performance on C&W adversarial examples\n",
    "accuracy_cw = accuracy_score(y_test[:10], y_pred_cw)\n",
    "print(f\"Model Accuracy on C&W Adversarial Examples: {accuracy_cw}\")\n",
    "print(\"Classification Report on C&W Adversarial Examples:\")\n",
    "print(classification_report(y_test[:10], y_pred_cw, zero_division=1))\n"
   ]
  },
  {
   "cell_type": "code",
   "execution_count": 126,
   "id": "476e5849-f9d9-4137-8f08-9ff53ee6a8bd",
   "metadata": {},
   "outputs": [],
   "source": [
    "import tensorflow as tf\n",
    "from tensorflow.keras.models import Sequential\n",
    "from tensorflow.keras.layers import Dense, Flatten, Conv1D, MaxPooling1D\n",
    "from sklearn.model_selection import train_test_split\n",
    "from sklearn.metrics import accuracy_score, classification_report\n",
    "\n",
    "# Import ART classifiers and attacks\n",
    "from art.estimators.classification import TensorFlowV2Classifier\n",
    "from art.attacks.evasion import FastGradientMethod, ProjectedGradientDescent, CarliniL2Method\n"
   ]
  },
  {
   "cell_type": "code",
   "execution_count": 128,
   "id": "58cc82b7-cfa2-4151-a23b-a81c68af551d",
   "metadata": {},
   "outputs": [
    {
     "name": "stdout",
     "output_type": "stream",
     "text": [
      "Training Set: (100777, 122), Test Set: (25195, 122)\n"
     ]
    }
   ],
   "source": [
    "# Assuming X_scaled (features) and y_encoded (labels) are ready\n",
    "X_train, X_test, y_train, y_test = train_test_split(X_scaled, y_encoded, test_size=0.2, random_state=42)\n",
    "\n",
    "print(f\"Training Set: {X_train.shape}, Test Set: {X_test.shape}\")\n"
   ]
  },
  {
   "cell_type": "code",
   "execution_count": 154,
   "id": "63955475-45e2-435a-95e2-77827322b9ae",
   "metadata": {},
   "outputs": [
    {
     "name": "stdout",
     "output_type": "stream",
     "text": [
      "Epoch 1/10\n"
     ]
    },
    {
     "name": "stderr",
     "output_type": "stream",
     "text": [
      "/opt/anaconda3/lib/python3.11/site-packages/keras/src/layers/core/dense.py:87: UserWarning: Do not pass an `input_shape`/`input_dim` argument to a layer. When using Sequential models, prefer using an `Input(shape)` object as the first layer in the model instead.\n",
      "  super().__init__(activity_regularizer=activity_regularizer, **kwargs)\n"
     ]
    },
    {
     "name": "stdout",
     "output_type": "stream",
     "text": [
      "\u001b[1m2835/2835\u001b[0m \u001b[32m━━━━━━━━━━━━━━━━━━━━\u001b[0m\u001b[37m\u001b[0m \u001b[1m1s\u001b[0m 419us/step - accuracy: 0.9500 - loss: 0.2149 - val_accuracy: 0.9896 - val_loss: 0.0295\n",
      "Epoch 2/10\n",
      "\u001b[1m2835/2835\u001b[0m \u001b[32m━━━━━━━━━━━━━━━━━━━━\u001b[0m\u001b[37m\u001b[0m \u001b[1m1s\u001b[0m 403us/step - accuracy: 0.9901 - loss: 0.0321 - val_accuracy: 0.9931 - val_loss: 0.0245\n",
      "Epoch 3/10\n",
      "\u001b[1m2835/2835\u001b[0m \u001b[32m━━━━━━━━━━━━━━━━━━━━\u001b[0m\u001b[37m\u001b[0m \u001b[1m1s\u001b[0m 407us/step - accuracy: 0.9917 - loss: 0.0257 - val_accuracy: 0.9916 - val_loss: 0.0259\n",
      "Epoch 4/10\n",
      "\u001b[1m2835/2835\u001b[0m \u001b[32m━━━━━━━━━━━━━━━━━━━━\u001b[0m\u001b[37m\u001b[0m \u001b[1m1s\u001b[0m 410us/step - accuracy: 0.9927 - loss: 0.0214 - val_accuracy: 0.9939 - val_loss: 0.0249\n",
      "Epoch 5/10\n",
      "\u001b[1m2835/2835\u001b[0m \u001b[32m━━━━━━━━━━━━━━━━━━━━\u001b[0m\u001b[37m\u001b[0m \u001b[1m1s\u001b[0m 432us/step - accuracy: 0.9936 - loss: 0.0206 - val_accuracy: 0.9951 - val_loss: 0.0203\n",
      "Epoch 6/10\n",
      "\u001b[1m2835/2835\u001b[0m \u001b[32m━━━━━━━━━━━━━━━━━━━━\u001b[0m\u001b[37m\u001b[0m \u001b[1m1s\u001b[0m 420us/step - accuracy: 0.9940 - loss: 0.0191 - val_accuracy: 0.9953 - val_loss: 0.0171\n",
      "Epoch 7/10\n",
      "\u001b[1m2835/2835\u001b[0m \u001b[32m━━━━━━━━━━━━━━━━━━━━\u001b[0m\u001b[37m\u001b[0m \u001b[1m1s\u001b[0m 404us/step - accuracy: 0.9941 - loss: 0.0172 - val_accuracy: 0.9944 - val_loss: 0.0179\n",
      "Epoch 8/10\n",
      "\u001b[1m2835/2835\u001b[0m \u001b[32m━━━━━━━━━━━━━━━━━━━━\u001b[0m\u001b[37m\u001b[0m \u001b[1m1s\u001b[0m 408us/step - accuracy: 0.9949 - loss: 0.0169 - val_accuracy: 0.9942 - val_loss: 0.0194\n",
      "Epoch 9/10\n",
      "\u001b[1m2835/2835\u001b[0m \u001b[32m━━━━━━━━━━━━━━━━━━━━\u001b[0m\u001b[37m\u001b[0m \u001b[1m1s\u001b[0m 411us/step - accuracy: 0.9948 - loss: 0.0156 - val_accuracy: 0.9945 - val_loss: 0.0191\n",
      "Epoch 10/10\n",
      "\u001b[1m2835/2835\u001b[0m \u001b[32m━━━━━━━━━━━━━━━━━━━━\u001b[0m\u001b[37m\u001b[0m \u001b[1m1s\u001b[0m 411us/step - accuracy: 0.9951 - loss: 0.0152 - val_accuracy: 0.9952 - val_loss: 0.0222\n"
     ]
    }
   ],
   "source": [
    "# Define MLP Model\n",
    "mlp_model = Sequential([\n",
    "    Dense(128, activation='relu', input_shape=(X_train.shape[1],)),\n",
    "    Dense(64, activation='relu'),\n",
    "    Dense(len(set(y_encoded)), activation='softmax')\n",
    "])\n",
    "\n",
    "mlp_model.compile(optimizer='adam', loss='sparse_categorical_crossentropy', metrics=['accuracy'])\n",
    "mlp_model.fit(X_train, y_train, epochs=10, batch_size=32, validation_split=0.1)\n",
    "\n",
    "# Wrap the model with ART’s TensorFlowV2Classifier\n",
    "mlp_classifier = TensorFlowV2Classifier(\n",
    "    model=mlp_model,\n",
    "    nb_classes=len(set(y_encoded)),\n",
    "    input_shape=(X_train.shape[1],),\n",
    "    loss_object=tf.keras.losses.SparseCategoricalCrossentropy()\n",
    ")\n"
   ]
  },
  {
   "cell_type": "code",
   "execution_count": 166,
   "id": "85ec3ed3-1a7c-4b64-b200-4612b5db04ed",
   "metadata": {},
   "outputs": [
    {
     "name": "stdout",
     "output_type": "stream",
     "text": [
      "\u001b[1m788/788\u001b[0m \u001b[32m━━━━━━━━━━━━━━━━━━━━\u001b[0m\u001b[37m\u001b[0m \u001b[1m0s\u001b[0m 256us/step\n",
      "Classification Report (MLP - FGSM):\n",
      "              precision    recall  f1-score   support\n",
      "\n",
      "           0       0.01      0.06      0.01       201\n",
      "           1       0.43      0.43      0.43         7\n",
      "           2       0.00      1.00      0.00         0\n",
      "           3       1.00      0.86      0.92        14\n",
      "           4       0.67      1.00      0.80         2\n",
      "           5       0.68      0.21      0.32       743\n",
      "           6       0.67      1.00      0.80         2\n",
      "           7       0.00      0.00      0.00         3\n",
      "           8       0.00      0.00      0.00         1\n",
      "           9       0.99      0.99      0.99      8238\n",
      "          10       0.30      0.85      0.44       298\n",
      "          11       0.94      0.79      0.86     13386\n",
      "          12       1.00      1.00      1.00         1\n",
      "          13       1.00      1.00      1.00         1\n",
      "          14       0.31      0.61      0.41        36\n",
      "          15       0.93      0.95      0.94       583\n",
      "          16       0.00      0.00      0.00         2\n",
      "          17       0.78      0.86      0.82       749\n",
      "          18       0.92      0.87      0.90       551\n",
      "          19       1.00      0.00      0.00         1\n",
      "          20       1.00      0.74      0.85       196\n",
      "          21       0.07      0.28      0.11       176\n",
      "          22       0.11      0.25      0.15         4\n",
      "\n",
      "    accuracy                           0.84     25195\n",
      "   macro avg       0.56      0.60      0.51     25195\n",
      "weighted avg       0.92      0.84      0.87     25195\n",
      "\n"
     ]
    }
   ],
   "source": [
    "# FGSM Attack\n",
    "fgsm = FastGradientMethod(estimator=mlp_classifier, eps=0.1)\n",
    "X_test_adv_fgsm = fgsm.generate(x=X_test)\n",
    "\n",
    "# Predictions and Evaluation\n",
    "y_pred_fgsm = mlp_model.predict(X_test_adv_fgsm).argmax(axis=1)\n",
    "print(\"Classification Report (MLP - FGSM):\")\n",
    "print(classification_report(y_test, y_pred_fgsm, zero_division=1))\n"
   ]
  },
  {
   "cell_type": "code",
   "execution_count": 167,
   "id": "4351af51-c612-4ce5-97c8-c537ebbd2529",
   "metadata": {},
   "outputs": [
    {
     "data": {
      "application/vnd.jupyter.widget-view+json": {
       "model_id": "",
       "version_major": 2,
       "version_minor": 0
      },
      "text/plain": [
       "PGD - Batches: 0it [00:00, ?it/s]"
      ]
     },
     "metadata": {},
     "output_type": "display_data"
    },
    {
     "name": "stderr",
     "output_type": "stream",
     "text": [
      "2024-10-16 18:11:22.040981: W tensorflow/core/framework/local_rendezvous.cc:404] Local rendezvous is aborting with status: OUT_OF_RANGE: End of sequence\n"
     ]
    },
    {
     "name": "stdout",
     "output_type": "stream",
     "text": [
      "\u001b[1m788/788\u001b[0m \u001b[32m━━━━━━━━━━━━━━━━━━━━\u001b[0m\u001b[37m\u001b[0m \u001b[1m0s\u001b[0m 281us/step\n",
      "Classification Report (MLP - PGD):\n",
      "              precision    recall  f1-score   support\n",
      "\n",
      "           0       0.00      0.03      0.00       201\n",
      "           1       0.38      0.43      0.40         7\n",
      "           2       0.00      1.00      0.00         0\n",
      "           3       1.00      0.86      0.92        14\n",
      "           4       0.50      0.50      0.50         2\n",
      "           5       0.65      0.21      0.31       743\n",
      "           6       0.67      1.00      0.80         2\n",
      "           7       0.00      0.00      0.00         3\n",
      "           8       0.00      0.00      0.00         1\n",
      "           9       0.99      0.99      0.99      8238\n",
      "          10       0.27      0.82      0.41       298\n",
      "          11       0.93      0.68      0.78     13386\n",
      "          12       1.00      1.00      1.00         1\n",
      "          13       1.00      1.00      1.00         1\n",
      "          14       0.18      0.36      0.24        36\n",
      "          15       0.90      0.93      0.92       583\n",
      "          16       0.00      0.00      0.00         2\n",
      "          17       0.69      0.77      0.73       749\n",
      "          18       0.93      0.87      0.90       551\n",
      "          19       1.00      0.00      0.00         1\n",
      "          20       1.00      0.69      0.82       196\n",
      "          21       0.04      0.20      0.07       176\n",
      "          22       0.03      0.25      0.05         4\n",
      "\n",
      "    accuracy                           0.77     25195\n",
      "   macro avg       0.53      0.55      0.47     25195\n",
      "weighted avg       0.91      0.77      0.83     25195\n",
      "\n"
     ]
    }
   ],
   "source": [
    "# PGD Attack\n",
    "pgd = ProjectedGradientDescent(estimator=mlp_classifier, eps=0.1, eps_step=0.01, max_iter=50)\n",
    "X_test_adv_pgd = pgd.generate(x=X_test)\n",
    "\n",
    "# Predictions and Evaluation\n",
    "y_pred_pgd = mlp_model.predict(X_test_adv_pgd).argmax(axis=1)\n",
    "print(\"Classification Report (MLP - PGD):\")\n",
    "print(classification_report(y_test, y_pred_pgd, zero_division=1))\n"
   ]
  },
  {
   "cell_type": "code",
   "execution_count": 171,
   "id": "172d795e-252c-4735-8cc9-5ff3ace62436",
   "metadata": {},
   "outputs": [
    {
     "ename": "KeyboardInterrupt",
     "evalue": "",
     "output_type": "error",
     "traceback": [
      "\u001b[0;31m---------------------------------------------------------------------------\u001b[0m",
      "\u001b[0;31mKeyboardInterrupt\u001b[0m                         Traceback (most recent call last)",
      "Cell \u001b[0;32mIn[171], line 3\u001b[0m\n\u001b[1;32m      1\u001b[0m \u001b[38;5;66;03m# C&W Attack\u001b[39;00m\n\u001b[1;32m      2\u001b[0m cw \u001b[38;5;241m=\u001b[39m CarliniL2Method(classifier\u001b[38;5;241m=\u001b[39mmlp_classifier, targeted\u001b[38;5;241m=\u001b[39m\u001b[38;5;28;01mFalse\u001b[39;00m, max_iter\u001b[38;5;241m=\u001b[39m\u001b[38;5;241m10\u001b[39m)\n\u001b[0;32m----> 3\u001b[0m X_test_adv_cw \u001b[38;5;241m=\u001b[39m cw\u001b[38;5;241m.\u001b[39mgenerate(x\u001b[38;5;241m=\u001b[39mX_test)\n\u001b[1;32m      5\u001b[0m \u001b[38;5;66;03m# Predictions and Evaluation\u001b[39;00m\n\u001b[1;32m      6\u001b[0m y_pred_cw \u001b[38;5;241m=\u001b[39m mlp_model\u001b[38;5;241m.\u001b[39mpredict(X_test_adv_cw)\u001b[38;5;241m.\u001b[39margmax(axis\u001b[38;5;241m=\u001b[39m\u001b[38;5;241m1\u001b[39m)\n",
      "File \u001b[0;32m/opt/anaconda3/lib/python3.11/site-packages/art/attacks/evasion/carlini.py:255\u001b[0m, in \u001b[0;36mCarliniL2Method.generate\u001b[0;34m(self, x, y, **kwargs)\u001b[0m\n\u001b[1;32m    253\u001b[0m \u001b[38;5;66;03m# No labels provided, use model prediction as correct class\u001b[39;00m\n\u001b[1;32m    254\u001b[0m \u001b[38;5;28;01mif\u001b[39;00m y \u001b[38;5;129;01mis\u001b[39;00m \u001b[38;5;28;01mNone\u001b[39;00m:\n\u001b[0;32m--> 255\u001b[0m     y \u001b[38;5;241m=\u001b[39m get_labels_np_array(\u001b[38;5;28mself\u001b[39m\u001b[38;5;241m.\u001b[39mestimator\u001b[38;5;241m.\u001b[39mpredict(x, batch_size\u001b[38;5;241m=\u001b[39m\u001b[38;5;28mself\u001b[39m\u001b[38;5;241m.\u001b[39mbatch_size))\n\u001b[1;32m    257\u001b[0m \u001b[38;5;28;01mif\u001b[39;00m \u001b[38;5;28mself\u001b[39m\u001b[38;5;241m.\u001b[39mestimator\u001b[38;5;241m.\u001b[39mnb_classes \u001b[38;5;241m==\u001b[39m \u001b[38;5;241m2\u001b[39m \u001b[38;5;129;01mand\u001b[39;00m y\u001b[38;5;241m.\u001b[39mshape[\u001b[38;5;241m1\u001b[39m] \u001b[38;5;241m==\u001b[39m \u001b[38;5;241m1\u001b[39m:\n\u001b[1;32m    258\u001b[0m     \u001b[38;5;28;01mraise\u001b[39;00m \u001b[38;5;167;01mValueError\u001b[39;00m(  \u001b[38;5;66;03m# pragma: no cover\u001b[39;00m\n\u001b[1;32m    259\u001b[0m         \u001b[38;5;124m\"\u001b[39m\u001b[38;5;124mThis attack has not yet been tested for binary classification with a single output classifier.\u001b[39m\u001b[38;5;124m\"\u001b[39m\n\u001b[1;32m    260\u001b[0m     )\n",
      "File \u001b[0;32m/opt/anaconda3/lib/python3.11/site-packages/art/estimators/classification/classifier.py:75\u001b[0m, in \u001b[0;36mInputFilter.__init__.<locals>.make_replacement.<locals>.replacement_function\u001b[0;34m(self, *args, **kwargs)\u001b[0m\n\u001b[1;32m     73\u001b[0m \u001b[38;5;28;01mif\u001b[39;00m \u001b[38;5;28mlen\u001b[39m(args) \u001b[38;5;241m>\u001b[39m \u001b[38;5;241m0\u001b[39m:\n\u001b[1;32m     74\u001b[0m     args \u001b[38;5;241m=\u001b[39m \u001b[38;5;28mtuple\u001b[39m(lst)\n\u001b[0;32m---> 75\u001b[0m \u001b[38;5;28;01mreturn\u001b[39;00m fdict[func_name](\u001b[38;5;28mself\u001b[39m, \u001b[38;5;241m*\u001b[39margs, \u001b[38;5;241m*\u001b[39m\u001b[38;5;241m*\u001b[39mkwargs)\n",
      "File \u001b[0;32m/opt/anaconda3/lib/python3.11/site-packages/art/estimators/classification/tensorflow.py:942\u001b[0m, in \u001b[0;36mTensorFlowV2Classifier.predict\u001b[0;34m(self, x, batch_size, training_mode, **kwargs)\u001b[0m\n\u001b[1;32m    936\u001b[0m     begin, end \u001b[38;5;241m=\u001b[39m (\n\u001b[1;32m    937\u001b[0m         m \u001b[38;5;241m*\u001b[39m batch_size,\n\u001b[1;32m    938\u001b[0m         \u001b[38;5;28mmin\u001b[39m((m \u001b[38;5;241m+\u001b[39m \u001b[38;5;241m1\u001b[39m) \u001b[38;5;241m*\u001b[39m batch_size, x_preprocessed\u001b[38;5;241m.\u001b[39mshape[\u001b[38;5;241m0\u001b[39m]),\n\u001b[1;32m    939\u001b[0m     )\n\u001b[1;32m    941\u001b[0m     \u001b[38;5;66;03m# Run prediction\u001b[39;00m\n\u001b[0;32m--> 942\u001b[0m     results_list\u001b[38;5;241m.\u001b[39mappend(\u001b[38;5;28mself\u001b[39m\u001b[38;5;241m.\u001b[39m_model(x_preprocessed[begin:end], training\u001b[38;5;241m=\u001b[39mtraining_mode))\n\u001b[1;32m    944\u001b[0m results \u001b[38;5;241m=\u001b[39m np\u001b[38;5;241m.\u001b[39mvstack(results_list)\n\u001b[1;32m    946\u001b[0m \u001b[38;5;66;03m# Apply postprocessing\u001b[39;00m\n",
      "File \u001b[0;32m/opt/anaconda3/lib/python3.11/site-packages/keras/src/utils/traceback_utils.py:117\u001b[0m, in \u001b[0;36mfilter_traceback.<locals>.error_handler\u001b[0;34m(*args, **kwargs)\u001b[0m\n\u001b[1;32m    115\u001b[0m filtered_tb \u001b[38;5;241m=\u001b[39m \u001b[38;5;28;01mNone\u001b[39;00m\n\u001b[1;32m    116\u001b[0m \u001b[38;5;28;01mtry\u001b[39;00m:\n\u001b[0;32m--> 117\u001b[0m     \u001b[38;5;28;01mreturn\u001b[39;00m fn(\u001b[38;5;241m*\u001b[39margs, \u001b[38;5;241m*\u001b[39m\u001b[38;5;241m*\u001b[39mkwargs)\n\u001b[1;32m    118\u001b[0m \u001b[38;5;28;01mexcept\u001b[39;00m \u001b[38;5;167;01mException\u001b[39;00m \u001b[38;5;28;01mas\u001b[39;00m e:\n\u001b[1;32m    119\u001b[0m     filtered_tb \u001b[38;5;241m=\u001b[39m _process_traceback_frames(e\u001b[38;5;241m.\u001b[39m__traceback__)\n",
      "File \u001b[0;32m/opt/anaconda3/lib/python3.11/site-packages/keras/src/layers/layer.py:882\u001b[0m, in \u001b[0;36mLayer.__call__\u001b[0;34m(self, *args, **kwargs)\u001b[0m\n\u001b[1;32m    880\u001b[0m         outputs \u001b[38;5;241m=\u001b[39m \u001b[38;5;28msuper\u001b[39m()\u001b[38;5;241m.\u001b[39m\u001b[38;5;21m__call__\u001b[39m(\u001b[38;5;241m*\u001b[39margs, \u001b[38;5;241m*\u001b[39m\u001b[38;5;241m*\u001b[39mkwargs)\n\u001b[1;32m    881\u001b[0m \u001b[38;5;28;01melse\u001b[39;00m:\n\u001b[0;32m--> 882\u001b[0m     outputs \u001b[38;5;241m=\u001b[39m \u001b[38;5;28msuper\u001b[39m()\u001b[38;5;241m.\u001b[39m\u001b[38;5;21m__call__\u001b[39m(\u001b[38;5;241m*\u001b[39margs, \u001b[38;5;241m*\u001b[39m\u001b[38;5;241m*\u001b[39mkwargs)\n\u001b[1;32m    883\u001b[0m \u001b[38;5;66;03m# Change the layout for the layer output if needed.\u001b[39;00m\n\u001b[1;32m    884\u001b[0m \u001b[38;5;66;03m# This is useful for relayout intermediate tensor in the model\u001b[39;00m\n\u001b[1;32m    885\u001b[0m \u001b[38;5;66;03m# to achieve the optimal performance.\u001b[39;00m\n\u001b[1;32m    886\u001b[0m distribution \u001b[38;5;241m=\u001b[39m distribution_lib\u001b[38;5;241m.\u001b[39mdistribution()\n",
      "File \u001b[0;32m/opt/anaconda3/lib/python3.11/site-packages/keras/src/utils/traceback_utils.py:117\u001b[0m, in \u001b[0;36mfilter_traceback.<locals>.error_handler\u001b[0;34m(*args, **kwargs)\u001b[0m\n\u001b[1;32m    115\u001b[0m filtered_tb \u001b[38;5;241m=\u001b[39m \u001b[38;5;28;01mNone\u001b[39;00m\n\u001b[1;32m    116\u001b[0m \u001b[38;5;28;01mtry\u001b[39;00m:\n\u001b[0;32m--> 117\u001b[0m     \u001b[38;5;28;01mreturn\u001b[39;00m fn(\u001b[38;5;241m*\u001b[39margs, \u001b[38;5;241m*\u001b[39m\u001b[38;5;241m*\u001b[39mkwargs)\n\u001b[1;32m    118\u001b[0m \u001b[38;5;28;01mexcept\u001b[39;00m \u001b[38;5;167;01mException\u001b[39;00m \u001b[38;5;28;01mas\u001b[39;00m e:\n\u001b[1;32m    119\u001b[0m     filtered_tb \u001b[38;5;241m=\u001b[39m _process_traceback_frames(e\u001b[38;5;241m.\u001b[39m__traceback__)\n",
      "File \u001b[0;32m/opt/anaconda3/lib/python3.11/site-packages/keras/src/ops/operation.py:46\u001b[0m, in \u001b[0;36mOperation.__call__\u001b[0;34m(self, *args, **kwargs)\u001b[0m\n\u001b[1;32m     41\u001b[0m             call_fn \u001b[38;5;241m=\u001b[39m \u001b[38;5;28mself\u001b[39m\u001b[38;5;241m.\u001b[39mcall\n\u001b[1;32m     42\u001b[0m     call_fn \u001b[38;5;241m=\u001b[39m traceback_utils\u001b[38;5;241m.\u001b[39minject_argument_info_in_traceback(\n\u001b[1;32m     43\u001b[0m         call_fn,\n\u001b[1;32m     44\u001b[0m         object_name\u001b[38;5;241m=\u001b[39m(\u001b[38;5;124mf\u001b[39m\u001b[38;5;124m\"\u001b[39m\u001b[38;5;132;01m{\u001b[39;00m\u001b[38;5;28mself\u001b[39m\u001b[38;5;241m.\u001b[39m\u001b[38;5;18m__class__\u001b[39m\u001b[38;5;241m.\u001b[39m\u001b[38;5;18m__name__\u001b[39m\u001b[38;5;132;01m}\u001b[39;00m\u001b[38;5;124m.call()\u001b[39m\u001b[38;5;124m\"\u001b[39m),\n\u001b[1;32m     45\u001b[0m     )\n\u001b[0;32m---> 46\u001b[0m     \u001b[38;5;28;01mreturn\u001b[39;00m call_fn(\u001b[38;5;241m*\u001b[39margs, \u001b[38;5;241m*\u001b[39m\u001b[38;5;241m*\u001b[39mkwargs)\n\u001b[1;32m     48\u001b[0m \u001b[38;5;66;03m# Plain flow.\u001b[39;00m\n\u001b[1;32m     49\u001b[0m \u001b[38;5;28;01mif\u001b[39;00m any_symbolic_tensors(args, kwargs):\n",
      "File \u001b[0;32m/opt/anaconda3/lib/python3.11/site-packages/keras/src/utils/traceback_utils.py:156\u001b[0m, in \u001b[0;36minject_argument_info_in_traceback.<locals>.error_handler\u001b[0;34m(*args, **kwargs)\u001b[0m\n\u001b[1;32m    154\u001b[0m bound_signature \u001b[38;5;241m=\u001b[39m \u001b[38;5;28;01mNone\u001b[39;00m\n\u001b[1;32m    155\u001b[0m \u001b[38;5;28;01mtry\u001b[39;00m:\n\u001b[0;32m--> 156\u001b[0m     \u001b[38;5;28;01mreturn\u001b[39;00m fn(\u001b[38;5;241m*\u001b[39margs, \u001b[38;5;241m*\u001b[39m\u001b[38;5;241m*\u001b[39mkwargs)\n\u001b[1;32m    157\u001b[0m \u001b[38;5;28;01mexcept\u001b[39;00m \u001b[38;5;167;01mException\u001b[39;00m \u001b[38;5;28;01mas\u001b[39;00m e:\n\u001b[1;32m    158\u001b[0m     \u001b[38;5;28;01mif\u001b[39;00m \u001b[38;5;28mhasattr\u001b[39m(e, \u001b[38;5;124m\"\u001b[39m\u001b[38;5;124m_keras_call_info_injected\u001b[39m\u001b[38;5;124m\"\u001b[39m):\n\u001b[1;32m    159\u001b[0m         \u001b[38;5;66;03m# Only inject info for the innermost failing call\u001b[39;00m\n",
      "File \u001b[0;32m/opt/anaconda3/lib/python3.11/site-packages/keras/src/models/sequential.py:209\u001b[0m, in \u001b[0;36mSequential.call\u001b[0;34m(self, inputs, training, mask)\u001b[0m\n\u001b[1;32m    207\u001b[0m \u001b[38;5;28;01mdef\u001b[39;00m \u001b[38;5;21mcall\u001b[39m(\u001b[38;5;28mself\u001b[39m, inputs, training\u001b[38;5;241m=\u001b[39m\u001b[38;5;28;01mNone\u001b[39;00m, mask\u001b[38;5;241m=\u001b[39m\u001b[38;5;28;01mNone\u001b[39;00m):\n\u001b[1;32m    208\u001b[0m     \u001b[38;5;28;01mif\u001b[39;00m \u001b[38;5;28mself\u001b[39m\u001b[38;5;241m.\u001b[39m_functional:\n\u001b[0;32m--> 209\u001b[0m         \u001b[38;5;28;01mreturn\u001b[39;00m \u001b[38;5;28mself\u001b[39m\u001b[38;5;241m.\u001b[39m_functional\u001b[38;5;241m.\u001b[39mcall(inputs, training\u001b[38;5;241m=\u001b[39mtraining, mask\u001b[38;5;241m=\u001b[39mmask)\n\u001b[1;32m    211\u001b[0m     \u001b[38;5;66;03m# Fallback: Just apply the layer sequence.\u001b[39;00m\n\u001b[1;32m    212\u001b[0m     \u001b[38;5;66;03m# This typically happens if `inputs` is a nested struct.\u001b[39;00m\n\u001b[1;32m    213\u001b[0m     \u001b[38;5;28;01mfor\u001b[39;00m layer \u001b[38;5;129;01min\u001b[39;00m \u001b[38;5;28mself\u001b[39m\u001b[38;5;241m.\u001b[39mlayers:\n\u001b[1;32m    214\u001b[0m         \u001b[38;5;66;03m# During each iteration, `inputs` are the inputs to `layer`, and\u001b[39;00m\n\u001b[1;32m    215\u001b[0m         \u001b[38;5;66;03m# `outputs` are the outputs of `layer` applied to `inputs`. At the\u001b[39;00m\n\u001b[1;32m    216\u001b[0m         \u001b[38;5;66;03m# end of each iteration `inputs` is set to `outputs` to prepare for\u001b[39;00m\n\u001b[1;32m    217\u001b[0m         \u001b[38;5;66;03m# the next layer.\u001b[39;00m\n",
      "File \u001b[0;32m/opt/anaconda3/lib/python3.11/site-packages/keras/src/models/functional.py:175\u001b[0m, in \u001b[0;36mFunctional.call\u001b[0;34m(self, inputs, training, mask)\u001b[0m\n\u001b[1;32m    173\u001b[0m         \u001b[38;5;28;01mif\u001b[39;00m mask \u001b[38;5;129;01mis\u001b[39;00m \u001b[38;5;129;01mnot\u001b[39;00m \u001b[38;5;28;01mNone\u001b[39;00m:\n\u001b[1;32m    174\u001b[0m             x\u001b[38;5;241m.\u001b[39m_keras_mask \u001b[38;5;241m=\u001b[39m mask\n\u001b[0;32m--> 175\u001b[0m outputs \u001b[38;5;241m=\u001b[39m \u001b[38;5;28mself\u001b[39m\u001b[38;5;241m.\u001b[39m_run_through_graph(\n\u001b[1;32m    176\u001b[0m     inputs, operation_fn\u001b[38;5;241m=\u001b[39m\u001b[38;5;28;01mlambda\u001b[39;00m op: operation_fn(op, training\u001b[38;5;241m=\u001b[39mtraining)\n\u001b[1;32m    177\u001b[0m )\n\u001b[1;32m    178\u001b[0m \u001b[38;5;28;01mreturn\u001b[39;00m unpack_singleton(outputs)\n",
      "File \u001b[0;32m/opt/anaconda3/lib/python3.11/site-packages/keras/src/ops/function.py:171\u001b[0m, in \u001b[0;36mFunction._run_through_graph\u001b[0;34m(self, inputs, operation_fn, call_fn)\u001b[0m\n\u001b[1;32m    169\u001b[0m     outputs \u001b[38;5;241m=\u001b[39m call_fn(op, \u001b[38;5;241m*\u001b[39margs, \u001b[38;5;241m*\u001b[39m\u001b[38;5;241m*\u001b[39mkwargs)\n\u001b[1;32m    170\u001b[0m \u001b[38;5;28;01melse\u001b[39;00m:\n\u001b[0;32m--> 171\u001b[0m     outputs \u001b[38;5;241m=\u001b[39m op(\u001b[38;5;241m*\u001b[39margs, \u001b[38;5;241m*\u001b[39m\u001b[38;5;241m*\u001b[39mkwargs)\n\u001b[1;32m    173\u001b[0m \u001b[38;5;66;03m# Update tensor_dict.\u001b[39;00m\n\u001b[1;32m    174\u001b[0m \u001b[38;5;28;01mfor\u001b[39;00m x, y \u001b[38;5;129;01min\u001b[39;00m \u001b[38;5;28mzip\u001b[39m(node\u001b[38;5;241m.\u001b[39moutputs, tree\u001b[38;5;241m.\u001b[39mflatten(outputs)):\n",
      "File \u001b[0;32m/opt/anaconda3/lib/python3.11/site-packages/keras/src/models/functional.py:556\u001b[0m, in \u001b[0;36moperation_fn.<locals>.call\u001b[0;34m(*args, **kwargs)\u001b[0m\n\u001b[1;32m    550\u001b[0m \u001b[38;5;28;01mif\u001b[39;00m (\n\u001b[1;32m    551\u001b[0m     \u001b[38;5;28mhasattr\u001b[39m(operation, \u001b[38;5;124m\"\u001b[39m\u001b[38;5;124m_call_has_training_arg\u001b[39m\u001b[38;5;124m\"\u001b[39m)\n\u001b[1;32m    552\u001b[0m     \u001b[38;5;129;01mand\u001b[39;00m operation\u001b[38;5;241m.\u001b[39m_call_has_training_arg\n\u001b[1;32m    553\u001b[0m     \u001b[38;5;129;01mand\u001b[39;00m training \u001b[38;5;129;01mis\u001b[39;00m \u001b[38;5;129;01mnot\u001b[39;00m \u001b[38;5;28;01mNone\u001b[39;00m\n\u001b[1;32m    554\u001b[0m ):\n\u001b[1;32m    555\u001b[0m     kwargs[\u001b[38;5;124m\"\u001b[39m\u001b[38;5;124mtraining\u001b[39m\u001b[38;5;124m\"\u001b[39m] \u001b[38;5;241m=\u001b[39m training\n\u001b[0;32m--> 556\u001b[0m \u001b[38;5;28;01mreturn\u001b[39;00m operation(\u001b[38;5;241m*\u001b[39margs, \u001b[38;5;241m*\u001b[39m\u001b[38;5;241m*\u001b[39mkwargs)\n",
      "File \u001b[0;32m/opt/anaconda3/lib/python3.11/site-packages/keras/src/utils/traceback_utils.py:117\u001b[0m, in \u001b[0;36mfilter_traceback.<locals>.error_handler\u001b[0;34m(*args, **kwargs)\u001b[0m\n\u001b[1;32m    115\u001b[0m filtered_tb \u001b[38;5;241m=\u001b[39m \u001b[38;5;28;01mNone\u001b[39;00m\n\u001b[1;32m    116\u001b[0m \u001b[38;5;28;01mtry\u001b[39;00m:\n\u001b[0;32m--> 117\u001b[0m     \u001b[38;5;28;01mreturn\u001b[39;00m fn(\u001b[38;5;241m*\u001b[39margs, \u001b[38;5;241m*\u001b[39m\u001b[38;5;241m*\u001b[39mkwargs)\n\u001b[1;32m    118\u001b[0m \u001b[38;5;28;01mexcept\u001b[39;00m \u001b[38;5;167;01mException\u001b[39;00m \u001b[38;5;28;01mas\u001b[39;00m e:\n\u001b[1;32m    119\u001b[0m     filtered_tb \u001b[38;5;241m=\u001b[39m _process_traceback_frames(e\u001b[38;5;241m.\u001b[39m__traceback__)\n",
      "File \u001b[0;32m/opt/anaconda3/lib/python3.11/site-packages/keras/src/layers/layer.py:882\u001b[0m, in \u001b[0;36mLayer.__call__\u001b[0;34m(self, *args, **kwargs)\u001b[0m\n\u001b[1;32m    880\u001b[0m         outputs \u001b[38;5;241m=\u001b[39m \u001b[38;5;28msuper\u001b[39m()\u001b[38;5;241m.\u001b[39m\u001b[38;5;21m__call__\u001b[39m(\u001b[38;5;241m*\u001b[39margs, \u001b[38;5;241m*\u001b[39m\u001b[38;5;241m*\u001b[39mkwargs)\n\u001b[1;32m    881\u001b[0m \u001b[38;5;28;01melse\u001b[39;00m:\n\u001b[0;32m--> 882\u001b[0m     outputs \u001b[38;5;241m=\u001b[39m \u001b[38;5;28msuper\u001b[39m()\u001b[38;5;241m.\u001b[39m\u001b[38;5;21m__call__\u001b[39m(\u001b[38;5;241m*\u001b[39margs, \u001b[38;5;241m*\u001b[39m\u001b[38;5;241m*\u001b[39mkwargs)\n\u001b[1;32m    883\u001b[0m \u001b[38;5;66;03m# Change the layout for the layer output if needed.\u001b[39;00m\n\u001b[1;32m    884\u001b[0m \u001b[38;5;66;03m# This is useful for relayout intermediate tensor in the model\u001b[39;00m\n\u001b[1;32m    885\u001b[0m \u001b[38;5;66;03m# to achieve the optimal performance.\u001b[39;00m\n\u001b[1;32m    886\u001b[0m distribution \u001b[38;5;241m=\u001b[39m distribution_lib\u001b[38;5;241m.\u001b[39mdistribution()\n",
      "File \u001b[0;32m/opt/anaconda3/lib/python3.11/site-packages/keras/src/utils/traceback_utils.py:117\u001b[0m, in \u001b[0;36mfilter_traceback.<locals>.error_handler\u001b[0;34m(*args, **kwargs)\u001b[0m\n\u001b[1;32m    115\u001b[0m filtered_tb \u001b[38;5;241m=\u001b[39m \u001b[38;5;28;01mNone\u001b[39;00m\n\u001b[1;32m    116\u001b[0m \u001b[38;5;28;01mtry\u001b[39;00m:\n\u001b[0;32m--> 117\u001b[0m     \u001b[38;5;28;01mreturn\u001b[39;00m fn(\u001b[38;5;241m*\u001b[39margs, \u001b[38;5;241m*\u001b[39m\u001b[38;5;241m*\u001b[39mkwargs)\n\u001b[1;32m    118\u001b[0m \u001b[38;5;28;01mexcept\u001b[39;00m \u001b[38;5;167;01mException\u001b[39;00m \u001b[38;5;28;01mas\u001b[39;00m e:\n\u001b[1;32m    119\u001b[0m     filtered_tb \u001b[38;5;241m=\u001b[39m _process_traceback_frames(e\u001b[38;5;241m.\u001b[39m__traceback__)\n",
      "File \u001b[0;32m/opt/anaconda3/lib/python3.11/site-packages/keras/src/ops/operation.py:46\u001b[0m, in \u001b[0;36mOperation.__call__\u001b[0;34m(self, *args, **kwargs)\u001b[0m\n\u001b[1;32m     41\u001b[0m             call_fn \u001b[38;5;241m=\u001b[39m \u001b[38;5;28mself\u001b[39m\u001b[38;5;241m.\u001b[39mcall\n\u001b[1;32m     42\u001b[0m     call_fn \u001b[38;5;241m=\u001b[39m traceback_utils\u001b[38;5;241m.\u001b[39minject_argument_info_in_traceback(\n\u001b[1;32m     43\u001b[0m         call_fn,\n\u001b[1;32m     44\u001b[0m         object_name\u001b[38;5;241m=\u001b[39m(\u001b[38;5;124mf\u001b[39m\u001b[38;5;124m\"\u001b[39m\u001b[38;5;132;01m{\u001b[39;00m\u001b[38;5;28mself\u001b[39m\u001b[38;5;241m.\u001b[39m\u001b[38;5;18m__class__\u001b[39m\u001b[38;5;241m.\u001b[39m\u001b[38;5;18m__name__\u001b[39m\u001b[38;5;132;01m}\u001b[39;00m\u001b[38;5;124m.call()\u001b[39m\u001b[38;5;124m\"\u001b[39m),\n\u001b[1;32m     45\u001b[0m     )\n\u001b[0;32m---> 46\u001b[0m     \u001b[38;5;28;01mreturn\u001b[39;00m call_fn(\u001b[38;5;241m*\u001b[39margs, \u001b[38;5;241m*\u001b[39m\u001b[38;5;241m*\u001b[39mkwargs)\n\u001b[1;32m     48\u001b[0m \u001b[38;5;66;03m# Plain flow.\u001b[39;00m\n\u001b[1;32m     49\u001b[0m \u001b[38;5;28;01mif\u001b[39;00m any_symbolic_tensors(args, kwargs):\n",
      "File \u001b[0;32m/opt/anaconda3/lib/python3.11/site-packages/keras/src/utils/traceback_utils.py:156\u001b[0m, in \u001b[0;36minject_argument_info_in_traceback.<locals>.error_handler\u001b[0;34m(*args, **kwargs)\u001b[0m\n\u001b[1;32m    154\u001b[0m bound_signature \u001b[38;5;241m=\u001b[39m \u001b[38;5;28;01mNone\u001b[39;00m\n\u001b[1;32m    155\u001b[0m \u001b[38;5;28;01mtry\u001b[39;00m:\n\u001b[0;32m--> 156\u001b[0m     \u001b[38;5;28;01mreturn\u001b[39;00m fn(\u001b[38;5;241m*\u001b[39margs, \u001b[38;5;241m*\u001b[39m\u001b[38;5;241m*\u001b[39mkwargs)\n\u001b[1;32m    157\u001b[0m \u001b[38;5;28;01mexcept\u001b[39;00m \u001b[38;5;167;01mException\u001b[39;00m \u001b[38;5;28;01mas\u001b[39;00m e:\n\u001b[1;32m    158\u001b[0m     \u001b[38;5;28;01mif\u001b[39;00m \u001b[38;5;28mhasattr\u001b[39m(e, \u001b[38;5;124m\"\u001b[39m\u001b[38;5;124m_keras_call_info_injected\u001b[39m\u001b[38;5;124m\"\u001b[39m):\n\u001b[1;32m    159\u001b[0m         \u001b[38;5;66;03m# Only inject info for the innermost failing call\u001b[39;00m\n",
      "File \u001b[0;32m/opt/anaconda3/lib/python3.11/site-packages/keras/src/layers/core/dense.py:148\u001b[0m, in \u001b[0;36mDense.call\u001b[0;34m(self, inputs, training)\u001b[0m\n\u001b[1;32m    146\u001b[0m     x \u001b[38;5;241m=\u001b[39m ops\u001b[38;5;241m.\u001b[39madd(x, \u001b[38;5;28mself\u001b[39m\u001b[38;5;241m.\u001b[39mbias)\n\u001b[1;32m    147\u001b[0m \u001b[38;5;28;01mif\u001b[39;00m \u001b[38;5;28mself\u001b[39m\u001b[38;5;241m.\u001b[39mactivation \u001b[38;5;129;01mis\u001b[39;00m \u001b[38;5;129;01mnot\u001b[39;00m \u001b[38;5;28;01mNone\u001b[39;00m:\n\u001b[0;32m--> 148\u001b[0m     x \u001b[38;5;241m=\u001b[39m \u001b[38;5;28mself\u001b[39m\u001b[38;5;241m.\u001b[39mactivation(x)\n\u001b[1;32m    149\u001b[0m \u001b[38;5;28;01mreturn\u001b[39;00m x\n",
      "File \u001b[0;32m/opt/anaconda3/lib/python3.11/site-packages/keras/src/activations/activations.py:41\u001b[0m, in \u001b[0;36mrelu\u001b[0;34m(x, negative_slope, max_value, threshold)\u001b[0m\n\u001b[1;32m      6\u001b[0m \u001b[38;5;129m@keras_export\u001b[39m(\u001b[38;5;124m\"\u001b[39m\u001b[38;5;124mkeras.activations.relu\u001b[39m\u001b[38;5;124m\"\u001b[39m)\n\u001b[1;32m      7\u001b[0m \u001b[38;5;28;01mdef\u001b[39;00m \u001b[38;5;21mrelu\u001b[39m(x, negative_slope\u001b[38;5;241m=\u001b[39m\u001b[38;5;241m0.0\u001b[39m, max_value\u001b[38;5;241m=\u001b[39m\u001b[38;5;28;01mNone\u001b[39;00m, threshold\u001b[38;5;241m=\u001b[39m\u001b[38;5;241m0.0\u001b[39m):\n\u001b[1;32m      8\u001b[0m \u001b[38;5;250m    \u001b[39m\u001b[38;5;124;03m\"\"\"Applies the rectified linear unit activation function.\u001b[39;00m\n\u001b[1;32m      9\u001b[0m \n\u001b[1;32m     10\u001b[0m \u001b[38;5;124;03m    With default values, this returns the standard ReLU activation:\u001b[39;00m\n\u001b[0;32m   (...)\u001b[0m\n\u001b[1;32m     39\u001b[0m \u001b[38;5;124;03m        A tensor with the same shape and dtype as input `x`.\u001b[39;00m\n\u001b[1;32m     40\u001b[0m \u001b[38;5;124;03m    \"\"\"\u001b[39;00m\n\u001b[0;32m---> 41\u001b[0m     \u001b[38;5;28;01mif\u001b[39;00m backend\u001b[38;5;241m.\u001b[39many_symbolic_tensors((x,)):\n\u001b[1;32m     42\u001b[0m         \u001b[38;5;28;01mreturn\u001b[39;00m ReLU(\n\u001b[1;32m     43\u001b[0m             negative_slope\u001b[38;5;241m=\u001b[39mnegative_slope,\n\u001b[1;32m     44\u001b[0m             max_value\u001b[38;5;241m=\u001b[39mmax_value,\n\u001b[1;32m     45\u001b[0m             threshold\u001b[38;5;241m=\u001b[39mthreshold,\n\u001b[1;32m     46\u001b[0m         )(x)\n\u001b[1;32m     47\u001b[0m     \u001b[38;5;28;01mreturn\u001b[39;00m ReLU\u001b[38;5;241m.\u001b[39mstatic_call(\n\u001b[1;32m     48\u001b[0m         x,\n\u001b[1;32m     49\u001b[0m         negative_slope\u001b[38;5;241m=\u001b[39mnegative_slope,\n\u001b[1;32m     50\u001b[0m         max_value\u001b[38;5;241m=\u001b[39mmax_value,\n\u001b[1;32m     51\u001b[0m         threshold\u001b[38;5;241m=\u001b[39mthreshold,\n\u001b[1;32m     52\u001b[0m     )\n",
      "File \u001b[0;32m/opt/anaconda3/lib/python3.11/site-packages/keras/src/backend/common/keras_tensor.py:296\u001b[0m, in \u001b[0;36many_symbolic_tensors\u001b[0;34m(args, kwargs)\u001b[0m\n\u001b[1;32m    294\u001b[0m args \u001b[38;5;241m=\u001b[39m args \u001b[38;5;129;01mor\u001b[39;00m ()\n\u001b[1;32m    295\u001b[0m kwargs \u001b[38;5;241m=\u001b[39m kwargs \u001b[38;5;129;01mor\u001b[39;00m {}\n\u001b[0;32m--> 296\u001b[0m \u001b[38;5;28;01mfor\u001b[39;00m x \u001b[38;5;129;01min\u001b[39;00m tree\u001b[38;5;241m.\u001b[39mflatten((args, kwargs)):\n\u001b[1;32m    297\u001b[0m     \u001b[38;5;28;01mif\u001b[39;00m \u001b[38;5;28misinstance\u001b[39m(x, KerasTensor):\n\u001b[1;32m    298\u001b[0m         \u001b[38;5;28;01mreturn\u001b[39;00m \u001b[38;5;28;01mTrue\u001b[39;00m\n",
      "File \u001b[0;32m/opt/anaconda3/lib/python3.11/site-packages/keras/src/tree/tree_api.py:121\u001b[0m, in \u001b[0;36mflatten\u001b[0;34m(structure)\u001b[0m\n\u001b[1;32m     91\u001b[0m \u001b[38;5;129m@keras_export\u001b[39m(\u001b[38;5;124m\"\u001b[39m\u001b[38;5;124mkeras.tree.flatten\u001b[39m\u001b[38;5;124m\"\u001b[39m)\n\u001b[1;32m     92\u001b[0m \u001b[38;5;28;01mdef\u001b[39;00m \u001b[38;5;21mflatten\u001b[39m(structure):\n\u001b[1;32m     93\u001b[0m \u001b[38;5;250m    \u001b[39m\u001b[38;5;124;03m\"\"\"Flattens a possibly nested structure into a list.\u001b[39;00m\n\u001b[1;32m     94\u001b[0m \n\u001b[1;32m     95\u001b[0m \u001b[38;5;124;03m    In the case of dict instances, the sequence consists of the values,\u001b[39;00m\n\u001b[0;32m   (...)\u001b[0m\n\u001b[1;32m    119\u001b[0m \u001b[38;5;124;03m        A list, the flattened version of the input `structure`.\u001b[39;00m\n\u001b[1;32m    120\u001b[0m \u001b[38;5;124;03m    \"\"\"\u001b[39;00m\n\u001b[0;32m--> 121\u001b[0m     \u001b[38;5;28;01mreturn\u001b[39;00m tree_impl\u001b[38;5;241m.\u001b[39mflatten(structure)\n",
      "File \u001b[0;32m/opt/anaconda3/lib/python3.11/site-packages/keras/src/tree/optree_impl.py:66\u001b[0m, in \u001b[0;36mflatten\u001b[0;34m(structure)\u001b[0m\n\u001b[1;32m     62\u001b[0m \u001b[38;5;28;01mdef\u001b[39;00m \u001b[38;5;21mflatten\u001b[39m(structure):\n\u001b[1;32m     63\u001b[0m     \u001b[38;5;66;03m# optree.tree_flatten returns a pair (leaves, treespec) where the first\u001b[39;00m\n\u001b[1;32m     64\u001b[0m     \u001b[38;5;66;03m# element is a list of leaf values and the second element is a treespec\u001b[39;00m\n\u001b[1;32m     65\u001b[0m     \u001b[38;5;66;03m# representing the structure of the pytree.\u001b[39;00m\n\u001b[0;32m---> 66\u001b[0m     leaves, _ \u001b[38;5;241m=\u001b[39m optree\u001b[38;5;241m.\u001b[39mtree_flatten(\n\u001b[1;32m     67\u001b[0m         structure, none_is_leaf\u001b[38;5;241m=\u001b[39m\u001b[38;5;28;01mTrue\u001b[39;00m, namespace\u001b[38;5;241m=\u001b[39m\u001b[38;5;124m\"\u001b[39m\u001b[38;5;124mkeras\u001b[39m\u001b[38;5;124m\"\u001b[39m\n\u001b[1;32m     68\u001b[0m     )\n\u001b[1;32m     69\u001b[0m     \u001b[38;5;28;01mreturn\u001b[39;00m leaves\n",
      "File \u001b[0;32m/opt/anaconda3/lib/python3.11/site-packages/optree/ops.py:189\u001b[0m, in \u001b[0;36mtree_flatten\u001b[0;34m(tree, is_leaf, none_is_leaf, namespace)\u001b[0m\n\u001b[1;32m    124\u001b[0m \u001b[38;5;28;01mdef\u001b[39;00m \u001b[38;5;21mtree_flatten\u001b[39m(\n\u001b[1;32m    125\u001b[0m     tree: PyTree[T],\n\u001b[1;32m    126\u001b[0m     is_leaf: Callable[[T], \u001b[38;5;28mbool\u001b[39m] \u001b[38;5;241m|\u001b[39m \u001b[38;5;28;01mNone\u001b[39;00m \u001b[38;5;241m=\u001b[39m \u001b[38;5;28;01mNone\u001b[39;00m,\n\u001b[0;32m   (...)\u001b[0m\n\u001b[1;32m    129\u001b[0m     namespace: \u001b[38;5;28mstr\u001b[39m \u001b[38;5;241m=\u001b[39m \u001b[38;5;124m'\u001b[39m\u001b[38;5;124m'\u001b[39m,\n\u001b[1;32m    130\u001b[0m ) \u001b[38;5;241m-\u001b[39m\u001b[38;5;241m>\u001b[39m \u001b[38;5;28mtuple\u001b[39m[\u001b[38;5;28mlist\u001b[39m[T], PyTreeSpec]:\n\u001b[1;32m    131\u001b[0m \u001b[38;5;250m    \u001b[39m\u001b[38;5;124;03m\"\"\"Flatten a pytree.\u001b[39;00m\n\u001b[1;32m    132\u001b[0m \n\u001b[1;32m    133\u001b[0m \u001b[38;5;124;03m    See also :func:`tree_flatten_with_path` and :func:`tree_unflatten`.\u001b[39;00m\n\u001b[0;32m   (...)\u001b[0m\n\u001b[1;32m    187\u001b[0m \u001b[38;5;124;03m        second element is a treespec representing the structure of the pytree.\u001b[39;00m\n\u001b[1;32m    188\u001b[0m \u001b[38;5;124;03m    \"\"\"\u001b[39;00m\n\u001b[0;32m--> 189\u001b[0m     \u001b[38;5;28;01mreturn\u001b[39;00m _C\u001b[38;5;241m.\u001b[39mflatten(tree, is_leaf, none_is_leaf, namespace)\n",
      "\u001b[0;31mKeyboardInterrupt\u001b[0m: "
     ]
    }
   ],
   "source": [
    "# C&W Attack\n",
    "cw = CarliniL2Method(classifier=mlp_classifier, targeted=False, max_iter=10)\n",
    "X_test_adv_cw = cw.generate(x=X_test)\n",
    "\n",
    "# Predictions and Evaluation\n",
    "y_pred_cw = mlp_model.predict(X_test_adv_cw).argmax(axis=1)\n",
    "print(\"Classification Report (MLP - C&W):\")\n",
    "print(classification_report(y_test, y_pred_cw, zero_division=1))\n",
    "\n"
   ]
  },
  {
   "cell_type": "code",
   "execution_count": 158,
   "id": "e6879425-45e9-440b-b6ab-2280499d7fca",
   "metadata": {},
   "outputs": [
    {
     "name": "stdout",
     "output_type": "stream",
     "text": [
      "Epoch 1/10\n"
     ]
    },
    {
     "name": "stderr",
     "output_type": "stream",
     "text": [
      "/opt/anaconda3/lib/python3.11/site-packages/keras/src/layers/convolutional/base_conv.py:107: UserWarning: Do not pass an `input_shape`/`input_dim` argument to a layer. When using Sequential models, prefer using an `Input(shape)` object as the first layer in the model instead.\n",
      "  super().__init__(activity_regularizer=activity_regularizer, **kwargs)\n"
     ]
    },
    {
     "name": "stdout",
     "output_type": "stream",
     "text": [
      "\u001b[1m2835/2835\u001b[0m \u001b[32m━━━━━━━━━━━━━━━━━━━━\u001b[0m\u001b[37m\u001b[0m \u001b[1m6s\u001b[0m 2ms/step - accuracy: 0.9589 - loss: 0.2036 - val_accuracy: 0.9906 - val_loss: 0.0366\n",
      "Epoch 2/10\n",
      "\u001b[1m2835/2835\u001b[0m \u001b[32m━━━━━━━━━━━━━━━━━━━━\u001b[0m\u001b[37m\u001b[0m \u001b[1m6s\u001b[0m 2ms/step - accuracy: 0.9884 - loss: 0.0420 - val_accuracy: 0.9916 - val_loss: 0.0327\n",
      "Epoch 3/10\n",
      "\u001b[1m2835/2835\u001b[0m \u001b[32m━━━━━━━━━━━━━━━━━━━━\u001b[0m\u001b[37m\u001b[0m \u001b[1m5s\u001b[0m 2ms/step - accuracy: 0.9909 - loss: 0.0340 - val_accuracy: 0.9938 - val_loss: 0.0229\n",
      "Epoch 4/10\n",
      "\u001b[1m2835/2835\u001b[0m \u001b[32m━━━━━━━━━━━━━━━━━━━━\u001b[0m\u001b[37m\u001b[0m \u001b[1m6s\u001b[0m 2ms/step - accuracy: 0.9917 - loss: 0.0270 - val_accuracy: 0.9929 - val_loss: 0.0243\n",
      "Epoch 5/10\n",
      "\u001b[1m2835/2835\u001b[0m \u001b[32m━━━━━━━━━━━━━━━━━━━━\u001b[0m\u001b[37m\u001b[0m \u001b[1m5s\u001b[0m 2ms/step - accuracy: 0.9926 - loss: 0.0254 - val_accuracy: 0.9936 - val_loss: 0.0238\n",
      "Epoch 6/10\n",
      "\u001b[1m2835/2835\u001b[0m \u001b[32m━━━━━━━━━━━━━━━━━━━━\u001b[0m\u001b[37m\u001b[0m \u001b[1m5s\u001b[0m 2ms/step - accuracy: 0.9933 - loss: 0.0218 - val_accuracy: 0.9944 - val_loss: 0.0194\n",
      "Epoch 7/10\n",
      "\u001b[1m2835/2835\u001b[0m \u001b[32m━━━━━━━━━━━━━━━━━━━━\u001b[0m\u001b[37m\u001b[0m \u001b[1m5s\u001b[0m 2ms/step - accuracy: 0.9939 - loss: 0.0190 - val_accuracy: 0.9959 - val_loss: 0.0172\n",
      "Epoch 8/10\n",
      "\u001b[1m2835/2835\u001b[0m \u001b[32m━━━━━━━━━━━━━━━━━━━━\u001b[0m\u001b[37m\u001b[0m \u001b[1m5s\u001b[0m 2ms/step - accuracy: 0.9945 - loss: 0.0172 - val_accuracy: 0.9947 - val_loss: 0.0203\n",
      "Epoch 9/10\n",
      "\u001b[1m2835/2835\u001b[0m \u001b[32m━━━━━━━━━━━━━━━━━━━━\u001b[0m\u001b[37m\u001b[0m \u001b[1m5s\u001b[0m 2ms/step - accuracy: 0.9946 - loss: 0.0185 - val_accuracy: 0.9945 - val_loss: 0.0180\n",
      "Epoch 10/10\n",
      "\u001b[1m2835/2835\u001b[0m \u001b[32m━━━━━━━━━━━━━━━━━━━━\u001b[0m\u001b[37m\u001b[0m \u001b[1m5s\u001b[0m 2ms/step - accuracy: 0.9941 - loss: 0.0176 - val_accuracy: 0.9951 - val_loss: 0.0167\n"
     ]
    }
   ],
   "source": [
    "# Reshape input for CNN\n",
    "X_train_cnn = X_train[..., None]\n",
    "X_test_cnn = X_test[..., None]\n",
    "\n",
    "# Define CNN Model\n",
    "cnn_model = Sequential([\n",
    "    Conv1D(32, kernel_size=3, activation='relu', input_shape=(X_train.shape[1], 1)),\n",
    "    MaxPooling1D(pool_size=2),\n",
    "    Flatten(),\n",
    "    Dense(64, activation='relu'),\n",
    "    Dense(len(set(y_encoded)), activation='softmax')\n",
    "])\n",
    "\n",
    "cnn_model.compile(optimizer='adam', loss='sparse_categorical_crossentropy', metrics=['accuracy'])\n",
    "cnn_model.fit(X_train_cnn, y_train, epochs=10, batch_size=32, validation_split=0.1)\n",
    "\n",
    "# Wrap the model with ART’s TensorFlowV2Classifier\n",
    "cnn_classifier = TensorFlowV2Classifier(\n",
    "    model=cnn_model,\n",
    "    nb_classes=len(set(y_encoded)),\n",
    "    input_shape=(X_train.shape[1], 1),\n",
    "    loss_object=tf.keras.losses.SparseCategoricalCrossentropy()\n",
    ")\n"
   ]
  },
  {
   "cell_type": "code",
   "execution_count": 160,
   "id": "93044828-3929-4278-bdbc-12cdd9fc7b6b",
   "metadata": {},
   "outputs": [
    {
     "name": "stdout",
     "output_type": "stream",
     "text": [
      "\u001b[1m788/788\u001b[0m \u001b[32m━━━━━━━━━━━━━━━━━━━━\u001b[0m\u001b[37m\u001b[0m \u001b[1m0s\u001b[0m 477us/step\n",
      "Classification Report (CNN - FGSM):\n",
      "              precision    recall  f1-score   support\n",
      "\n",
      "           0       0.03      0.19      0.05       201\n",
      "           1       0.67      0.29      0.40         7\n",
      "           2       0.00      1.00      0.00         0\n",
      "           3       1.00      0.86      0.92        14\n",
      "           4       1.00      1.00      1.00         2\n",
      "           5       0.85      0.53      0.66       743\n",
      "           6       0.67      1.00      0.80         2\n",
      "           7       1.00      0.00      0.00         3\n",
      "           8       0.00      0.00      0.00         1\n",
      "           9       0.99      0.99      0.99      8238\n",
      "          10       0.45      0.81      0.58       298\n",
      "          11       0.95      0.79      0.86     13386\n",
      "          12       1.00      0.00      0.00         1\n",
      "          13       1.00      1.00      1.00         1\n",
      "          14       1.00      0.97      0.99        36\n",
      "          15       0.85      0.96      0.90       583\n",
      "          16       0.00      0.00      0.00         2\n",
      "          17       0.58      0.91      0.71       749\n",
      "          18       0.94      0.95      0.95       551\n",
      "          19       1.00      0.00      0.00         1\n",
      "          20       1.00      1.00      1.00       196\n",
      "          21       0.10      0.42      0.16       176\n",
      "          22       0.17      0.25      0.20         4\n",
      "\n",
      "    accuracy                           0.86     25195\n",
      "   macro avg       0.66      0.61      0.53     25195\n",
      "weighted avg       0.93      0.86      0.88     25195\n",
      "\n"
     ]
    }
   ],
   "source": [
    "# FGSM Attack\n",
    "fgsm = FastGradientMethod(estimator=cnn_classifier, eps=0.1)\n",
    "X_test_adv_fgsm_cnn = fgsm.generate(x=X_test_cnn)\n",
    "\n",
    "# Predictions and Evaluation\n",
    "y_pred_fgsm_cnn = cnn_model.predict(X_test_adv_fgsm_cnn).argmax(axis=1)\n",
    "print(\"Classification Report (CNN - FGSM):\")\n",
    "print(classification_report(y_test, y_pred_fgsm_cnn, zero_division=1))\n"
   ]
  },
  {
   "cell_type": "code",
   "execution_count": 162,
   "id": "b4eded71-c292-4415-ad6d-d561c06993de",
   "metadata": {},
   "outputs": [
    {
     "data": {
      "application/vnd.jupyter.widget-view+json": {
       "model_id": "",
       "version_major": 2,
       "version_minor": 0
      },
      "text/plain": [
       "PGD - Batches: 0it [00:00, ?it/s]"
      ]
     },
     "metadata": {},
     "output_type": "display_data"
    },
    {
     "name": "stderr",
     "output_type": "stream",
     "text": [
      "2024-10-16 18:05:59.474574: W tensorflow/core/framework/local_rendezvous.cc:404] Local rendezvous is aborting with status: OUT_OF_RANGE: End of sequence\n"
     ]
    },
    {
     "name": "stdout",
     "output_type": "stream",
     "text": [
      "\u001b[1m788/788\u001b[0m \u001b[32m━━━━━━━━━━━━━━━━━━━━\u001b[0m\u001b[37m\u001b[0m \u001b[1m0s\u001b[0m 447us/step\n",
      "Classification Report (CNN - PGD):\n",
      "              precision    recall  f1-score   support\n",
      "\n",
      "           0       0.01      0.11      0.02       201\n",
      "           1       0.67      0.29      0.40         7\n",
      "           3       1.00      0.86      0.92        14\n",
      "           4       1.00      1.00      1.00         2\n",
      "           5       0.71      0.31      0.43       743\n",
      "           6       0.67      1.00      0.80         2\n",
      "           7       0.00      0.00      0.00         3\n",
      "           8       1.00      0.00      0.00         1\n",
      "           9       0.99      0.99      0.99      8238\n",
      "          10       0.36      0.69      0.47       298\n",
      "          11       0.92      0.67      0.77     13386\n",
      "          12       1.00      0.00      0.00         1\n",
      "          13       1.00      1.00      1.00         1\n",
      "          14       1.00      0.94      0.97        36\n",
      "          15       0.81      0.95      0.87       583\n",
      "          16       1.00      0.00      0.00         2\n",
      "          17       0.50      0.88      0.64       749\n",
      "          18       0.90      0.95      0.92       551\n",
      "          19       1.00      0.00      0.00         1\n",
      "          20       1.00      0.99      1.00       196\n",
      "          21       0.05      0.26      0.09       176\n",
      "          22       0.05      0.25      0.09         4\n",
      "\n",
      "    accuracy                           0.78     25195\n",
      "   macro avg       0.71      0.55      0.52     25195\n",
      "weighted avg       0.90      0.78      0.82     25195\n",
      "\n"
     ]
    }
   ],
   "source": [
    "# PGD Attack\n",
    "pgd = ProjectedGradientDescent(estimator=cnn_classifier, eps=0.1, eps_step=0.01, max_iter=50)\n",
    "X_test_adv_pgd_cnn = pgd.generate(x=X_test_cnn)\n",
    "\n",
    "# Predictions and Evaluation\n",
    "y_pred_pgd_cnn = cnn_model.predict(X_test_adv_pgd_cnn).argmax(axis=1)\n",
    "print(\"Classification Report (CNN - PGD):\")\n",
    "print(classification_report(y_test, y_pred_pgd_cnn, zero_division=1))\n"
   ]
  },
  {
   "cell_type": "code",
   "execution_count": 164,
   "id": "6fd3be93-fadc-4dfb-bbff-f5dd70c13525",
   "metadata": {},
   "outputs": [
    {
     "data": {
      "application/vnd.jupyter.widget-view+json": {
       "model_id": "906447ae098b4acb85dd0f35d3abf4d6",
       "version_major": 2,
       "version_minor": 0
      },
      "text/plain": [
       "C&W L_2:   0%|          | 0/25195 [00:00<?, ?it/s]"
      ]
     },
     "metadata": {},
     "output_type": "display_data"
    },
    {
     "ename": "KeyboardInterrupt",
     "evalue": "",
     "output_type": "error",
     "traceback": [
      "\u001b[0;31m---------------------------------------------------------------------------\u001b[0m",
      "\u001b[0;31mKeyboardInterrupt\u001b[0m                         Traceback (most recent call last)",
      "\u001b[0;32m/var/folders/32/vj77bmy17kg35v19pjl7l4p40000gn/T/ipykernel_84148/2589291444.py\u001b[0m in \u001b[0;36m?\u001b[0;34m()\u001b[0m\n\u001b[1;32m      1\u001b[0m \u001b[0;31m# C&W Attack\u001b[0m\u001b[0;34m\u001b[0m\u001b[0;34m\u001b[0m\u001b[0m\n\u001b[1;32m      2\u001b[0m \u001b[0mcw\u001b[0m \u001b[0;34m=\u001b[0m \u001b[0mCarliniL2Method\u001b[0m\u001b[0;34m(\u001b[0m\u001b[0mclassifier\u001b[0m\u001b[0;34m=\u001b[0m\u001b[0mcnn_classifier\u001b[0m\u001b[0;34m,\u001b[0m \u001b[0mtargeted\u001b[0m\u001b[0;34m=\u001b[0m\u001b[0;32mFalse\u001b[0m\u001b[0;34m,\u001b[0m \u001b[0mmax_iter\u001b[0m\u001b[0;34m=\u001b[0m\u001b[0;36m10\u001b[0m\u001b[0;34m)\u001b[0m\u001b[0;34m\u001b[0m\u001b[0;34m\u001b[0m\u001b[0m\n\u001b[0;32m----> 3\u001b[0;31m \u001b[0mX_test_adv_cw_cnn\u001b[0m \u001b[0;34m=\u001b[0m \u001b[0mcw\u001b[0m\u001b[0;34m.\u001b[0m\u001b[0mgenerate\u001b[0m\u001b[0;34m(\u001b[0m\u001b[0mx\u001b[0m\u001b[0;34m=\u001b[0m\u001b[0mX_test_cnn\u001b[0m\u001b[0;34m)\u001b[0m\u001b[0;34m\u001b[0m\u001b[0;34m\u001b[0m\u001b[0m\n\u001b[0m\u001b[1;32m      4\u001b[0m \u001b[0;34m\u001b[0m\u001b[0m\n\u001b[1;32m      5\u001b[0m \u001b[0;31m# Predictions and Evaluation\u001b[0m\u001b[0;34m\u001b[0m\u001b[0;34m\u001b[0m\u001b[0m\n\u001b[1;32m      6\u001b[0m \u001b[0my_pred_cw_cnn\u001b[0m \u001b[0;34m=\u001b[0m \u001b[0mcnn_model\u001b[0m\u001b[0;34m.\u001b[0m\u001b[0mpredict\u001b[0m\u001b[0;34m(\u001b[0m\u001b[0mX_test_adv_cw_cnn\u001b[0m\u001b[0;34m)\u001b[0m\u001b[0;34m.\u001b[0m\u001b[0margmax\u001b[0m\u001b[0;34m(\u001b[0m\u001b[0maxis\u001b[0m\u001b[0;34m=\u001b[0m\u001b[0;36m1\u001b[0m\u001b[0;34m)\u001b[0m\u001b[0;34m\u001b[0m\u001b[0;34m\u001b[0m\u001b[0m\n",
      "\u001b[0;32m/opt/anaconda3/lib/python3.11/site-packages/art/attacks/evasion/carlini.py\u001b[0m in \u001b[0;36m?\u001b[0;34m(self, x, y, **kwargs)\u001b[0m\n\u001b[1;32m    331\u001b[0m                         \u001b[0;32mbreak\u001b[0m\u001b[0;34m\u001b[0m\u001b[0;34m\u001b[0m\u001b[0m\n\u001b[1;32m    332\u001b[0m \u001b[0;34m\u001b[0m\u001b[0m\n\u001b[1;32m    333\u001b[0m                     \u001b[0;31m# compute gradient:\u001b[0m\u001b[0;34m\u001b[0m\u001b[0;34m\u001b[0m\u001b[0m\n\u001b[1;32m    334\u001b[0m                     \u001b[0mlogger\u001b[0m\u001b[0;34m.\u001b[0m\u001b[0mdebug\u001b[0m\u001b[0;34m(\u001b[0m\u001b[0;34m\"Compute loss gradient\"\u001b[0m\u001b[0;34m)\u001b[0m\u001b[0;34m\u001b[0m\u001b[0;34m\u001b[0m\u001b[0m\n\u001b[0;32m--> 335\u001b[0;31m                     perturbation_tanh = -self._loss_gradient(\n\u001b[0m\u001b[1;32m    336\u001b[0m                         \u001b[0mz_logits\u001b[0m\u001b[0;34m[\u001b[0m\u001b[0mactive\u001b[0m\u001b[0;34m]\u001b[0m\u001b[0;34m,\u001b[0m\u001b[0;34m\u001b[0m\u001b[0;34m\u001b[0m\u001b[0m\n\u001b[1;32m    337\u001b[0m                         \u001b[0my_batch\u001b[0m\u001b[0;34m[\u001b[0m\u001b[0mactive\u001b[0m\u001b[0;34m]\u001b[0m\u001b[0;34m,\u001b[0m\u001b[0;34m\u001b[0m\u001b[0;34m\u001b[0m\u001b[0m\n\u001b[1;32m    338\u001b[0m                         \u001b[0mx_batch\u001b[0m\u001b[0;34m[\u001b[0m\u001b[0mactive\u001b[0m\u001b[0;34m]\u001b[0m\u001b[0;34m,\u001b[0m\u001b[0;34m\u001b[0m\u001b[0;34m\u001b[0m\u001b[0m\n",
      "\u001b[0;32m/opt/anaconda3/lib/python3.11/site-packages/art/attacks/evasion/carlini.py\u001b[0m in \u001b[0;36m?\u001b[0;34m(self, z_logits, target, x, x_adv, x_adv_tanh, c_weight, clip_min, clip_max)\u001b[0m\n\u001b[1;32m    210\u001b[0m                 \u001b[0mz_logits\u001b[0m \u001b[0;34m*\u001b[0m \u001b[0;34m(\u001b[0m\u001b[0;36m1\u001b[0m \u001b[0;34m-\u001b[0m \u001b[0mtarget\u001b[0m\u001b[0;34m)\u001b[0m \u001b[0;34m+\u001b[0m \u001b[0;34m(\u001b[0m\u001b[0mnp\u001b[0m\u001b[0;34m.\u001b[0m\u001b[0mmin\u001b[0m\u001b[0;34m(\u001b[0m\u001b[0mz_logits\u001b[0m\u001b[0;34m,\u001b[0m \u001b[0maxis\u001b[0m\u001b[0;34m=\u001b[0m\u001b[0;36m1\u001b[0m\u001b[0;34m)\u001b[0m \u001b[0;34m-\u001b[0m \u001b[0;36m1\u001b[0m\u001b[0;34m)\u001b[0m\u001b[0;34m[\u001b[0m\u001b[0;34m:\u001b[0m\u001b[0;34m,\u001b[0m \u001b[0mnp\u001b[0m\u001b[0;34m.\u001b[0m\u001b[0mnewaxis\u001b[0m\u001b[0;34m]\u001b[0m \u001b[0;34m*\u001b[0m \u001b[0mtarget\u001b[0m\u001b[0;34m,\u001b[0m\u001b[0;34m\u001b[0m\u001b[0;34m\u001b[0m\u001b[0m\n\u001b[1;32m    211\u001b[0m                 \u001b[0maxis\u001b[0m\u001b[0;34m=\u001b[0m\u001b[0;36m1\u001b[0m\u001b[0;34m,\u001b[0m\u001b[0;34m\u001b[0m\u001b[0;34m\u001b[0m\u001b[0m\n\u001b[1;32m    212\u001b[0m             )\n\u001b[1;32m    213\u001b[0m \u001b[0;34m\u001b[0m\u001b[0m\n\u001b[0;32m--> 214\u001b[0;31m         \u001b[0mloss_gradient\u001b[0m \u001b[0;34m=\u001b[0m \u001b[0mself\u001b[0m\u001b[0;34m.\u001b[0m\u001b[0mestimator\u001b[0m\u001b[0;34m.\u001b[0m\u001b[0mclass_gradient\u001b[0m\u001b[0;34m(\u001b[0m\u001b[0mx_adv\u001b[0m\u001b[0;34m,\u001b[0m \u001b[0mlabel\u001b[0m\u001b[0;34m=\u001b[0m\u001b[0mi_add\u001b[0m\u001b[0;34m)\u001b[0m\u001b[0;34m\u001b[0m\u001b[0;34m\u001b[0m\u001b[0m\n\u001b[0m\u001b[1;32m    215\u001b[0m         \u001b[0mloss_gradient\u001b[0m \u001b[0;34m-=\u001b[0m \u001b[0mself\u001b[0m\u001b[0;34m.\u001b[0m\u001b[0mestimator\u001b[0m\u001b[0;34m.\u001b[0m\u001b[0mclass_gradient\u001b[0m\u001b[0;34m(\u001b[0m\u001b[0mx_adv\u001b[0m\u001b[0;34m,\u001b[0m \u001b[0mlabel\u001b[0m\u001b[0;34m=\u001b[0m\u001b[0mi_sub\u001b[0m\u001b[0;34m)\u001b[0m\u001b[0;34m\u001b[0m\u001b[0;34m\u001b[0m\u001b[0m\n\u001b[1;32m    216\u001b[0m         \u001b[0mloss_gradient\u001b[0m \u001b[0;34m=\u001b[0m \u001b[0mloss_gradient\u001b[0m\u001b[0;34m.\u001b[0m\u001b[0mreshape\u001b[0m\u001b[0;34m(\u001b[0m\u001b[0mx\u001b[0m\u001b[0;34m.\u001b[0m\u001b[0mshape\u001b[0m\u001b[0;34m)\u001b[0m\u001b[0;34m\u001b[0m\u001b[0;34m\u001b[0m\u001b[0m\n\u001b[1;32m    217\u001b[0m \u001b[0;34m\u001b[0m\u001b[0m\n",
      "\u001b[0;32m/opt/anaconda3/lib/python3.11/site-packages/art/estimators/classification/tensorflow.py\u001b[0m in \u001b[0;36m?\u001b[0;34m(self, x, label, training_mode, **kwargs)\u001b[0m\n\u001b[1;32m   1168\u001b[0m                         \u001b[0mpredictions\u001b[0m \u001b[0;34m=\u001b[0m \u001b[0mself\u001b[0m\u001b[0;34m.\u001b[0m\u001b[0mmodel\u001b[0m\u001b[0;34m(\u001b[0m\u001b[0mx_input\u001b[0m\u001b[0;34m,\u001b[0m \u001b[0mtraining\u001b[0m\u001b[0;34m=\u001b[0m\u001b[0mtraining_mode\u001b[0m\u001b[0;34m)\u001b[0m\u001b[0;34m\u001b[0m\u001b[0;34m\u001b[0m\u001b[0m\n\u001b[1;32m   1169\u001b[0m                         \u001b[0mprediction\u001b[0m \u001b[0;34m=\u001b[0m \u001b[0mpredictions\u001b[0m\u001b[0;34m[\u001b[0m\u001b[0;34m:\u001b[0m\u001b[0;34m,\u001b[0m \u001b[0munique_label\u001b[0m\u001b[0;34m]\u001b[0m\u001b[0;34m\u001b[0m\u001b[0;34m\u001b[0m\u001b[0m\n\u001b[1;32m   1170\u001b[0m                         \u001b[0mtape\u001b[0m\u001b[0;34m.\u001b[0m\u001b[0mwatch\u001b[0m\u001b[0;34m(\u001b[0m\u001b[0mprediction\u001b[0m\u001b[0;34m)\u001b[0m\u001b[0;34m\u001b[0m\u001b[0;34m\u001b[0m\u001b[0m\n\u001b[1;32m   1171\u001b[0m \u001b[0;34m\u001b[0m\u001b[0m\n\u001b[0;32m-> 1172\u001b[0;31m                         \u001b[0mclass_gradient\u001b[0m \u001b[0;34m=\u001b[0m \u001b[0mtape\u001b[0m\u001b[0;34m.\u001b[0m\u001b[0mgradient\u001b[0m\u001b[0;34m(\u001b[0m\u001b[0mprediction\u001b[0m\u001b[0;34m,\u001b[0m \u001b[0mx_grad\u001b[0m\u001b[0;34m)\u001b[0m\u001b[0;34m.\u001b[0m\u001b[0mnumpy\u001b[0m\u001b[0;34m(\u001b[0m\u001b[0;34m)\u001b[0m\u001b[0;34m\u001b[0m\u001b[0;34m\u001b[0m\u001b[0m\n\u001b[0m\u001b[1;32m   1173\u001b[0m                         \u001b[0mclass_gradients\u001b[0m\u001b[0;34m.\u001b[0m\u001b[0mappend\u001b[0m\u001b[0;34m(\u001b[0m\u001b[0mclass_gradient\u001b[0m\u001b[0;34m)\u001b[0m\u001b[0;34m\u001b[0m\u001b[0;34m\u001b[0m\u001b[0m\n\u001b[1;32m   1174\u001b[0m \u001b[0;34m\u001b[0m\u001b[0m\n\u001b[1;32m   1175\u001b[0m                     \u001b[0mgradients\u001b[0m \u001b[0;34m=\u001b[0m \u001b[0mnp\u001b[0m\u001b[0;34m.\u001b[0m\u001b[0mswapaxes\u001b[0m\u001b[0;34m(\u001b[0m\u001b[0mnp\u001b[0m\u001b[0;34m.\u001b[0m\u001b[0marray\u001b[0m\u001b[0;34m(\u001b[0m\u001b[0mclass_gradients\u001b[0m\u001b[0;34m)\u001b[0m\u001b[0;34m,\u001b[0m \u001b[0;36m0\u001b[0m\u001b[0;34m,\u001b[0m \u001b[0;36m1\u001b[0m\u001b[0;34m)\u001b[0m\u001b[0;34m\u001b[0m\u001b[0;34m\u001b[0m\u001b[0m\n",
      "\u001b[0;32m/opt/anaconda3/lib/python3.11/site-packages/tensorflow/python/eager/backprop.py\u001b[0m in \u001b[0;36m?\u001b[0;34m(self, target, sources, output_gradients, unconnected_gradients)\u001b[0m\n\u001b[1;32m   1062\u001b[0m               output_gradients))\n\u001b[1;32m   1063\u001b[0m       output_gradients = [None if x is None else ops.convert_to_tensor(x)\n\u001b[1;32m   1064\u001b[0m                           for x in output_gradients]\n\u001b[1;32m   1065\u001b[0m \u001b[0;34m\u001b[0m\u001b[0m\n\u001b[0;32m-> 1066\u001b[0;31m     flat_grad = imperative_grad.imperative_grad(\n\u001b[0m\u001b[1;32m   1067\u001b[0m         \u001b[0mself\u001b[0m\u001b[0;34m.\u001b[0m\u001b[0m_tape\u001b[0m\u001b[0;34m,\u001b[0m\u001b[0;34m\u001b[0m\u001b[0;34m\u001b[0m\u001b[0m\n\u001b[1;32m   1068\u001b[0m         \u001b[0mflat_targets\u001b[0m\u001b[0;34m,\u001b[0m\u001b[0;34m\u001b[0m\u001b[0;34m\u001b[0m\u001b[0m\n\u001b[1;32m   1069\u001b[0m         \u001b[0mflat_sources\u001b[0m\u001b[0;34m,\u001b[0m\u001b[0;34m\u001b[0m\u001b[0;34m\u001b[0m\u001b[0m\n",
      "\u001b[0;32m/opt/anaconda3/lib/python3.11/site-packages/tensorflow/python/eager/imperative_grad.py\u001b[0m in \u001b[0;36m?\u001b[0;34m(tape, target, sources, output_gradients, sources_raw, unconnected_gradients)\u001b[0m\n\u001b[1;32m     63\u001b[0m   \u001b[0;32mexcept\u001b[0m \u001b[0mValueError\u001b[0m\u001b[0;34m:\u001b[0m\u001b[0;34m\u001b[0m\u001b[0;34m\u001b[0m\u001b[0m\n\u001b[1;32m     64\u001b[0m     raise ValueError(\n\u001b[1;32m     65\u001b[0m         \"Unknown value for unconnected_gradients: %r\" % unconnected_gradients)\n\u001b[1;32m     66\u001b[0m \u001b[0;34m\u001b[0m\u001b[0m\n\u001b[0;32m---> 67\u001b[0;31m   return pywrap_tfe.TFE_Py_TapeGradient(\n\u001b[0m\u001b[1;32m     68\u001b[0m       \u001b[0mtape\u001b[0m\u001b[0;34m.\u001b[0m\u001b[0m_tape\u001b[0m\u001b[0;34m,\u001b[0m  \u001b[0;31m# pylint: disable=protected-access\u001b[0m\u001b[0;34m\u001b[0m\u001b[0;34m\u001b[0m\u001b[0m\n\u001b[1;32m     69\u001b[0m       \u001b[0mtarget\u001b[0m\u001b[0;34m,\u001b[0m\u001b[0;34m\u001b[0m\u001b[0;34m\u001b[0m\u001b[0m\n\u001b[1;32m     70\u001b[0m       \u001b[0msources\u001b[0m\u001b[0;34m,\u001b[0m\u001b[0;34m\u001b[0m\u001b[0;34m\u001b[0m\u001b[0m\n",
      "\u001b[0;32m/opt/anaconda3/lib/python3.11/site-packages/tensorflow/python/eager/backprop.py\u001b[0m in \u001b[0;36m?\u001b[0;34m(op_name, attr_tuple, num_inputs, inputs, outputs, out_grads, skip_input_indices, forward_pass_name_scope)\u001b[0m\n\u001b[1;32m    144\u001b[0m     \u001b[0mgradient_name_scope\u001b[0m \u001b[0;34m=\u001b[0m \u001b[0;34m\"gradient_tape/\"\u001b[0m\u001b[0;34m\u001b[0m\u001b[0;34m\u001b[0m\u001b[0m\n\u001b[1;32m    145\u001b[0m     \u001b[0;32mif\u001b[0m \u001b[0mforward_pass_name_scope\u001b[0m\u001b[0;34m:\u001b[0m\u001b[0;34m\u001b[0m\u001b[0;34m\u001b[0m\u001b[0m\n\u001b[1;32m    146\u001b[0m       \u001b[0mgradient_name_scope\u001b[0m \u001b[0;34m+=\u001b[0m \u001b[0mforward_pass_name_scope\u001b[0m \u001b[0;34m+\u001b[0m \u001b[0;34m\"/\"\u001b[0m\u001b[0;34m\u001b[0m\u001b[0;34m\u001b[0m\u001b[0m\n\u001b[1;32m    147\u001b[0m     \u001b[0;32mwith\u001b[0m \u001b[0mops\u001b[0m\u001b[0;34m.\u001b[0m\u001b[0mname_scope\u001b[0m\u001b[0;34m(\u001b[0m\u001b[0mgradient_name_scope\u001b[0m\u001b[0;34m)\u001b[0m\u001b[0;34m:\u001b[0m\u001b[0;34m\u001b[0m\u001b[0;34m\u001b[0m\u001b[0m\n\u001b[0;32m--> 148\u001b[0;31m       \u001b[0;32mreturn\u001b[0m \u001b[0mgrad_fn\u001b[0m\u001b[0;34m(\u001b[0m\u001b[0mmock_op\u001b[0m\u001b[0;34m,\u001b[0m \u001b[0;34m*\u001b[0m\u001b[0mout_grads\u001b[0m\u001b[0;34m)\u001b[0m\u001b[0;34m\u001b[0m\u001b[0;34m\u001b[0m\u001b[0m\n\u001b[0m\u001b[1;32m    149\u001b[0m   \u001b[0;32melse\u001b[0m\u001b[0;34m:\u001b[0m\u001b[0;34m\u001b[0m\u001b[0;34m\u001b[0m\u001b[0m\n\u001b[1;32m    150\u001b[0m     \u001b[0;32mreturn\u001b[0m \u001b[0mgrad_fn\u001b[0m\u001b[0;34m(\u001b[0m\u001b[0mmock_op\u001b[0m\u001b[0;34m,\u001b[0m \u001b[0;34m*\u001b[0m\u001b[0mout_grads\u001b[0m\u001b[0;34m)\u001b[0m\u001b[0;34m\u001b[0m\u001b[0;34m\u001b[0m\u001b[0m\n",
      "\u001b[0;32m/opt/anaconda3/lib/python3.11/site-packages/tensorflow/python/ops/array_grad.py\u001b[0m in \u001b[0;36m?\u001b[0;34m(op, grad)\u001b[0m\n\u001b[1;32m    835\u001b[0m \u001b[0;34m@\u001b[0m\u001b[0mops\u001b[0m\u001b[0;34m.\u001b[0m\u001b[0mRegisterGradient\u001b[0m\u001b[0;34m(\u001b[0m\u001b[0;34m\"Squeeze\"\u001b[0m\u001b[0;34m)\u001b[0m\u001b[0;34m\u001b[0m\u001b[0;34m\u001b[0m\u001b[0m\n\u001b[1;32m    836\u001b[0m \u001b[0;32mdef\u001b[0m \u001b[0m_SqueezeGrad\u001b[0m\u001b[0;34m(\u001b[0m\u001b[0mop\u001b[0m\u001b[0;34m:\u001b[0m \u001b[0mops\u001b[0m\u001b[0;34m.\u001b[0m\u001b[0mOperation\u001b[0m\u001b[0;34m,\u001b[0m \u001b[0mgrad\u001b[0m\u001b[0;34m)\u001b[0m\u001b[0;34m:\u001b[0m\u001b[0;34m\u001b[0m\u001b[0;34m\u001b[0m\u001b[0m\n\u001b[0;32m--> 837\u001b[0;31m   \u001b[0;32mreturn\u001b[0m \u001b[0m_ReshapeToInput\u001b[0m\u001b[0;34m(\u001b[0m\u001b[0mop\u001b[0m\u001b[0;34m,\u001b[0m \u001b[0mgrad\u001b[0m\u001b[0;34m)\u001b[0m\u001b[0;34m\u001b[0m\u001b[0;34m\u001b[0m\u001b[0m\n\u001b[0m",
      "\u001b[0;32m/opt/anaconda3/lib/python3.11/site-packages/tensorflow/python/ops/array_grad.py\u001b[0m in \u001b[0;36m?\u001b[0;34m(op, grad)\u001b[0m\n\u001b[1;32m    824\u001b[0m \u001b[0;32mdef\u001b[0m \u001b[0m_ReshapeToInput\u001b[0m\u001b[0;34m(\u001b[0m\u001b[0mop\u001b[0m\u001b[0;34m:\u001b[0m \u001b[0mops\u001b[0m\u001b[0;34m.\u001b[0m\u001b[0mOperation\u001b[0m\u001b[0;34m,\u001b[0m \u001b[0mgrad\u001b[0m\u001b[0;34m)\u001b[0m\u001b[0;34m:\u001b[0m\u001b[0;34m\u001b[0m\u001b[0;34m\u001b[0m\u001b[0m\n\u001b[1;32m    825\u001b[0m   \u001b[0;34m\"\"\"Reshapes the gradient to the shape of the original input.\"\"\"\u001b[0m\u001b[0;34m\u001b[0m\u001b[0;34m\u001b[0m\u001b[0m\n\u001b[1;32m    826\u001b[0m   return array_ops.reshape(\n\u001b[0;32m--> 827\u001b[0;31m       _IndexedSlicesToTensorNoWarning(grad), array_ops.shape(op.inputs[0]))\n\u001b[0m",
      "\u001b[0;32m/opt/anaconda3/lib/python3.11/site-packages/tensorflow/python/util/traceback_utils.py\u001b[0m in \u001b[0;36m?\u001b[0;34m(*args, **kwargs)\u001b[0m\n\u001b[1;32m    151\u001b[0m     \u001b[0;32mexcept\u001b[0m \u001b[0mException\u001b[0m \u001b[0;32mas\u001b[0m \u001b[0me\u001b[0m\u001b[0;34m:\u001b[0m\u001b[0;34m\u001b[0m\u001b[0;34m\u001b[0m\u001b[0m\n\u001b[1;32m    152\u001b[0m       \u001b[0mfiltered_tb\u001b[0m \u001b[0;34m=\u001b[0m \u001b[0m_process_traceback_frames\u001b[0m\u001b[0;34m(\u001b[0m\u001b[0me\u001b[0m\u001b[0;34m.\u001b[0m\u001b[0m__traceback__\u001b[0m\u001b[0;34m)\u001b[0m\u001b[0;34m\u001b[0m\u001b[0;34m\u001b[0m\u001b[0m\n\u001b[1;32m    153\u001b[0m       \u001b[0;32mraise\u001b[0m \u001b[0me\u001b[0m\u001b[0;34m.\u001b[0m\u001b[0mwith_traceback\u001b[0m\u001b[0;34m(\u001b[0m\u001b[0mfiltered_tb\u001b[0m\u001b[0;34m)\u001b[0m \u001b[0;32mfrom\u001b[0m \u001b[0;32mNone\u001b[0m\u001b[0;34m\u001b[0m\u001b[0;34m\u001b[0m\u001b[0m\n\u001b[1;32m    154\u001b[0m     \u001b[0;32mfinally\u001b[0m\u001b[0;34m:\u001b[0m\u001b[0;34m\u001b[0m\u001b[0;34m\u001b[0m\u001b[0m\n\u001b[0;32m--> 155\u001b[0;31m       \u001b[0;32mdel\u001b[0m \u001b[0mfiltered_tb\u001b[0m\u001b[0;34m\u001b[0m\u001b[0;34m\u001b[0m\u001b[0m\n\u001b[0m",
      "\u001b[0;32m/opt/anaconda3/lib/python3.11/site-packages/tensorflow/python/util/dispatch.py\u001b[0m in \u001b[0;36m?\u001b[0;34m(*args, **kwargs)\u001b[0m\n\u001b[1;32m   1257\u001b[0m \u001b[0;34m\u001b[0m\u001b[0m\n\u001b[1;32m   1258\u001b[0m       \u001b[0;31m# Fallback dispatch system (dispatch v1):\u001b[0m\u001b[0;34m\u001b[0m\u001b[0;34m\u001b[0m\u001b[0m\n\u001b[1;32m   1259\u001b[0m       \u001b[0;32mtry\u001b[0m\u001b[0;34m:\u001b[0m\u001b[0;34m\u001b[0m\u001b[0;34m\u001b[0m\u001b[0m\n\u001b[1;32m   1260\u001b[0m         \u001b[0;32mreturn\u001b[0m \u001b[0mdispatch_target\u001b[0m\u001b[0;34m(\u001b[0m\u001b[0;34m*\u001b[0m\u001b[0margs\u001b[0m\u001b[0;34m,\u001b[0m \u001b[0;34m**\u001b[0m\u001b[0mkwargs\u001b[0m\u001b[0;34m)\u001b[0m\u001b[0;34m\u001b[0m\u001b[0;34m\u001b[0m\u001b[0m\n\u001b[0;32m-> 1261\u001b[0;31m       \u001b[0;32mexcept\u001b[0m \u001b[0;34m(\u001b[0m\u001b[0mTypeError\u001b[0m\u001b[0;34m,\u001b[0m \u001b[0mValueError\u001b[0m\u001b[0;34m)\u001b[0m\u001b[0;34m:\u001b[0m\u001b[0;34m\u001b[0m\u001b[0;34m\u001b[0m\u001b[0m\n\u001b[0m\u001b[1;32m   1262\u001b[0m         \u001b[0;31m# Note: convert_to_eager_tensor currently raises a ValueError, not a\u001b[0m\u001b[0;34m\u001b[0m\u001b[0;34m\u001b[0m\u001b[0m\n\u001b[1;32m   1263\u001b[0m         \u001b[0;31m# TypeError, when given unexpected types.  So we need to catch both.\u001b[0m\u001b[0;34m\u001b[0m\u001b[0;34m\u001b[0m\u001b[0m\n\u001b[1;32m   1264\u001b[0m         \u001b[0mresult\u001b[0m \u001b[0;34m=\u001b[0m \u001b[0mdispatch\u001b[0m\u001b[0;34m(\u001b[0m\u001b[0mop_dispatch_handler\u001b[0m\u001b[0;34m,\u001b[0m \u001b[0margs\u001b[0m\u001b[0;34m,\u001b[0m \u001b[0mkwargs\u001b[0m\u001b[0;34m)\u001b[0m\u001b[0;34m\u001b[0m\u001b[0;34m\u001b[0m\u001b[0m\n",
      "\u001b[0;32m/opt/anaconda3/lib/python3.11/site-packages/tensorflow/python/ops/array_ops.py\u001b[0m in \u001b[0;36m?\u001b[0;34m(input, name, out_type)\u001b[0m\n\u001b[1;32m    682\u001b[0m     \u001b[0;32mif\u001b[0m \u001b[0mflags\u001b[0m\u001b[0;34m.\u001b[0m\u001b[0mconfig\u001b[0m\u001b[0;34m(\u001b[0m\u001b[0;34m)\u001b[0m\u001b[0;34m.\u001b[0m\u001b[0mtf_shape_default_int64\u001b[0m\u001b[0;34m.\u001b[0m\u001b[0mvalue\u001b[0m\u001b[0;34m(\u001b[0m\u001b[0;34m)\u001b[0m\u001b[0;34m:\u001b[0m\u001b[0;34m\u001b[0m\u001b[0;34m\u001b[0m\u001b[0m\n\u001b[1;32m    683\u001b[0m       \u001b[0mout_type\u001b[0m \u001b[0;34m=\u001b[0m \u001b[0mdtypes\u001b[0m\u001b[0;34m.\u001b[0m\u001b[0mint64\u001b[0m\u001b[0;34m\u001b[0m\u001b[0;34m\u001b[0m\u001b[0m\n\u001b[1;32m    684\u001b[0m     \u001b[0;32melse\u001b[0m\u001b[0;34m:\u001b[0m\u001b[0;34m\u001b[0m\u001b[0;34m\u001b[0m\u001b[0m\n\u001b[1;32m    685\u001b[0m       \u001b[0mout_type\u001b[0m \u001b[0;34m=\u001b[0m \u001b[0mdtypes\u001b[0m\u001b[0;34m.\u001b[0m\u001b[0mint32\u001b[0m\u001b[0;34m\u001b[0m\u001b[0;34m\u001b[0m\u001b[0m\n\u001b[0;32m--> 686\u001b[0;31m   \u001b[0;32mreturn\u001b[0m \u001b[0mshape_internal\u001b[0m\u001b[0;34m(\u001b[0m\u001b[0minput\u001b[0m\u001b[0;34m,\u001b[0m \u001b[0mname\u001b[0m\u001b[0;34m,\u001b[0m \u001b[0moptimize\u001b[0m\u001b[0;34m=\u001b[0m\u001b[0;32mTrue\u001b[0m\u001b[0;34m,\u001b[0m \u001b[0mout_type\u001b[0m\u001b[0;34m=\u001b[0m\u001b[0mout_type\u001b[0m\u001b[0;34m)\u001b[0m\u001b[0;34m\u001b[0m\u001b[0;34m\u001b[0m\u001b[0m\n\u001b[0m",
      "\u001b[0;32m/opt/anaconda3/lib/python3.11/site-packages/tensorflow/python/ops/array_ops.py\u001b[0m in \u001b[0;36m?\u001b[0;34m(input, name, optimize, out_type)\u001b[0m\n\u001b[1;32m    723\u001b[0m                 input_shape)\n\u001b[1;32m    724\u001b[0m           \u001b[0;32mreturn\u001b[0m \u001b[0mconstant\u001b[0m\u001b[0;34m(\u001b[0m\u001b[0minput_shape\u001b[0m\u001b[0;34m.\u001b[0m\u001b[0mas_list\u001b[0m\u001b[0;34m(\u001b[0m\u001b[0;34m)\u001b[0m\u001b[0;34m,\u001b[0m \u001b[0mout_type\u001b[0m\u001b[0;34m,\u001b[0m \u001b[0mname\u001b[0m\u001b[0;34m=\u001b[0m\u001b[0mname\u001b[0m\u001b[0;34m)\u001b[0m\u001b[0;34m\u001b[0m\u001b[0;34m\u001b[0m\u001b[0m\n\u001b[1;32m    725\u001b[0m       \u001b[0;32mif\u001b[0m \u001b[0;32mnot\u001b[0m \u001b[0mout_type\u001b[0m\u001b[0;34m:\u001b[0m\u001b[0;34m\u001b[0m\u001b[0;34m\u001b[0m\u001b[0m\n\u001b[1;32m    726\u001b[0m         \u001b[0mout_type\u001b[0m \u001b[0;34m=\u001b[0m \u001b[0mdtypes\u001b[0m\u001b[0;34m.\u001b[0m\u001b[0mint32\u001b[0m\u001b[0;34m\u001b[0m\u001b[0;34m\u001b[0m\u001b[0m\n\u001b[0;32m--> 727\u001b[0;31m       \u001b[0;32mreturn\u001b[0m \u001b[0mgen_array_ops\u001b[0m\u001b[0;34m.\u001b[0m\u001b[0mshape\u001b[0m\u001b[0;34m(\u001b[0m\u001b[0minput\u001b[0m\u001b[0;34m,\u001b[0m \u001b[0mname\u001b[0m\u001b[0;34m=\u001b[0m\u001b[0mname\u001b[0m\u001b[0;34m,\u001b[0m \u001b[0mout_type\u001b[0m\u001b[0;34m=\u001b[0m\u001b[0mout_type\u001b[0m\u001b[0;34m)\u001b[0m\u001b[0;34m\u001b[0m\u001b[0;34m\u001b[0m\u001b[0m\n\u001b[0m",
      "\u001b[0;32m/opt/anaconda3/lib/python3.11/site-packages/tensorflow/python/ops/gen_array_ops.py\u001b[0m in \u001b[0;36m?\u001b[0;34m(input, out_type, name)\u001b[0m\n\u001b[1;32m   9584\u001b[0m         _ctx, \"Shape\", name, input, \"out_type\", out_type)\n\u001b[1;32m   9585\u001b[0m       \u001b[0;32mreturn\u001b[0m \u001b[0m_result\u001b[0m\u001b[0;34m\u001b[0m\u001b[0;34m\u001b[0m\u001b[0m\n\u001b[1;32m   9586\u001b[0m     \u001b[0;32mexcept\u001b[0m \u001b[0m_core\u001b[0m\u001b[0;34m.\u001b[0m\u001b[0m_NotOkStatusException\u001b[0m \u001b[0;32mas\u001b[0m \u001b[0me\u001b[0m\u001b[0;34m:\u001b[0m\u001b[0;34m\u001b[0m\u001b[0;34m\u001b[0m\u001b[0m\n\u001b[1;32m   9587\u001b[0m       \u001b[0m_ops\u001b[0m\u001b[0;34m.\u001b[0m\u001b[0mraise_from_not_ok_status\u001b[0m\u001b[0;34m(\u001b[0m\u001b[0me\u001b[0m\u001b[0;34m,\u001b[0m \u001b[0mname\u001b[0m\u001b[0;34m)\u001b[0m\u001b[0;34m\u001b[0m\u001b[0;34m\u001b[0m\u001b[0m\n\u001b[0;32m-> 9588\u001b[0;31m     \u001b[0;32mexcept\u001b[0m \u001b[0m_core\u001b[0m\u001b[0;34m.\u001b[0m\u001b[0m_FallbackException\u001b[0m\u001b[0;34m:\u001b[0m\u001b[0;34m\u001b[0m\u001b[0;34m\u001b[0m\u001b[0m\n\u001b[0m\u001b[1;32m   9589\u001b[0m       \u001b[0;32mpass\u001b[0m\u001b[0;34m\u001b[0m\u001b[0;34m\u001b[0m\u001b[0m\n\u001b[1;32m   9590\u001b[0m     \u001b[0;32mtry\u001b[0m\u001b[0;34m:\u001b[0m\u001b[0;34m\u001b[0m\u001b[0;34m\u001b[0m\u001b[0m\n\u001b[1;32m   9591\u001b[0m       return shape_eager_fallback(\n",
      "\u001b[0;31mKeyboardInterrupt\u001b[0m: "
     ]
    }
   ],
   "source": [
    "# C&W Attack\n",
    "cw = CarliniL2Method(classifier=cnn_classifier, targeted=False, max_iter=10)\n",
    "X_test_adv_cw_cnn = cw.generate(x=X_test_cnn)\n",
    "\n",
    "# Predictions and Evaluation\n",
    "y_pred_cw_cnn = cnn_model.predict(X_test_adv_cw_cnn).argmax(axis=1)\n",
    "print(\"Classification Report (CNN - C&W):\")\n",
    "print(classification_report(y_test, y_pred_cw_cnn, zero_division=1))\n"
   ]
  },
  {
   "cell_type": "code",
   "execution_count": null,
   "id": "bd1607f7-9277-4250-968b-472bfea7165e",
   "metadata": {},
   "outputs": [],
   "source": []
  }
 ],
 "metadata": {
  "kernelspec": {
   "display_name": "Python 3 (ipykernel)",
   "language": "python",
   "name": "python3"
  },
  "language_info": {
   "codemirror_mode": {
    "name": "ipython",
    "version": 3
   },
   "file_extension": ".py",
   "mimetype": "text/x-python",
   "name": "python",
   "nbconvert_exporter": "python",
   "pygments_lexer": "ipython3",
   "version": "3.11.7"
  }
 },
 "nbformat": 4,
 "nbformat_minor": 5
}
