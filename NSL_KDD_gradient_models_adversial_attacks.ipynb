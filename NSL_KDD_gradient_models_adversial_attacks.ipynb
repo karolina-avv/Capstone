{
 "cells": [
  {
   "cell_type": "code",
   "execution_count": 2,
   "id": "f146cd89-d9d4-4f9f-852f-457d4110fbf3",
   "metadata": {
    "tags": []
   },
   "outputs": [
    {
     "name": "stdout",
     "output_type": "stream",
     "text": [
      "Requirement already satisfied: pandas in /opt/anaconda3/lib/python3.11/site-packages (2.1.4)\n",
      "Requirement already satisfied: scikit-learn in /opt/anaconda3/lib/python3.11/site-packages (1.2.2)\n",
      "Requirement already satisfied: numpy<2,>=1.23.2 in /opt/anaconda3/lib/python3.11/site-packages (from pandas) (1.26.4)\n",
      "Requirement already satisfied: python-dateutil>=2.8.2 in /opt/anaconda3/lib/python3.11/site-packages (from pandas) (2.8.2)\n",
      "Requirement already satisfied: pytz>=2020.1 in /opt/anaconda3/lib/python3.11/site-packages (from pandas) (2023.3.post1)\n",
      "Requirement already satisfied: tzdata>=2022.1 in /opt/anaconda3/lib/python3.11/site-packages (from pandas) (2023.3)\n",
      "Requirement already satisfied: scipy>=1.3.2 in /opt/anaconda3/lib/python3.11/site-packages (from scikit-learn) (1.11.4)\n",
      "Requirement already satisfied: joblib>=1.1.1 in /opt/anaconda3/lib/python3.11/site-packages (from scikit-learn) (1.2.0)\n",
      "Requirement already satisfied: threadpoolctl>=2.0.0 in /opt/anaconda3/lib/python3.11/site-packages (from scikit-learn) (2.2.0)\n",
      "Requirement already satisfied: six>=1.5 in /opt/anaconda3/lib/python3.11/site-packages (from python-dateutil>=2.8.2->pandas) (1.16.0)\n"
     ]
    }
   ],
   "source": [
    "!pip install pandas scikit-learn"
   ]
  },
  {
   "cell_type": "code",
   "execution_count": 106,
   "id": "5b0acd54-7549-4095-8933-d87e9735cf05",
   "metadata": {},
   "outputs": [
    {
     "name": "stdout",
     "output_type": "stream",
     "text": [
      "Requirement already satisfied: tensorflow in /opt/anaconda3/lib/python3.11/site-packages (2.16.2)\n",
      "Requirement already satisfied: scikit-learn in /opt/anaconda3/lib/python3.11/site-packages (1.2.2)\n",
      "Requirement already satisfied: xgboost in /opt/anaconda3/lib/python3.11/site-packages (2.1.1)\n",
      "Requirement already satisfied: adversarial-robustness-toolbox in /opt/anaconda3/lib/python3.11/site-packages (1.18.2)\n",
      "Requirement already satisfied: absl-py>=1.0.0 in /opt/anaconda3/lib/python3.11/site-packages (from tensorflow) (2.1.0)\n",
      "Requirement already satisfied: astunparse>=1.6.0 in /opt/anaconda3/lib/python3.11/site-packages (from tensorflow) (1.6.3)\n",
      "Requirement already satisfied: flatbuffers>=23.5.26 in /opt/anaconda3/lib/python3.11/site-packages (from tensorflow) (24.3.25)\n",
      "Requirement already satisfied: gast!=0.5.0,!=0.5.1,!=0.5.2,>=0.2.1 in /opt/anaconda3/lib/python3.11/site-packages (from tensorflow) (0.6.0)\n",
      "Requirement already satisfied: google-pasta>=0.1.1 in /opt/anaconda3/lib/python3.11/site-packages (from tensorflow) (0.2.0)\n",
      "Requirement already satisfied: h5py>=3.10.0 in /opt/anaconda3/lib/python3.11/site-packages (from tensorflow) (3.11.0)\n",
      "Requirement already satisfied: libclang>=13.0.0 in /opt/anaconda3/lib/python3.11/site-packages (from tensorflow) (18.1.1)\n",
      "Requirement already satisfied: ml-dtypes~=0.3.1 in /opt/anaconda3/lib/python3.11/site-packages (from tensorflow) (0.3.2)\n",
      "Requirement already satisfied: opt-einsum>=2.3.2 in /opt/anaconda3/lib/python3.11/site-packages (from tensorflow) (3.3.0)\n",
      "Requirement already satisfied: packaging in /opt/anaconda3/lib/python3.11/site-packages (from tensorflow) (23.1)\n",
      "Requirement already satisfied: protobuf!=4.21.0,!=4.21.1,!=4.21.2,!=4.21.3,!=4.21.4,!=4.21.5,<5.0.0dev,>=3.20.3 in /opt/anaconda3/lib/python3.11/site-packages (from tensorflow) (3.20.3)\n",
      "Requirement already satisfied: requests<3,>=2.21.0 in /opt/anaconda3/lib/python3.11/site-packages (from tensorflow) (2.31.0)\n",
      "Requirement already satisfied: setuptools in /opt/anaconda3/lib/python3.11/site-packages (from tensorflow) (68.2.2)\n",
      "Requirement already satisfied: six>=1.12.0 in /opt/anaconda3/lib/python3.11/site-packages (from tensorflow) (1.16.0)\n",
      "Requirement already satisfied: termcolor>=1.1.0 in /opt/anaconda3/lib/python3.11/site-packages (from tensorflow) (2.4.0)\n",
      "Requirement already satisfied: typing-extensions>=3.6.6 in /opt/anaconda3/lib/python3.11/site-packages (from tensorflow) (4.9.0)\n",
      "Requirement already satisfied: wrapt>=1.11.0 in /opt/anaconda3/lib/python3.11/site-packages (from tensorflow) (1.14.1)\n",
      "Requirement already satisfied: grpcio<2.0,>=1.24.3 in /opt/anaconda3/lib/python3.11/site-packages (from tensorflow) (1.64.1)\n",
      "Requirement already satisfied: tensorboard<2.17,>=2.16 in /opt/anaconda3/lib/python3.11/site-packages (from tensorflow) (2.16.2)\n",
      "Requirement already satisfied: keras>=3.0.0 in /opt/anaconda3/lib/python3.11/site-packages (from tensorflow) (3.4.1)\n",
      "Requirement already satisfied: tensorflow-io-gcs-filesystem>=0.23.1 in /opt/anaconda3/lib/python3.11/site-packages (from tensorflow) (0.37.0)\n",
      "Requirement already satisfied: numpy<2.0.0,>=1.23.5 in /opt/anaconda3/lib/python3.11/site-packages (from tensorflow) (1.26.4)\n",
      "Requirement already satisfied: scipy>=1.3.2 in /opt/anaconda3/lib/python3.11/site-packages (from scikit-learn) (1.11.4)\n",
      "Requirement already satisfied: joblib>=1.1.1 in /opt/anaconda3/lib/python3.11/site-packages (from scikit-learn) (1.2.0)\n",
      "Requirement already satisfied: threadpoolctl>=2.0.0 in /opt/anaconda3/lib/python3.11/site-packages (from scikit-learn) (2.2.0)\n",
      "Requirement already satisfied: tqdm in /opt/anaconda3/lib/python3.11/site-packages (from adversarial-robustness-toolbox) (4.65.0)\n",
      "Requirement already satisfied: wheel<1.0,>=0.23.0 in /opt/anaconda3/lib/python3.11/site-packages (from astunparse>=1.6.0->tensorflow) (0.41.2)\n",
      "Requirement already satisfied: rich in /opt/anaconda3/lib/python3.11/site-packages (from keras>=3.0.0->tensorflow) (13.3.5)\n",
      "Requirement already satisfied: namex in /opt/anaconda3/lib/python3.11/site-packages (from keras>=3.0.0->tensorflow) (0.0.8)\n",
      "Requirement already satisfied: optree in /opt/anaconda3/lib/python3.11/site-packages (from keras>=3.0.0->tensorflow) (0.11.0)\n",
      "Requirement already satisfied: charset-normalizer<4,>=2 in /opt/anaconda3/lib/python3.11/site-packages (from requests<3,>=2.21.0->tensorflow) (2.0.4)\n",
      "Requirement already satisfied: idna<4,>=2.5 in /opt/anaconda3/lib/python3.11/site-packages (from requests<3,>=2.21.0->tensorflow) (3.4)\n",
      "Requirement already satisfied: urllib3<3,>=1.21.1 in /opt/anaconda3/lib/python3.11/site-packages (from requests<3,>=2.21.0->tensorflow) (2.0.7)\n",
      "Requirement already satisfied: certifi>=2017.4.17 in /opt/anaconda3/lib/python3.11/site-packages (from requests<3,>=2.21.0->tensorflow) (2024.8.30)\n",
      "Requirement already satisfied: markdown>=2.6.8 in /opt/anaconda3/lib/python3.11/site-packages (from tensorboard<2.17,>=2.16->tensorflow) (3.4.1)\n",
      "Requirement already satisfied: tensorboard-data-server<0.8.0,>=0.7.0 in /opt/anaconda3/lib/python3.11/site-packages (from tensorboard<2.17,>=2.16->tensorflow) (0.7.2)\n",
      "Requirement already satisfied: werkzeug>=1.0.1 in /opt/anaconda3/lib/python3.11/site-packages (from tensorboard<2.17,>=2.16->tensorflow) (2.2.3)\n",
      "Requirement already satisfied: MarkupSafe>=2.1.1 in /opt/anaconda3/lib/python3.11/site-packages (from werkzeug>=1.0.1->tensorboard<2.17,>=2.16->tensorflow) (2.1.3)\n",
      "Requirement already satisfied: markdown-it-py<3.0.0,>=2.2.0 in /opt/anaconda3/lib/python3.11/site-packages (from rich->keras>=3.0.0->tensorflow) (2.2.0)\n",
      "Requirement already satisfied: pygments<3.0.0,>=2.13.0 in /opt/anaconda3/lib/python3.11/site-packages (from rich->keras>=3.0.0->tensorflow) (2.15.1)\n",
      "Requirement already satisfied: mdurl~=0.1 in /opt/anaconda3/lib/python3.11/site-packages (from markdown-it-py<3.0.0,>=2.2.0->rich->keras>=3.0.0->tensorflow) (0.1.0)\n"
     ]
    }
   ],
   "source": [
    "!pip install tensorflow scikit-learn xgboost adversarial-robustness-toolbox\n"
   ]
  },
  {
   "cell_type": "code",
   "execution_count": 1,
   "id": "83e78939-d3ea-444f-8148-580a81f6ee46",
   "metadata": {
    "tags": []
   },
   "outputs": [],
   "source": [
    "import pandas as pd\n",
    "import os"
   ]
  },
  {
   "cell_type": "code",
   "execution_count": 3,
   "id": "6216e408-ff98-4d09-864b-29d7adaa804b",
   "metadata": {
    "tags": []
   },
   "outputs": [],
   "source": [
    "nsl_kdd_path = '/Users/kvv2005/Desktop/NSL_KDD_Train.csv'"
   ]
  },
  {
   "cell_type": "code",
   "execution_count": 4,
   "id": "ad776770-e282-43ae-927c-c97b05a95036",
   "metadata": {
    "tags": []
   },
   "outputs": [],
   "source": [
    "nsl_kdd_df= pd.read_csv(nsl_kdd_path)"
   ]
  },
  {
   "cell_type": "code",
   "execution_count": 5,
   "id": "73dcfba5-fcd6-4614-966b-ffc0f42d82df",
   "metadata": {
    "tags": []
   },
   "outputs": [
    {
     "name": "stdout",
     "output_type": "stream",
     "text": [
      "NSL-KDD Dataset:\n",
      "   0  tcp ftp_data   SF  491   0.1  0.2  0.3  0.4  0.5  ...   25  0.17  0.03  \\\n",
      "0  0  udp    other   SF  146     0    0    0    0    0  ...    1  0.00  0.60   \n",
      "1  0  tcp  private   S0    0     0    0    0    0    0  ...   26  0.10  0.05   \n",
      "2  0  tcp     http   SF  232  8153    0    0    0    0  ...  255  1.00  0.00   \n",
      "3  0  tcp     http   SF  199   420    0    0    0    0  ...  255  1.00  0.00   \n",
      "4  0  tcp  private  REJ    0     0    0    0    0    0  ...   19  0.07  0.07   \n",
      "\n",
      "   0.17.1  0.25  0.26  0.27  0.05  0.28   normal  \n",
      "0    0.88  0.00  0.00  0.00   0.0  0.00   normal  \n",
      "1    0.00  0.00  1.00  1.00   0.0  0.00  neptune  \n",
      "2    0.03  0.04  0.03  0.01   0.0  0.01   normal  \n",
      "3    0.00  0.00  0.00  0.00   0.0  0.00   normal  \n",
      "4    0.00  0.00  0.00  0.00   1.0  1.00  neptune  \n",
      "\n",
      "[5 rows x 42 columns]\n"
     ]
    }
   ],
   "source": [
    "print('NSL-KDD Dataset:')\n",
    "print(nsl_kdd_df.head())"
   ]
  },
  {
   "cell_type": "code",
   "execution_count": 6,
   "id": "a8195537-4e15-4f32-8f3a-55da6567d81a",
   "metadata": {
    "tags": []
   },
   "outputs": [
    {
     "name": "stdout",
     "output_type": "stream",
     "text": [
      "Missing values:\n",
      "0           0\n",
      "tcp         0\n",
      "ftp_data    0\n",
      "SF          0\n",
      "491         0\n",
      "0.1         0\n",
      "0.2         0\n",
      "0.3         0\n",
      "0.4         0\n",
      "0.5         0\n",
      "0.6         0\n",
      "0.7         0\n",
      "0.8         0\n",
      "0.9         0\n",
      "0.10        0\n",
      "0.11        0\n",
      "0.12        0\n",
      "0.13        0\n",
      "0.14        0\n",
      "0.15        0\n",
      "0.16        0\n",
      "0.18        0\n",
      "2           0\n",
      "2.1         0\n",
      "0.19        0\n",
      "0.20        0\n",
      "0.21        0\n",
      "0.22        0\n",
      "1           0\n",
      "0.23        0\n",
      "0.24        0\n",
      "150         0\n",
      "25          0\n",
      "0.17        0\n",
      "0.03        0\n",
      "0.17.1      0\n",
      "0.25        0\n",
      "0.26        0\n",
      "0.27        0\n",
      "0.05        0\n",
      "0.28        0\n",
      "normal      0\n",
      "dtype: int64\n"
     ]
    }
   ],
   "source": [
    "print(\"Missing values:\")\n",
    "print(nsl_kdd_df.isnull().sum())"
   ]
  },
  {
   "cell_type": "code",
   "execution_count": 7,
   "id": "eabf7913-5699-4701-ba91-22d180479fd9",
   "metadata": {
    "tags": []
   },
   "outputs": [
    {
     "name": "stdout",
     "output_type": "stream",
     "text": [
      "Index(['0', 'tcp', 'ftp_data', 'SF', '491', '0.1', '0.2', '0.3', '0.4', '0.5',\n",
      "       '0.6', '0.7', '0.8', '0.9', '0.10', '0.11', '0.12', '0.13', '0.14',\n",
      "       '0.15', '0.16', '0.18', '2', '2.1', '0.19', '0.20', '0.21', '0.22', '1',\n",
      "       '0.23', '0.24', '150', '25', '0.17', '0.03', '0.17.1', '0.25', '0.26',\n",
      "       '0.27', '0.05', '0.28', 'normal'],\n",
      "      dtype='object')\n"
     ]
    }
   ],
   "source": [
    "print(nsl_kdd_df.columns)"
   ]
  },
  {
   "cell_type": "code",
   "execution_count": 8,
   "id": "1932eb41-31f9-4479-9188-bb9ad155e365",
   "metadata": {
    "tags": []
   },
   "outputs": [],
   "source": [
    "x= nsl_kdd_df.drop('normal', axis= 1)\n",
    "y= nsl_kdd_df['normal']"
   ]
  },
  {
   "cell_type": "code",
   "execution_count": 9,
   "id": "0b0117d1-4dbc-47d8-b779-d3fe6ecb8d62",
   "metadata": {
    "tags": []
   },
   "outputs": [
    {
     "name": "stdout",
     "output_type": "stream",
     "text": [
      "Features shape X:  (125972, 41)\n",
      "Features shape Y: (125972,)\n"
     ]
    }
   ],
   "source": [
    "print('Features shape X: ', x.shape)\n",
    "print('Features shape Y:', y.shape)"
   ]
  },
  {
   "cell_type": "code",
   "execution_count": 10,
   "id": "cf294354-fe58-4468-9996-6b7efba176d1",
   "metadata": {
    "tags": []
   },
   "outputs": [
    {
     "data": {
      "text/plain": [
       "(   0  tcp ftp_data   SF  491   0.1  0.2  0.3  0.4  0.5  ...  150   25  0.17  \\\n",
       " 0  0  udp    other   SF  146     0    0    0    0    0  ...  255    1  0.00   \n",
       " 1  0  tcp  private   S0    0     0    0    0    0    0  ...  255   26  0.10   \n",
       " 2  0  tcp     http   SF  232  8153    0    0    0    0  ...   30  255  1.00   \n",
       " 3  0  tcp     http   SF  199   420    0    0    0    0  ...  255  255  1.00   \n",
       " 4  0  tcp  private  REJ    0     0    0    0    0    0  ...  255   19  0.07   \n",
       " \n",
       "    0.03  0.17.1  0.25  0.26  0.27  0.05  0.28  \n",
       " 0  0.60    0.88  0.00  0.00  0.00   0.0  0.00  \n",
       " 1  0.05    0.00  0.00  1.00  1.00   0.0  0.00  \n",
       " 2  0.00    0.03  0.04  0.03  0.01   0.0  0.01  \n",
       " 3  0.00    0.00  0.00  0.00  0.00   0.0  0.00  \n",
       " 4  0.07    0.00  0.00  0.00  0.00   1.0  1.00  \n",
       " \n",
       " [5 rows x 41 columns],\n",
       " 0     normal\n",
       " 1    neptune\n",
       " 2     normal\n",
       " 3     normal\n",
       " 4    neptune\n",
       " Name: normal, dtype: object)"
      ]
     },
     "execution_count": 10,
     "metadata": {},
     "output_type": "execute_result"
    }
   ],
   "source": [
    "x.head(),y.head()"
   ]
  },
  {
   "cell_type": "code",
   "execution_count": 17,
   "id": "0af26805-1b5e-44a8-818a-b362a10b88d5",
   "metadata": {
    "tags": []
   },
   "outputs": [
    {
     "name": "stdout",
     "output_type": "stream",
     "text": [
      "First 5 encoded labels: [11  9 11 11  9]\n",
      "Label classes: ['back' 'buffer_overflow' 'ftp_write' 'guess_passwd' 'imap' 'ipsweep'\n",
      " 'land' 'loadmodule' 'multihop' 'neptune' 'nmap' 'normal' 'perl' 'phf'\n",
      " 'pod' 'portsweep' 'rootkit' 'satan' 'smurf' 'spy' 'teardrop'\n",
      " 'warezclient' 'warezmaster']\n"
     ]
    }
   ],
   "source": [
    "from sklearn.preprocessing import LabelEncoder\n",
    "label_encoder= LabelEncoder()\n",
    "y_encoded= label_encoder.fit_transform(y)\n",
    "\n",
    "print('First 5 encoded labels:', y_encoded[:5])\n",
    "print('Label classes:', label_encoder.classes_)"
   ]
  },
  {
   "cell_type": "code",
   "execution_count": 18,
   "id": "73adb62d-6378-48cb-8ead-576ae9660e3e",
   "metadata": {
    "tags": []
   },
   "outputs": [
    {
     "name": "stdout",
     "output_type": "stream",
     "text": [
      "   0  491   0.1  0.2  0.3  0.4  0.5  0.6  0.7  0.8  ...  SF_REJ  SF_RSTO  \\\n",
      "0  0  146     0    0    0    0    0    0    0    0  ...   False    False   \n",
      "1  0    0     0    0    0    0    0    0    0    0  ...   False    False   \n",
      "2  0  232  8153    0    0    0    0    0    1    0  ...   False    False   \n",
      "3  0  199   420    0    0    0    0    0    1    0  ...   False    False   \n",
      "4  0    0     0    0    0    0    0    0    0    0  ...    True    False   \n",
      "\n",
      "   SF_RSTOS0  SF_RSTR  SF_S0  SF_S1  SF_S2  SF_S3  SF_SF  SF_SH  \n",
      "0      False    False  False  False  False  False   True  False  \n",
      "1      False    False   True  False  False  False  False  False  \n",
      "2      False    False  False  False  False  False   True  False  \n",
      "3      False    False  False  False  False  False   True  False  \n",
      "4      False    False  False  False  False  False  False  False  \n",
      "\n",
      "[5 rows x 122 columns]\n"
     ]
    }
   ],
   "source": [
    "non_numeric_columns= x.select_dtypes(include=['object']).columns\n",
    "X_encoded= pd.get_dummies(x, columns=non_numeric_columns)\n",
    "print(X_encoded.head())\n",
    "#print(x.dtypes)\n"
   ]
  },
  {
   "cell_type": "code",
   "execution_count": 19,
   "id": "30fa490b-5d96-41d5-89b7-ebd16bc15c71",
   "metadata": {
    "tags": []
   },
   "outputs": [
    {
     "name": "stdout",
     "output_type": "stream",
     "text": [
      "First 5 rows of scaled features:\n",
      " [[-1.10249666e-01 -7.73740006e-03 -4.91866391e-03 -1.40888677e-02\n",
      "  -8.94867800e-02 -7.73601574e-03 -9.50760523e-02 -2.70229257e-02\n",
      "  -8.09267134e-01 -1.16636889e-02 -3.66520148e-02 -2.44366043e-02\n",
      "  -1.23851995e-02 -2.61801282e-02 -1.86099702e-02 -4.12213615e-02\n",
      "   0.00000000e+00 -2.81750510e-03 -9.75313348e-02 -6.20986958e-01\n",
      "  -3.68111748e-01 -6.37212824e-01 -6.31932543e-01 -3.74363934e-01\n",
      "  -3.74433298e-01 -1.32141976e+00  4.82196096e-01 -3.74561400e-01\n",
      "   7.34337380e-01 -1.03569278e+00 -1.16103461e+00  2.73683944e+00\n",
      "   2.36772855e+00 -2.89104644e-01 -6.39535482e-01 -6.24874248e-01\n",
      "  -3.87634945e-01 -3.76388732e-01 -2.65430168e-01 -2.10005685e+00\n",
      "   2.72067166e+00 -3.85572788e-02 -2.40796566e-02 -8.30056435e-02\n",
      "  -3.98456975e-03 -8.74011505e-02 -7.52869153e-02 -7.65561295e-02\n",
      "  -6.59178045e-02 -6.70023207e-02 -6.44438975e-02 -6.54912835e-02\n",
      "  -6.73600142e-02 -2.78096260e-01 -5.87972836e-02 -1.94371562e-01\n",
      "  -1.58232847e-01 -6.21686592e-02 -6.14569168e-02 -1.19274810e-01\n",
      "  -1.18829024e-01 -2.39966612e-01 -6.42573222e-02 -3.98456975e-03\n",
      "  -6.05391461e-02 -6.86331711e-01 -2.81750510e-03 -6.50004630e-02\n",
      "  -3.98456975e-03 -7.18510772e-02 -7.40506423e-02 -5.87292718e-02\n",
      "  -4.87769458e-02 -5.71429709e-02 -6.15219557e-02 -5.84564443e-02\n",
      "  -5.91361853e-02 -5.99418408e-02 -5.67923386e-02 -5.25565320e-02\n",
      "  -5.36836675e-02 -5.35347384e-02 -7.08960379e-02 -4.85310492e-02\n",
      "  -3.65432708e-02  5.28197774e+00 -6.30023297e-03 -2.48911399e-02\n",
      "  -4.58269026e-02 -2.34102745e-02 -4.58131906e-01 -7.96932929e-03\n",
      "  -2.48911399e-02 -2.61372871e-02 -2.27212249e-02 -2.48254680e-01\n",
      "  -4.41437035e-02 -4.97484941e-02 -5.50786426e-02 -6.58570391e-02\n",
      "  -6.16518308e-02 -1.37964817e-01 -4.88010073e-03 -7.96932929e-03\n",
      "  -7.22407334e-02 -8.91005174e-03 -6.92949256e-02 -7.89330733e-02\n",
      "  -7.41589443e-02 -7.01571198e-02 -7.43750855e-02 -1.91126634e-02\n",
      "  -3.12890480e-01 -1.12050260e-01 -2.86061375e-02 -1.39982667e-01\n",
      "  -6.18441156e-01 -5.39062984e-02 -3.17675614e-02 -1.97262943e-02\n",
      "   8.25155576e-01 -4.64317742e-02]\n",
      " [-1.10249666e-01 -7.76227089e-03 -4.91866391e-03 -1.40888677e-02\n",
      "  -8.94867800e-02 -7.73601574e-03 -9.50760523e-02 -2.70229257e-02\n",
      "  -8.09267134e-01 -1.16636889e-02 -3.66520148e-02 -2.44366043e-02\n",
      "  -1.23851995e-02 -2.61801282e-02 -1.86099702e-02 -4.12213615e-02\n",
      "   0.00000000e+00 -2.81750510e-03 -9.75313348e-02  3.39641479e-01\n",
      "  -2.99275172e-01  1.60265505e+00  1.60509487e+00 -3.74363934e-01\n",
      "  -3.74433298e-01 -1.38966023e+00  3.85263977e-02 -3.74561400e-01\n",
      "   7.34337380e-01 -8.09862183e-01 -9.38291799e-01 -1.74418935e-01\n",
      "  -4.80194395e-01 -2.89104644e-01  1.60875023e+00  1.61894633e+00\n",
      "  -3.87634945e-01 -3.76388732e-01 -2.65430168e-01  4.76177584e-01\n",
      "  -3.67556296e-01 -3.85572788e-02 -2.40796566e-02 -8.30056435e-02\n",
      "  -3.98456975e-03 -8.74011505e-02 -7.52869153e-02 -7.65561295e-02\n",
      "  -6.59178045e-02 -6.70023207e-02 -6.44438975e-02 -6.54912835e-02\n",
      "  -6.73600142e-02 -2.78096260e-01 -5.87972836e-02 -1.94371562e-01\n",
      "  -1.58232847e-01 -6.21686592e-02 -6.14569168e-02 -1.19274810e-01\n",
      "  -1.18829024e-01 -2.39966612e-01 -6.42573222e-02 -3.98456975e-03\n",
      "  -6.05391461e-02 -6.86331711e-01 -2.81750510e-03 -6.50004630e-02\n",
      "  -3.98456975e-03 -7.18510772e-02 -7.40506423e-02 -5.87292718e-02\n",
      "  -4.87769458e-02 -5.71429709e-02 -6.15219557e-02 -5.84564443e-02\n",
      "  -5.91361853e-02 -5.99418408e-02 -5.67923386e-02 -5.25565320e-02\n",
      "  -5.36836675e-02 -5.35347384e-02 -7.08960379e-02 -4.85310492e-02\n",
      "  -3.65432708e-02 -1.89323024e-01 -6.30023297e-03 -2.48911399e-02\n",
      "  -4.58269026e-02 -2.34102745e-02  2.18277746e+00 -7.96932929e-03\n",
      "  -2.48911399e-02 -2.61372871e-02 -2.27212249e-02 -2.48254680e-01\n",
      "  -4.41437035e-02 -4.97484941e-02 -5.50786426e-02 -6.58570391e-02\n",
      "  -6.16518308e-02 -1.37964817e-01 -4.88010073e-03 -7.96932929e-03\n",
      "  -7.22407334e-02 -8.91005174e-03 -6.92949256e-02 -7.89330733e-02\n",
      "  -7.41589443e-02 -7.01571198e-02 -7.43750855e-02 -1.91126634e-02\n",
      "  -3.12890480e-01 -1.12050260e-01 -2.86061375e-02 -1.39982667e-01\n",
      "   1.61696871e+00 -5.39062984e-02 -3.17675614e-02 -1.97262943e-02\n",
      "  -1.21189268e+00 -4.64317742e-02]\n",
      " [-1.10249666e-01 -7.72275012e-03 -2.89119454e-03 -1.40888677e-02\n",
      "  -8.94867800e-02 -7.73601574e-03 -9.50760523e-02 -2.70229257e-02\n",
      "   1.23568592e+00 -1.16636889e-02 -3.66520148e-02 -2.44366043e-02\n",
      "  -1.23851995e-02 -2.61801282e-02 -1.86099702e-02 -4.12213615e-02\n",
      "   0.00000000e+00 -2.81750510e-03 -9.75313348e-02 -6.90850844e-01\n",
      "  -3.13042487e-01 -1.89239249e-01 -1.84527059e-01 -3.74363934e-01\n",
      "  -3.74433298e-01  7.71287988e-01 -3.49684589e-01 -3.74561400e-01\n",
      "  -1.53366668e+00  1.25874613e+00  1.06639349e+00 -4.39078787e-01\n",
      "  -3.83106113e-01  6.62494892e-02 -5.72086910e-01 -6.02436043e-01\n",
      "  -3.87634945e-01 -3.45085831e-01 -2.65430168e-01  4.76177584e-01\n",
      "  -3.67556296e-01 -3.85572788e-02 -2.40796566e-02 -8.30056435e-02\n",
      "  -3.98456975e-03 -8.74011505e-02 -7.52869153e-02 -7.65561295e-02\n",
      "  -6.59178045e-02 -6.70023207e-02 -6.44438975e-02 -6.54912835e-02\n",
      "  -6.73600142e-02 -2.78096260e-01 -5.87972836e-02 -1.94371562e-01\n",
      "  -1.58232847e-01 -6.21686592e-02 -6.14569168e-02 -1.19274810e-01\n",
      "  -1.18829024e-01 -2.39966612e-01 -6.42573222e-02 -3.98456975e-03\n",
      "  -6.05391461e-02  1.45702141e+00 -2.81750510e-03 -6.50004630e-02\n",
      "  -3.98456975e-03 -7.18510772e-02 -7.40506423e-02 -5.87292718e-02\n",
      "  -4.87769458e-02 -5.71429709e-02 -6.15219557e-02 -5.84564443e-02\n",
      "  -5.91361853e-02 -5.99418408e-02 -5.67923386e-02 -5.25565320e-02\n",
      "  -5.36836675e-02 -5.35347384e-02 -7.08960379e-02 -4.85310492e-02\n",
      "  -3.65432708e-02 -1.89323024e-01 -6.30023297e-03 -2.48911399e-02\n",
      "  -4.58269026e-02 -2.34102745e-02 -4.58131906e-01 -7.96932929e-03\n",
      "  -2.48911399e-02 -2.61372871e-02 -2.27212249e-02 -2.48254680e-01\n",
      "  -4.41437035e-02 -4.97484941e-02 -5.50786426e-02 -6.58570391e-02\n",
      "  -6.16518308e-02 -1.37964817e-01 -4.88010073e-03 -7.96932929e-03\n",
      "  -7.22407334e-02 -8.91005174e-03 -6.92949256e-02 -7.89330733e-02\n",
      "  -7.41589443e-02 -7.01571198e-02 -7.43750855e-02 -1.91126634e-02\n",
      "  -3.12890480e-01 -1.12050260e-01 -2.86061375e-02 -1.39982667e-01\n",
      "  -6.18441156e-01 -5.39062984e-02 -3.17675614e-02 -1.97262943e-02\n",
      "   8.25155576e-01 -4.64317742e-02]\n",
      " [-1.10249666e-01 -7.72837161e-03 -4.81421927e-03 -1.40888677e-02\n",
      "  -8.94867800e-02 -7.73601574e-03 -9.50760523e-02 -2.70229257e-02\n",
      "   1.23568592e+00 -1.16636889e-02 -3.66520148e-02 -2.44366043e-02\n",
      "  -1.23851995e-02 -2.61801282e-02 -1.86099702e-02 -4.12213615e-02\n",
      "   0.00000000e+00 -2.81750510e-03 -9.75313348e-02 -4.72526199e-01\n",
      "   5.86750226e-02 -6.37212824e-01 -6.31932543e-01 -3.74363934e-01\n",
      "  -3.74433298e-01  7.71287988e-01 -3.49684589e-01 -2.81815452e-02\n",
      "   7.34337380e-01  1.25874613e+00  1.06639349e+00 -4.39078787e-01\n",
      "  -4.80194395e-01 -2.89104644e-01 -6.39535482e-01 -6.24874248e-01\n",
      "  -3.87634945e-01 -3.76388732e-01 -2.65430168e-01  4.76177584e-01\n",
      "  -3.67556296e-01 -3.85572788e-02 -2.40796566e-02 -8.30056435e-02\n",
      "  -3.98456975e-03 -8.74011505e-02 -7.52869153e-02 -7.65561295e-02\n",
      "  -6.59178045e-02 -6.70023207e-02 -6.44438975e-02 -6.54912835e-02\n",
      "  -6.73600142e-02 -2.78096260e-01 -5.87972836e-02 -1.94371562e-01\n",
      "  -1.58232847e-01 -6.21686592e-02 -6.14569168e-02 -1.19274810e-01\n",
      "  -1.18829024e-01 -2.39966612e-01 -6.42573222e-02 -3.98456975e-03\n",
      "  -6.05391461e-02  1.45702141e+00 -2.81750510e-03 -6.50004630e-02\n",
      "  -3.98456975e-03 -7.18510772e-02 -7.40506423e-02 -5.87292718e-02\n",
      "  -4.87769458e-02 -5.71429709e-02 -6.15219557e-02 -5.84564443e-02\n",
      "  -5.91361853e-02 -5.99418408e-02 -5.67923386e-02 -5.25565320e-02\n",
      "  -5.36836675e-02 -5.35347384e-02 -7.08960379e-02 -4.85310492e-02\n",
      "  -3.65432708e-02 -1.89323024e-01 -6.30023297e-03 -2.48911399e-02\n",
      "  -4.58269026e-02 -2.34102745e-02 -4.58131906e-01 -7.96932929e-03\n",
      "  -2.48911399e-02 -2.61372871e-02 -2.27212249e-02 -2.48254680e-01\n",
      "  -4.41437035e-02 -4.97484941e-02 -5.50786426e-02 -6.58570391e-02\n",
      "  -6.16518308e-02 -1.37964817e-01 -4.88010073e-03 -7.96932929e-03\n",
      "  -7.22407334e-02 -8.91005174e-03 -6.92949256e-02 -7.89330733e-02\n",
      "  -7.41589443e-02 -7.01571198e-02 -7.43750855e-02 -1.91126634e-02\n",
      "  -3.12890480e-01 -1.12050260e-01 -2.86061375e-02 -1.39982667e-01\n",
      "  -6.18441156e-01 -5.39062984e-02 -3.17675614e-02 -1.97262943e-02\n",
      "   8.25155576e-01 -4.64317742e-02]\n",
      " [-1.10249666e-01 -7.76227089e-03 -4.91866391e-03 -1.40888677e-02\n",
      "  -8.94867800e-02 -7.73601574e-03 -9.50760523e-02 -2.70229257e-02\n",
      "  -8.09267134e-01 -1.16636889e-02 -3.66520148e-02 -2.44366043e-02\n",
      "  -1.23851995e-02 -2.61801282e-02 -1.86099702e-02 -4.12213615e-02\n",
      "   0.00000000e+00 -2.81750510e-03 -9.75313348e-02  3.22175508e-01\n",
      "  -1.20300075e-01 -6.37212824e-01 -6.31932543e-01  2.74639045e+00\n",
      "   2.71535234e+00 -1.13944518e+00 -1.69323146e-02 -3.74561400e-01\n",
      "   7.34337380e-01 -8.73094751e-01 -1.00511464e+00 -6.85549945e-02\n",
      "  -4.80194395e-01 -2.89104644e-01 -6.39535482e-01 -6.24874248e-01\n",
      "   2.87439693e+00  2.75390135e+00 -2.65430168e-01  4.76177584e-01\n",
      "  -3.67556296e-01 -3.85572788e-02 -2.40796566e-02 -8.30056435e-02\n",
      "  -3.98456975e-03 -8.74011505e-02 -7.52869153e-02 -7.65561295e-02\n",
      "  -6.59178045e-02 -6.70023207e-02 -6.44438975e-02 -6.54912835e-02\n",
      "  -6.73600142e-02 -2.78096260e-01 -5.87972836e-02 -1.94371562e-01\n",
      "  -1.58232847e-01 -6.21686592e-02 -6.14569168e-02 -1.19274810e-01\n",
      "  -1.18829024e-01 -2.39966612e-01 -6.42573222e-02 -3.98456975e-03\n",
      "  -6.05391461e-02 -6.86331711e-01 -2.81750510e-03 -6.50004630e-02\n",
      "  -3.98456975e-03 -7.18510772e-02 -7.40506423e-02 -5.87292718e-02\n",
      "  -4.87769458e-02 -5.71429709e-02 -6.15219557e-02 -5.84564443e-02\n",
      "  -5.91361853e-02 -5.99418408e-02 -5.67923386e-02 -5.25565320e-02\n",
      "  -5.36836675e-02 -5.35347384e-02 -7.08960379e-02 -4.85310492e-02\n",
      "  -3.65432708e-02 -1.89323024e-01 -6.30023297e-03 -2.48911399e-02\n",
      "  -4.58269026e-02 -2.34102745e-02  2.18277746e+00 -7.96932929e-03\n",
      "  -2.48911399e-02 -2.61372871e-02 -2.27212249e-02 -2.48254680e-01\n",
      "  -4.41437035e-02 -4.97484941e-02 -5.50786426e-02 -6.58570391e-02\n",
      "  -6.16518308e-02 -1.37964817e-01 -4.88010073e-03 -7.96932929e-03\n",
      "  -7.22407334e-02 -8.91005174e-03 -6.92949256e-02 -7.89330733e-02\n",
      "  -7.41589443e-02 -7.01571198e-02 -7.43750855e-02 -1.91126634e-02\n",
      "   3.19600648e+00 -1.12050260e-01 -2.86061375e-02 -1.39982667e-01\n",
      "  -6.18441156e-01 -5.39062984e-02 -3.17675614e-02 -1.97262943e-02\n",
      "  -1.21189268e+00 -4.64317742e-02]]\n"
     ]
    }
   ],
   "source": [
    "from sklearn.preprocessing import StandardScaler\n",
    "\n",
    "scaler= StandardScaler()\n",
    "X_scaled= scaler.fit_transform(X_encoded)\n",
    "print('First 5 rows of scaled features:\\n', X_scaled[:5])"
   ]
  },
  {
   "cell_type": "code",
   "execution_count": 54,
   "id": "83936d5b-2818-48af-ac70-df0cbe997601",
   "metadata": {},
   "outputs": [
    {
     "data": {
      "text/plain": [
       "'/opt/anaconda3/bin/python'"
      ]
     },
     "execution_count": 54,
     "metadata": {},
     "output_type": "execute_result"
    }
   ],
   "source": [
    "import sys\n",
    "sys.executable"
   ]
  },
  {
   "cell_type": "code",
   "execution_count": 55,
   "id": "02277293-24a9-4396-9bfe-76e7c2603fc1",
   "metadata": {},
   "outputs": [
    {
     "name": "stdout",
     "output_type": "stream",
     "text": [
      "Channels:\n",
      " - conda-forge\n",
      " - defaults\n",
      "Platform: osx-64\n",
      "Collecting package metadata (repodata.json): done\n",
      "Solving environment: done\n",
      "\n",
      "## Package Plan ##\n",
      "\n",
      "  environment location: /opt/anaconda3\n",
      "\n",
      "  added / updated specs:\n",
      "    - keras\n",
      "\n",
      "\n",
      "The following packages will be downloaded:\n",
      "\n",
      "    package                    |            build\n",
      "    ---------------------------|-----------------\n",
      "    absl-py-2.1.0              |     pyhd8ed1ab_0         105 KB  conda-forge\n",
      "    ca-certificates-2024.8.30  |       h8857fd0_0         155 KB  conda-forge\n",
      "    certifi-2024.8.30          |     pyhd8ed1ab_0         160 KB  conda-forge\n",
      "    conda-24.9.2               |  py312hb401068_0         1.1 MB  conda-forge\n",
      "    keras-3.6.0                |     pyhd8ed1ab_0         891 KB  conda-forge\n",
      "    libexpat-2.6.2             |       h73e2aa4_0          68 KB  conda-forge\n",
      "    libsqlite-3.46.0           |       h1b8f9f3_0         887 KB  conda-forge\n",
      "    libzlib-1.2.13             |       h87427d6_6          56 KB  conda-forge\n",
      "    ml_dtypes-0.4.0            |  py312h77d3abe_0         152 KB\n",
      "    namex-0.0.8                |     pyhd8ed1ab_0          11 KB  conda-forge\n",
      "    openssl-3.3.2              |       hd23fc13_0         2.4 MB  conda-forge\n",
      "    optree-0.12.1              |  py312h1962661_0         318 KB\n",
      "    python-3.12.2              |h9f0c242_0_cpython        13.9 MB  conda-forge\n",
      "    python_abi-3.12            |          5_cp312           6 KB  conda-forge\n",
      "    zlib-1.2.13                |       h87427d6_6          87 KB  conda-forge\n",
      "    ------------------------------------------------------------\n",
      "                                           Total:        20.3 MB\n",
      "\n",
      "The following NEW packages will be INSTALLED:\n",
      "\n",
      "  absl-py            conda-forge/noarch::absl-py-2.1.0-pyhd8ed1ab_0 \n",
      "  keras              conda-forge/noarch::keras-3.6.0-pyhd8ed1ab_0 \n",
      "  libexpat           conda-forge/osx-64::libexpat-2.6.2-h73e2aa4_0 \n",
      "  libsqlite          conda-forge/osx-64::libsqlite-3.46.0-h1b8f9f3_0 \n",
      "  libzlib            conda-forge/osx-64::libzlib-1.2.13-h87427d6_6 \n",
      "  ml_dtypes          pkgs/main/osx-64::ml_dtypes-0.4.0-py312h77d3abe_0 \n",
      "  namex              conda-forge/noarch::namex-0.0.8-pyhd8ed1ab_0 \n",
      "  optree             pkgs/main/osx-64::optree-0.12.1-py312h1962661_0 \n",
      "  python_abi         conda-forge/osx-64::python_abi-3.12-5_cp312 \n",
      "\n",
      "The following packages will be UPDATED:\n",
      "\n",
      "  ca-certificates    pkgs/main::ca-certificates-2024.3.11-~ --> conda-forge::ca-certificates-2024.8.30-h8857fd0_0 \n",
      "  certifi            pkgs/main/osx-64::certifi-2024.6.2-py~ --> conda-forge/noarch::certifi-2024.8.30-pyhd8ed1ab_0 \n",
      "  conda              pkgs/main::conda-24.5.0-py312hecd8cb5~ --> conda-forge::conda-24.9.2-py312hb401068_0 \n",
      "  openssl              pkgs/main::openssl-3.0.14-h46256e1_0 --> conda-forge::openssl-3.3.2-hd23fc13_0 \n",
      "  zlib                    pkgs/main::zlib-1.2.13-h4b97444_1 --> conda-forge::zlib-1.2.13-h87427d6_6 \n",
      "\n",
      "The following packages will be SUPERSEDED by a higher-priority channel:\n",
      "\n",
      "  python                pkgs/main::python-3.12.4-hcd54a6c_1 --> conda-forge::python-3.12.2-h9f0c242_0_cpython \n",
      "\n",
      "\n",
      "\n",
      "Downloading and Extracting Packages:\n",
      "python-3.12.2        | 13.9 MB   |                                       |   0% \n",
      "openssl-3.3.2        | 2.4 MB    |                                       |   0% \u001b[A\n",
      "\n",
      "conda-24.9.2         | 1.1 MB    |                                       |   0% \u001b[A\u001b[A\n",
      "\n",
      "\n",
      "keras-3.6.0          | 891 KB    |                                       |   0% \u001b[A\u001b[A\u001b[A\n",
      "\n",
      "\n",
      "\n",
      "libsqlite-3.46.0     | 887 KB    |                                       |   0% \u001b[A\u001b[A\u001b[A\u001b[A\n",
      "\n",
      "\n",
      "\n",
      "\n",
      "optree-0.12.1        | 318 KB    |                                       |   0% \u001b[A\u001b[A\u001b[A\u001b[A\u001b[A\n",
      "\n",
      "\n",
      "\n",
      "\n",
      "\n",
      "certifi-2024.8.30    | 160 KB    |                                       |   0% \u001b[A\u001b[A\u001b[A\u001b[A\u001b[A\u001b[A\n",
      "\n",
      "\n",
      "\n",
      "\n",
      "\n",
      "\n",
      "ca-certificates-2024 | 155 KB    |                                       |   0% \u001b[A\u001b[A\u001b[A\u001b[A\u001b[A\u001b[A\u001b[A\n",
      "\n",
      "\n",
      "\n",
      "\n",
      "\n",
      "\n",
      "\n",
      "ml_dtypes-0.4.0      | 152 KB    |                                       |   0% \u001b[A\u001b[A\u001b[A\u001b[A\u001b[A\u001b[A\u001b[A\u001b[A\n",
      "\n",
      "\n",
      "\n",
      "\n",
      "\n",
      "\n",
      "\n",
      "\n",
      "absl-py-2.1.0        | 105 KB    |                                       |   0% \u001b[A\u001b[A\u001b[A\u001b[A\u001b[A\u001b[A\u001b[A\u001b[A\u001b[A\n",
      "\n",
      "\n",
      "\n",
      "\n",
      "\n",
      "\n",
      "\n",
      "\n",
      "\n",
      "zlib-1.2.13          | 87 KB     |                                       |   0% \u001b[A\u001b[A\u001b[A\u001b[A\u001b[A\u001b[A\u001b[A\u001b[A\u001b[A\u001b[A\n",
      "\n",
      "\n",
      "\n",
      "\n",
      "\n",
      "\n",
      "\n",
      "\n",
      "\n",
      "\n",
      "libexpat-2.6.2       | 68 KB     |                                       |   0% \u001b[A\u001b[A\u001b[A\u001b[A\u001b[A\u001b[A\u001b[A\u001b[A\u001b[A\u001b[A\u001b[A\n",
      "\n",
      "\n",
      "\n",
      "\n",
      "\n",
      "\n",
      "\n",
      "\n",
      "\n",
      "\n",
      "\n",
      "libzlib-1.2.13       | 56 KB     |                                       |   0% \u001b[A\u001b[A\u001b[A\u001b[A\u001b[A\u001b[A\u001b[A\u001b[A\u001b[A\u001b[A\u001b[A\u001b[A\n",
      "\n",
      "\n",
      "\n",
      "\n",
      "\n",
      "\n",
      "\n",
      "\n",
      "\n",
      "\n",
      "\n",
      "\n",
      "namex-0.0.8          | 11 KB     |                                       |   0% \u001b[A\u001b[A\u001b[A\u001b[A\u001b[A\u001b[A\u001b[A\u001b[A\u001b[A\u001b[A\u001b[A\u001b[A\u001b[A\n",
      "\n",
      "\n",
      "\n",
      "\n",
      "\n",
      "\n",
      "\n",
      "\n",
      "\n",
      "\n",
      "\n",
      "\n",
      "\n",
      "python_abi-3.12      | 6 KB      |                                       |   0% \u001b[A\u001b[A\u001b[A\u001b[A\u001b[A\u001b[A\u001b[A\u001b[A\u001b[A\u001b[A\u001b[A\u001b[A\u001b[A\u001b[A\n",
      "\n",
      "conda-24.9.2         | 1.1 MB    | 5                                     |   1% \u001b[A\u001b[A\n",
      "\n",
      "\n",
      "\n",
      "libsqlite-3.46.0     | 887 KB    | 6                                     |   2% \u001b[A\u001b[A\u001b[A\u001b[A\n",
      "python-3.12.2        | 13.9 MB   |                                       |   0% \u001b[A\n",
      "\n",
      "\n",
      "keras-3.6.0          | 891 KB    | 6                                     |   2% \u001b[A\u001b[A\u001b[A\n",
      "\n",
      "conda-24.9.2         | 1.1 MB    | ####1                                 |  11% \u001b[A\u001b[A\n",
      "\n",
      "\n",
      "\n",
      "libsqlite-3.46.0     | 887 KB    | #####3                                |  14% \u001b[A\u001b[A\u001b[A\u001b[A\n",
      "openssl-3.3.2        | 2.4 MB    | #9                                    |   5% \u001b[A\n",
      "\n",
      "\n",
      "python-3.12.2        | 13.9 MB   | 3                                     |   1% \u001b[A\u001b[A\u001b[A\n",
      "\n",
      "conda-24.9.2         | 1.1 MB    | ########3                             |  23% \u001b[A\u001b[A\n",
      "\n",
      "\n",
      "\n",
      "libsqlite-3.46.0     | 887 KB    | ##########6                           |  29% \u001b[A\u001b[A\u001b[A\u001b[A\n",
      "python-3.12.2        | 13.9 MB   | 6                                     |   2% \u001b[A\n",
      "\n",
      "\n",
      "keras-3.6.0          | 891 KB    | ##########6                           |  29% \u001b[A\u001b[A\u001b[A\n",
      "\n",
      "conda-24.9.2         | 1.1 MB    | ###################8                  |  54% \u001b[A\u001b[A\n",
      "\n",
      "\n",
      "\n",
      "python-3.12.2        | 13.9 MB   | #6                                    |   4% \u001b[A\u001b[A\u001b[A\u001b[A\n",
      "openssl-3.3.2        | 2.4 MB    | #########2                            |  25% \u001b[A\n",
      "\n",
      "\n",
      "keras-3.6.0          | 891 KB    | #########################2            |  68% \u001b[A\u001b[A\u001b[A\n",
      "\n",
      "\n",
      "\n",
      "libsqlite-3.46.0     | 887 KB    | ##################################### | 100% \u001b[A\u001b[A\u001b[A\u001b[A\n",
      "\n",
      "python-3.12.2        | 13.9 MB   | ##9                                   |   8% \u001b[A\u001b[A\n",
      "python-3.12.2        | 13.9 MB   | ###5                                  |  10% \u001b[A\n",
      "openssl-3.3.2        | 2.4 MB    | #########################9            |  70% \u001b[A\n",
      "\n",
      "\n",
      "\n",
      "\n",
      "\n",
      "python-3.12.2        | 13.9 MB   | #####2                                |  14% \u001b[A\u001b[A\u001b[A\u001b[A\u001b[A\u001b[A\n",
      "\n",
      "\n",
      "\n",
      "\n",
      "\n",
      "certifi-2024.8.30    | 160 KB    | ##################################### | 100% \u001b[A\u001b[A\u001b[A\u001b[A\u001b[A\u001b[A\n",
      "openssl-3.3.2        | 2.4 MB    | ####################################2 |  98% \u001b[A\n",
      "\n",
      "\n",
      "\n",
      "\n",
      "\n",
      "\n",
      "python-3.12.2        | 13.9 MB   | #############2                        |  36% \u001b[A\u001b[A\u001b[A\u001b[A\u001b[A\u001b[A\u001b[A\n",
      "\n",
      "\n",
      "\n",
      "\n",
      "\n",
      "\n",
      "\n",
      "\n",
      "absl-py-2.1.0        | 105 KB    | #####6                                |  15% \u001b[A\u001b[A\u001b[A\u001b[A\u001b[A\u001b[A\u001b[A\u001b[A\u001b[A\n",
      "openssl-3.3.2        | 2.4 MB    | ##################################### | 100% \u001b[A\n",
      "\n",
      "\n",
      "\n",
      "\n",
      "optree-0.12.1        | 318 KB    | #8                                    |   5% \u001b[A\u001b[A\u001b[A\u001b[A\u001b[A\n",
      "\n",
      "conda-24.9.2         | 1.1 MB    | ##################################### | 100% \u001b[A\u001b[A\n",
      "\n",
      "\n",
      "\n",
      "\n",
      "\n",
      "\n",
      "\n",
      "\n",
      "\n",
      "zlib-1.2.13          | 87 KB     | ######8                               |  18% \u001b[A\u001b[A\u001b[A\u001b[A\u001b[A\u001b[A\u001b[A\u001b[A\u001b[A\u001b[A\n",
      "\n",
      "\n",
      "\n",
      "\n",
      "\n",
      "\n",
      "ca-certificates-2024 | 155 KB    | ##################################### | 100% \u001b[A\u001b[A\u001b[A\u001b[A\u001b[A\u001b[A\u001b[A\n",
      "\n",
      "\n",
      "\n",
      "\n",
      "\n",
      "\n",
      "ca-certificates-2024 | 155 KB    | ##################################### | 100% \u001b[A\u001b[A\u001b[A\u001b[A\u001b[A\u001b[A\u001b[A\n",
      "\n",
      "\n",
      "\n",
      "\n",
      "\n",
      "\n",
      "\n",
      "\n",
      "\n",
      "zlib-1.2.13          | 87 KB     | ##################################### | 100% \u001b[A\u001b[A\u001b[A\u001b[A\u001b[A\u001b[A\u001b[A\u001b[A\u001b[A\u001b[A\n",
      "\n",
      "\n",
      "\n",
      "\n",
      "\n",
      "\n",
      "\n",
      "\n",
      "absl-py-2.1.0        | 105 KB    | ##################################### | 100% \u001b[A\u001b[A\u001b[A\u001b[A\u001b[A\u001b[A\u001b[A\u001b[A\u001b[A\n",
      "\n",
      "\n",
      "keras-3.6.0          | 891 KB    | ##################################### | 100% \u001b[A\u001b[A\u001b[A\n",
      "\n",
      "\n",
      "python-3.12.2        | 13.9 MB   | ########################5             |  66% \u001b[A\u001b[A\u001b[A\n",
      "\n",
      "\n",
      "\n",
      "\n",
      "optree-0.12.1        | 318 KB    | ##############9                       |  40% \u001b[A\u001b[A\u001b[A\u001b[A\u001b[A\n",
      "\n",
      "\n",
      "\n",
      "\n",
      "\n",
      "\n",
      "\n",
      "\n",
      "\n",
      "\n",
      "libexpat-2.6.2       | 68 KB     | ########7                             |  24% \u001b[A\u001b[A\u001b[A\u001b[A\u001b[A\u001b[A\u001b[A\u001b[A\u001b[A\u001b[A\u001b[A\n",
      "\n",
      "\n",
      "\n",
      "\n",
      "\n",
      "\n",
      "\n",
      "\n",
      "\n",
      "\n",
      "libexpat-2.6.2       | 68 KB     | ##################################### | 100% \u001b[A\u001b[A\u001b[A\u001b[A\u001b[A\u001b[A\u001b[A\u001b[A\u001b[A\u001b[A\u001b[A\n",
      "\n",
      "\n",
      "\n",
      "\n",
      "\n",
      "\n",
      "\n",
      "\n",
      "\n",
      "\n",
      "\n",
      "libzlib-1.2.13       | 56 KB     | ##########5                           |  29% \u001b[A\u001b[A\u001b[A\u001b[A\u001b[A\u001b[A\u001b[A\u001b[A\u001b[A\u001b[A\u001b[A\u001b[A\n",
      "\n",
      "\n",
      "\n",
      "\n",
      "\n",
      "\n",
      "\n",
      "\n",
      "\n",
      "\n",
      "\n",
      "libzlib-1.2.13       | 56 KB     | ##################################### | 100% \u001b[A\u001b[A\u001b[A\u001b[A\u001b[A\u001b[A\u001b[A\u001b[A\u001b[A\u001b[A\u001b[A\u001b[A\n",
      "\n",
      "\n",
      "\n",
      "\n",
      "\n",
      "\n",
      "\n",
      "python-3.12.2        | 13.9 MB   | ##############################1       |  82% \u001b[A\u001b[A\u001b[A\u001b[A\u001b[A\u001b[A\u001b[A\u001b[A\n",
      "\n",
      "\n",
      "\n",
      "\n",
      "python-3.12.2        | 13.9 MB   | ###################################9  |  97% \u001b[A\u001b[A\u001b[A\u001b[A\u001b[A\n",
      "\n",
      "\n",
      "\n",
      "\n",
      "optree-0.12.1        | 318 KB    | ##################################### | 100% \u001b[A\u001b[A\u001b[A\u001b[A\u001b[A\n",
      "\n",
      "\n",
      "\n",
      "\n",
      "\n",
      "\n",
      "\n",
      "\n",
      "\n",
      "\n",
      "\n",
      "\n",
      "namex-0.0.8          | 11 KB     | ##################################### | 100% \u001b[A\u001b[A\u001b[A\u001b[A\u001b[A\u001b[A\u001b[A\u001b[A\u001b[A\u001b[A\u001b[A\u001b[A\u001b[A\n",
      "\n",
      "\n",
      "\n",
      "\n",
      "\n",
      "\n",
      "\n",
      "\n",
      "\n",
      "\n",
      "\n",
      "\n",
      "namex-0.0.8          | 11 KB     | ##################################### | 100% \u001b[A\u001b[A\u001b[A\u001b[A\u001b[A\u001b[A\u001b[A\u001b[A\u001b[A\u001b[A\u001b[A\u001b[A\u001b[A\n",
      "\n",
      "\n",
      "\n",
      "\n",
      "\n",
      "\n",
      "\n",
      "ml_dtypes-0.4.0      | 152 KB    | ###############################1      |  84% \u001b[A\u001b[A\u001b[A\u001b[A\u001b[A\u001b[A\u001b[A\u001b[A\n",
      "\n",
      "\n",
      "\n",
      "\n",
      "\n",
      "\n",
      "\n",
      "\n",
      "\n",
      "\n",
      "\n",
      "\n",
      "\n",
      "python_abi-3.12      | 6 KB      | ##################################### | 100% \u001b[A\u001b[A\u001b[A\u001b[A\u001b[A\u001b[A\u001b[A\u001b[A\u001b[A\u001b[A\u001b[A\u001b[A\u001b[A\u001b[A\n",
      "\n",
      "\n",
      "\n",
      "\n",
      "\n",
      "\n",
      "\n",
      "\n",
      "\n",
      "\n",
      "\n",
      "\n",
      "\n",
      "python_abi-3.12      | 6 KB      | ##################################### | 100% \u001b[A\u001b[A\u001b[A\u001b[A\u001b[A\u001b[A\u001b[A\u001b[A\u001b[A\u001b[A\u001b[A\u001b[A\u001b[A\u001b[A\n",
      "\n",
      "\n",
      "\n",
      "\n",
      "\n",
      "\n",
      "\n",
      "                                                                                \u001b[A\u001b[A\u001b[A\u001b[A\u001b[A\u001b[A\u001b[A\u001b[A\n",
      "                                                                                \u001b[A\n",
      "\n",
      "                                                                                \u001b[A\u001b[A\n",
      "\n",
      "\n",
      "                                                                                \u001b[A\u001b[A\u001b[A\n",
      "\n",
      "\n",
      "\n",
      "                                                                                \u001b[A\u001b[A\u001b[A\u001b[A\n",
      "\n",
      "\n",
      "\n",
      "\n",
      "                                                                                \u001b[A\u001b[A\u001b[A\u001b[A\u001b[A\n",
      "\n",
      "\n",
      "\n",
      "\n",
      "\n",
      "                                                                                \u001b[A\u001b[A\u001b[A\u001b[A\u001b[A\u001b[A\n",
      "\n",
      "\n",
      "\n",
      "\n",
      "\n",
      "\n",
      "                                                                                \u001b[A\u001b[A\u001b[A\u001b[A\u001b[A\u001b[A\u001b[A\n",
      "\n",
      "\n",
      "\n",
      "\n",
      "\n",
      "\n",
      "\n",
      "                                                                                \u001b[A\u001b[A\u001b[A\u001b[A\u001b[A\u001b[A\u001b[A\u001b[A\n",
      "\n",
      "\n",
      "\n",
      "\n",
      "\n",
      "\n",
      "\n",
      "\n",
      "                                                                                \u001b[A\u001b[A\u001b[A\u001b[A\u001b[A\u001b[A\u001b[A\u001b[A\u001b[A\n",
      "\n",
      "\n",
      "\n",
      "\n",
      "\n",
      "\n",
      "\n",
      "\n",
      "\n",
      "                                                                                \u001b[A\u001b[A\u001b[A\u001b[A\u001b[A\u001b[A\u001b[A\u001b[A\u001b[A\u001b[A\n",
      "\n",
      "\n",
      "\n",
      "\n",
      "\n",
      "\n",
      "\n",
      "\n",
      "\n",
      "\n",
      "                                                                                \u001b[A\u001b[A\u001b[A\u001b[A\u001b[A\u001b[A\u001b[A\u001b[A\u001b[A\u001b[A\u001b[A\n",
      "\n",
      "\n",
      "\n",
      "\n",
      "\n",
      "\n",
      "\n",
      "\n",
      "\n",
      "\n",
      "\n",
      "                                                                                \u001b[A\u001b[A\u001b[A\u001b[A\u001b[A\u001b[A\u001b[A\u001b[A\u001b[A\u001b[A\u001b[A\u001b[A\n",
      "\n",
      "\n",
      "\n",
      "\n",
      "\n",
      "\n",
      "\n",
      "\n",
      "\n",
      "\n",
      "\n",
      "\n",
      "                                                                                \u001b[A\u001b[A\u001b[A\u001b[A\u001b[A\u001b[A\u001b[A\u001b[A\u001b[A\u001b[A\u001b[A\u001b[A\u001b[A\n",
      "\n",
      "\n",
      "\n",
      "\n",
      "\n",
      "\n",
      "\n",
      "\n",
      "\n",
      "\n",
      "\n",
      "\n",
      "\n",
      "                                                                                \u001b[A\u001b[A\u001b[A\u001b[A\u001b[A\u001b[A\u001b[A\u001b[A\u001b[A\u001b[A\u001b[A\u001b[A\u001b[A\u001b[A\n",
      "Preparing transaction: done\n",
      "Verifying transaction: failed\n",
      "\n",
      "EnvironmentNotWritableError: The current user does not have write permissions to the target environment.\n",
      "  environment location: /opt/anaconda3\n",
      "  uid: 355216707\n",
      "  gid: 579533871\n",
      "\n",
      "\n",
      "\n",
      "Note: you may need to restart the kernel to use updated packages.\n"
     ]
    }
   ],
   "source": [
    "conda install -c conda-forge keras"
   ]
  },
  {
   "cell_type": "code",
   "execution_count": 14,
   "id": "ab9caf29-7764-4ade-b14f-5e572d699d42",
   "metadata": {},
   "outputs": [
    {
     "name": "stderr",
     "output_type": "stream",
     "text": [
      "/Users/kvv2005/.local/lib/python3.12/site-packages/art/estimators/certification/__init__.py:30: UserWarning: PyTorch not found. Not importing DeepZ or Interval Bound Propagation functionality\n",
      "  warnings.warn(\"PyTorch not found. Not importing DeepZ or Interval Bound Propagation functionality\")\n"
     ]
    }
   ],
   "source": [
    "import tensorflow as tf\n",
    "from tensorflow.keras.models import Sequential\n",
    "from tensorflow.keras.layers import Dense, Flatten\n",
    "from sklearn.model_selection import train_test_split\n",
    "from sklearn.metrics import accuracy_score, classification_report\n",
    "import xgboost as xgb\n",
    "from sklearn.ensemble import RandomForestClassifier\n",
    "\n",
    "from art.estimators.classification import TensorFlowV2Classifier, SklearnClassifier, XGBoostClassifier\n",
    "from art.attacks.evasion import HopSkipJump\n"
   ]
  },
  {
   "cell_type": "code",
   "execution_count": 22,
   "id": "33a38774-7e7e-4f75-870e-ae624fdc1682",
   "metadata": {},
   "outputs": [
    {
     "name": "stdout",
     "output_type": "stream",
     "text": [
      "Training Set: (100777, 122), Test Set: (25195, 122)\n"
     ]
    }
   ],
   "source": [
    "# Split the data into training and test sets\n",
    "X_train, X_test, y_train, y_test = train_test_split(X_scaled, y_encoded, test_size=0.2, random_state=42)\n",
    "\n",
    "print(f\"Training Set: {X_train.shape}, Test Set: {X_test.shape}\")\n"
   ]
  },
  {
   "cell_type": "code",
   "execution_count": 23,
   "id": "aedbdb1d-c373-4138-9301-556f7de8f457",
   "metadata": {},
   "outputs": [
    {
     "name": "stdout",
     "output_type": "stream",
     "text": [
      "Epoch 1/10\n"
     ]
    },
    {
     "name": "stderr",
     "output_type": "stream",
     "text": [
      "/Users/kvv2005/.local/lib/python3.12/site-packages/keras/src/layers/reshaping/flatten.py:37: UserWarning: Do not pass an `input_shape`/`input_dim` argument to a layer. When using Sequential models, prefer using an `Input(shape)` object as the first layer in the model instead.\n",
      "  super().__init__(**kwargs)\n"
     ]
    },
    {
     "name": "stdout",
     "output_type": "stream",
     "text": [
      "\u001b[1m2835/2835\u001b[0m \u001b[32m━━━━━━━━━━━━━━━━━━━━\u001b[0m\u001b[37m\u001b[0m \u001b[1m3s\u001b[0m 682us/step - accuracy: 0.9520 - loss: 0.2184 - val_accuracy: 0.9903 - val_loss: 0.0305\n",
      "Epoch 2/10\n",
      "\u001b[1m2835/2835\u001b[0m \u001b[32m━━━━━━━━━━━━━━━━━━━━\u001b[0m\u001b[37m\u001b[0m \u001b[1m2s\u001b[0m 650us/step - accuracy: 0.9898 - loss: 0.0332 - val_accuracy: 0.9911 - val_loss: 0.0270\n",
      "Epoch 3/10\n",
      "\u001b[1m2835/2835\u001b[0m \u001b[32m━━━━━━━━━━━━━━━━━━━━\u001b[0m\u001b[37m\u001b[0m \u001b[1m2s\u001b[0m 660us/step - accuracy: 0.9920 - loss: 0.0258 - val_accuracy: 0.9936 - val_loss: 0.0242\n",
      "Epoch 4/10\n",
      "\u001b[1m2835/2835\u001b[0m \u001b[32m━━━━━━━━━━━━━━━━━━━━\u001b[0m\u001b[37m\u001b[0m \u001b[1m2s\u001b[0m 654us/step - accuracy: 0.9929 - loss: 0.0231 - val_accuracy: 0.9936 - val_loss: 0.0244\n",
      "Epoch 5/10\n",
      "\u001b[1m2835/2835\u001b[0m \u001b[32m━━━━━━━━━━━━━━━━━━━━\u001b[0m\u001b[37m\u001b[0m \u001b[1m2s\u001b[0m 658us/step - accuracy: 0.9934 - loss: 0.0200 - val_accuracy: 0.9944 - val_loss: 0.0202\n",
      "Epoch 6/10\n",
      "\u001b[1m2835/2835\u001b[0m \u001b[32m━━━━━━━━━━━━━━━━━━━━\u001b[0m\u001b[37m\u001b[0m \u001b[1m2s\u001b[0m 648us/step - accuracy: 0.9938 - loss: 0.0197 - val_accuracy: 0.9936 - val_loss: 0.0224\n",
      "Epoch 7/10\n",
      "\u001b[1m2835/2835\u001b[0m \u001b[32m━━━━━━━━━━━━━━━━━━━━\u001b[0m\u001b[37m\u001b[0m \u001b[1m2s\u001b[0m 657us/step - accuracy: 0.9935 - loss: 0.0183 - val_accuracy: 0.9952 - val_loss: 0.0192\n",
      "Epoch 8/10\n",
      "\u001b[1m2835/2835\u001b[0m \u001b[32m━━━━━━━━━━━━━━━━━━━━\u001b[0m\u001b[37m\u001b[0m \u001b[1m2s\u001b[0m 649us/step - accuracy: 0.9949 - loss: 0.0166 - val_accuracy: 0.9957 - val_loss: 0.0186\n",
      "Epoch 9/10\n",
      "\u001b[1m2835/2835\u001b[0m \u001b[32m━━━━━━━━━━━━━━━━━━━━\u001b[0m\u001b[37m\u001b[0m \u001b[1m2s\u001b[0m 652us/step - accuracy: 0.9952 - loss: 0.0150 - val_accuracy: 0.9945 - val_loss: 0.0218\n",
      "Epoch 10/10\n",
      "\u001b[1m2835/2835\u001b[0m \u001b[32m━━━━━━━━━━━━━━━━━━━━\u001b[0m\u001b[37m\u001b[0m \u001b[1m2s\u001b[0m 656us/step - accuracy: 0.9947 - loss: 0.0163 - val_accuracy: 0.9942 - val_loss: 0.0205\n",
      "\u001b[1m788/788\u001b[0m \u001b[32m━━━━━━━━━━━━━━━━━━━━\u001b[0m\u001b[37m\u001b[0m \u001b[1m0s\u001b[0m 474us/step\n",
      "Model Accuracy on Clean Test Data: 0.9927763445128002\n",
      "Classification Report on Clean Test Data:\n",
      "              precision    recall  f1-score   support\n",
      "\n",
      "           0       0.98      0.97      0.97       201\n",
      "           1       1.00      0.43      0.60         7\n",
      "           3       1.00      0.79      0.88        14\n",
      "           4       1.00      1.00      1.00         2\n",
      "           5       0.97      0.98      0.97       743\n",
      "           6       0.67      1.00      0.80         2\n",
      "           7       0.50      0.33      0.40         3\n",
      "           8       1.00      0.00      0.00         1\n",
      "           9       1.00      1.00      1.00      8238\n",
      "          10       0.95      1.00      0.97       298\n",
      "          11       1.00      0.99      0.99     13386\n",
      "          12       1.00      1.00      1.00         1\n",
      "          13       1.00      1.00      1.00         1\n",
      "          14       1.00      0.97      0.99        36\n",
      "          15       1.00      0.96      0.98       583\n",
      "          16       1.00      0.00      0.00         2\n",
      "          17       0.96      0.99      0.98       749\n",
      "          18       0.99      1.00      0.99       551\n",
      "          19       1.00      0.00      0.00         1\n",
      "          20       1.00      1.00      1.00       196\n",
      "          21       0.79      0.87      0.83       176\n",
      "          22       0.75      0.75      0.75         4\n",
      "\n",
      "    accuracy                           0.99     25195\n",
      "   macro avg       0.93      0.77      0.78     25195\n",
      "weighted avg       0.99      0.99      0.99     25195\n",
      "\n"
     ]
    }
   ],
   "source": [
    "# Define a simple neural network model\n",
    "model = Sequential([\n",
    "    Flatten(input_shape=(X_train.shape[1],)),\n",
    "    Dense(128, activation='relu'),\n",
    "    Dense(64, activation='relu'),\n",
    "    Dense(len(set(y_encoded)), activation='softmax')\n",
    "])\n",
    "\n",
    "# Compile the model\n",
    "model.compile(optimizer='adam', \n",
    "              loss='sparse_categorical_crossentropy', \n",
    "              metrics=['accuracy'])\n",
    "\n",
    "# Train the model\n",
    "model.fit(X_train, y_train, epochs=10, batch_size=32, validation_split=0.1)\n",
    "\n",
    "# Evaluate the model on clean data\n",
    "y_pred_clean = model.predict(X_test).argmax(axis=1)\n",
    "accuracy_clean = accuracy_score(y_test, y_pred_clean)\n",
    "\n",
    "print(f\"Model Accuracy on Clean Test Data: {accuracy_clean}\")\n",
    "print(\"Classification Report on Clean Test Data:\")\n",
    "print(classification_report(y_test, y_pred_clean, zero_division=1))\n"
   ]
  },
  {
   "cell_type": "code",
   "execution_count": 24,
   "id": "07c15821-a4d7-4561-ab80-fdc594961787",
   "metadata": {},
   "outputs": [],
   "source": [
    "# Wrap the TensorFlow model with ART's TensorFlowV2Classifier\n",
    "classifier = TensorFlowV2Classifier(\n",
    "    model=model,\n",
    "    nb_classes=len(set(y_encoded)),\n",
    "    input_shape=(X_train.shape[1],),\n",
    "    loss_object=tf.keras.losses.SparseCategoricalCrossentropy()\n",
    ")\n"
   ]
  },
  {
   "cell_type": "code",
   "execution_count": 26,
   "id": "e357170e-45c9-4b7b-af73-8770a325f9f4",
   "metadata": {},
   "outputs": [
    {
     "name": "stdout",
     "output_type": "stream",
     "text": [
      "\u001b[1m1/1\u001b[0m \u001b[32m━━━━━━━━━━━━━━━━━━━━\u001b[0m\u001b[37m\u001b[0m \u001b[1m0s\u001b[0m 11ms/step\n",
      "Model Accuracy on FGSM Adversarial Examples: 1.0\n",
      "Classification Report on FGSM Adversarial Examples:\n",
      "              precision    recall  f1-score   support\n",
      "\n",
      "           9       1.00      1.00      1.00         6\n",
      "          10       1.00      1.00      1.00         2\n",
      "          11       1.00      1.00      1.00         2\n",
      "\n",
      "    accuracy                           1.00        10\n",
      "   macro avg       1.00      1.00      1.00        10\n",
      "weighted avg       1.00      1.00      1.00        10\n",
      "\n"
     ]
    }
   ],
   "source": [
    "from art.attacks.evasion import FastGradientMethod\n",
    "# Initialize the FGSM attack\n",
    "fgsm = FastGradientMethod(estimator=classifier, eps=0.1)\n",
    "\n",
    "# Generate adversarial examples\n",
    "X_test_adv_fgsm = fgsm.generate(x=X_test[:10])\n",
    "\n",
    "# Predict on the adversarial examples\n",
    "y_pred_fgsm = model.predict(X_test_adv_fgsm).argmax(axis=1)\n",
    "\n",
    "# Evaluate performance on adversarial examples\n",
    "accuracy_fgsm = accuracy_score(y_test[:10], y_pred_fgsm)\n",
    "print(f\"Model Accuracy on FGSM Adversarial Examples: {accuracy_fgsm}\")\n",
    "print(\"Classification Report on FGSM Adversarial Examples:\")\n",
    "print(classification_report(y_test[:10], y_pred_fgsm, zero_division=1))\n"
   ]
  },
  {
   "cell_type": "code",
   "execution_count": 29,
   "id": "cd1d0b58-1fee-41a0-8dca-5ee46536c438",
   "metadata": {},
   "outputs": [
    {
     "data": {
      "application/vnd.jupyter.widget-view+json": {
       "model_id": "832be88fac6241ce899036830a12eac1",
       "version_major": 2,
       "version_minor": 0
      },
      "text/plain": [
       "PGD - Batches: 0it [00:00, ?it/s]"
      ]
     },
     "metadata": {},
     "output_type": "display_data"
    },
    {
     "name": "stdout",
     "output_type": "stream",
     "text": [
      "\u001b[1m1/1\u001b[0m \u001b[32m━━━━━━━━━━━━━━━━━━━━\u001b[0m\u001b[37m\u001b[0m \u001b[1m0s\u001b[0m 11ms/step\n",
      "Model Accuracy on PGD Adversarial Examples: 0.8\n",
      "Classification Report on PGD Adversarial Examples:\n",
      "              precision    recall  f1-score   support\n",
      "\n",
      "           0       0.00      1.00      0.00         0\n",
      "           9       1.00      1.00      1.00         6\n",
      "          10       1.00      1.00      1.00         2\n",
      "          11       1.00      0.00      0.00         2\n",
      "\n",
      "    accuracy                           0.80        10\n",
      "   macro avg       0.75      0.75      0.50        10\n",
      "weighted avg       1.00      0.80      0.80        10\n",
      "\n"
     ]
    },
    {
     "name": "stderr",
     "output_type": "stream",
     "text": [
      "2024-10-19 14:31:14.643197: W tensorflow/core/framework/local_rendezvous.cc:404] Local rendezvous is aborting with status: OUT_OF_RANGE: End of sequence\n"
     ]
    }
   ],
   "source": [
    "from art.attacks.evasion import ProjectedGradientDescent\n",
    "# Initialize the PGD attack\n",
    "pgd = ProjectedGradientDescent(estimator=classifier, eps=0.1, eps_step=0.01, max_iter=50)\n",
    "\n",
    "# Generate adversarial examples using PGD\n",
    "X_test_adv_pgd = pgd.generate(x=X_test[:10])\n",
    "\n",
    "# Predict on the adversarial examples\n",
    "y_pred_pgd = model.predict(X_test_adv_pgd).argmax(axis=1)\n",
    "\n",
    "# Evaluate performance on PGD adversarial examples\n",
    "accuracy_pgd = accuracy_score(y_test[:10], y_pred_pgd)\n",
    "print(f\"Model Accuracy on PGD Adversarial Examples: {accuracy_pgd}\")\n",
    "print(\"Classification Report on PGD Adversarial Examples:\")\n",
    "print(classification_report(y_test[:10], y_pred_pgd, zero_division=1))\n"
   ]
  },
  {
   "cell_type": "code",
   "execution_count": 30,
   "id": "11136ac2-1b86-41f5-8986-b591cdb2cb30",
   "metadata": {},
   "outputs": [
    {
     "data": {
      "application/vnd.jupyter.widget-view+json": {
       "model_id": "3aba5d539c5b4b5e851650982d07607b",
       "version_major": 2,
       "version_minor": 0
      },
      "text/plain": [
       "C&W L_2:   0%|          | 0/10 [00:00<?, ?it/s]"
      ]
     },
     "metadata": {},
     "output_type": "display_data"
    },
    {
     "name": "stdout",
     "output_type": "stream",
     "text": [
      "WARNING:tensorflow:Calling GradientTape.gradient on a persistent tape inside its context is significantly less efficient than calling it outside the context (it causes the gradient ops to be recorded on the tape, leading to increased CPU and memory usage). Only call GradientTape.gradient inside the context if you actually want to trace the gradient in order to compute higher order derivatives.\n",
      "\u001b[1m1/1\u001b[0m \u001b[32m━━━━━━━━━━━━━━━━━━━━\u001b[0m\u001b[37m\u001b[0m \u001b[1m0s\u001b[0m 11ms/step\n",
      "Model Accuracy on C&W Adversarial Examples: 1.0\n",
      "Classification Report on C&W Adversarial Examples:\n",
      "              precision    recall  f1-score   support\n",
      "\n",
      "           9       1.00      1.00      1.00         6\n",
      "          10       1.00      1.00      1.00         2\n",
      "          11       1.00      1.00      1.00         2\n",
      "\n",
      "    accuracy                           1.00        10\n",
      "   macro avg       1.00      1.00      1.00        10\n",
      "weighted avg       1.00      1.00      1.00        10\n",
      "\n"
     ]
    }
   ],
   "source": [
    "# Initialize the C&W attack (L2 norm)\n",
    "from art.attacks.evasion import CarliniL2Method\n",
    "\n",
    "cw = CarliniL2Method(classifier=classifier, targeted=False, max_iter=10)\n",
    "\n",
    "# Generate adversarial examples using C&W\n",
    "X_test_adv_cw = cw.generate(x=X_test[:10])\n",
    "\n",
    "# Predict on the adversarial examples\n",
    "y_pred_cw = model.predict(X_test_adv_cw).argmax(axis=1)\n",
    "\n",
    "# Evaluate performance on C&W adversarial examples\n",
    "accuracy_cw = accuracy_score(y_test[:10], y_pred_cw)\n",
    "print(f\"Model Accuracy on C&W Adversarial Examples: {accuracy_cw}\")\n",
    "print(\"Classification Report on C&W Adversarial Examples:\")\n",
    "print(classification_report(y_test[:10], y_pred_cw, zero_division=1))\n"
   ]
  },
  {
   "cell_type": "code",
   "execution_count": 31,
   "id": "476e5849-f9d9-4137-8f08-9ff53ee6a8bd",
   "metadata": {},
   "outputs": [],
   "source": [
    "import tensorflow as tf\n",
    "from tensorflow.keras.models import Sequential\n",
    "from tensorflow.keras.layers import Dense, Flatten, Conv1D, MaxPooling1D\n",
    "from sklearn.model_selection import train_test_split\n",
    "from sklearn.metrics import accuracy_score, classification_report\n",
    "\n",
    "# Import ART classifiers and attacks\n",
    "from art.estimators.classification import TensorFlowV2Classifier\n",
    "from art.attacks.evasion import FastGradientMethod, ProjectedGradientDescent, CarliniL2Method\n"
   ]
  },
  {
   "cell_type": "code",
   "execution_count": 32,
   "id": "58cc82b7-cfa2-4151-a23b-a81c68af551d",
   "metadata": {},
   "outputs": [
    {
     "name": "stdout",
     "output_type": "stream",
     "text": [
      "Training Set: (100777, 122), Test Set: (25195, 122)\n"
     ]
    }
   ],
   "source": [
    "# Assuming X_scaled (features) and y_encoded (labels) are ready\n",
    "X_train, X_test, y_train, y_test = train_test_split(X_scaled, y_encoded, test_size=0.2, random_state=42)\n",
    "\n",
    "print(f\"Training Set: {X_train.shape}, Test Set: {X_test.shape}\")\n"
   ]
  },
  {
   "cell_type": "code",
   "execution_count": 33,
   "id": "63955475-45e2-435a-95e2-77827322b9ae",
   "metadata": {},
   "outputs": [
    {
     "name": "stdout",
     "output_type": "stream",
     "text": [
      "Epoch 1/10\n"
     ]
    },
    {
     "name": "stderr",
     "output_type": "stream",
     "text": [
      "/Users/kvv2005/.local/lib/python3.12/site-packages/keras/src/layers/core/dense.py:87: UserWarning: Do not pass an `input_shape`/`input_dim` argument to a layer. When using Sequential models, prefer using an `Input(shape)` object as the first layer in the model instead.\n",
      "  super().__init__(activity_regularizer=activity_regularizer, **kwargs)\n"
     ]
    },
    {
     "name": "stdout",
     "output_type": "stream",
     "text": [
      "\u001b[1m2835/2835\u001b[0m \u001b[32m━━━━━━━━━━━━━━━━━━━━\u001b[0m\u001b[37m\u001b[0m \u001b[1m3s\u001b[0m 691us/step - accuracy: 0.9536 - loss: 0.2241 - val_accuracy: 0.9907 - val_loss: 0.0301\n",
      "Epoch 2/10\n",
      "\u001b[1m2835/2835\u001b[0m \u001b[32m━━━━━━━━━━━━━━━━━━━━\u001b[0m\u001b[37m\u001b[0m \u001b[1m2s\u001b[0m 644us/step - accuracy: 0.9902 - loss: 0.0320 - val_accuracy: 0.9948 - val_loss: 0.0203\n",
      "Epoch 3/10\n",
      "\u001b[1m2835/2835\u001b[0m \u001b[32m━━━━━━━━━━━━━━━━━━━━\u001b[0m\u001b[37m\u001b[0m \u001b[1m2s\u001b[0m 691us/step - accuracy: 0.9916 - loss: 0.0248 - val_accuracy: 0.9920 - val_loss: 0.0223\n",
      "Epoch 4/10\n",
      "\u001b[1m2835/2835\u001b[0m \u001b[32m━━━━━━━━━━━━━━━━━━━━\u001b[0m\u001b[37m\u001b[0m \u001b[1m2s\u001b[0m 652us/step - accuracy: 0.9930 - loss: 0.0221 - val_accuracy: 0.9942 - val_loss: 0.0220\n",
      "Epoch 5/10\n",
      "\u001b[1m2835/2835\u001b[0m \u001b[32m━━━━━━━━━━━━━━━━━━━━\u001b[0m\u001b[37m\u001b[0m \u001b[1m2s\u001b[0m 645us/step - accuracy: 0.9933 - loss: 0.0205 - val_accuracy: 0.9946 - val_loss: 0.0204\n",
      "Epoch 6/10\n",
      "\u001b[1m2835/2835\u001b[0m \u001b[32m━━━━━━━━━━━━━━━━━━━━\u001b[0m\u001b[37m\u001b[0m \u001b[1m2s\u001b[0m 665us/step - accuracy: 0.9941 - loss: 0.0190 - val_accuracy: 0.9944 - val_loss: 0.0208\n",
      "Epoch 7/10\n",
      "\u001b[1m2835/2835\u001b[0m \u001b[32m━━━━━━━━━━━━━━━━━━━━\u001b[0m\u001b[37m\u001b[0m \u001b[1m2s\u001b[0m 650us/step - accuracy: 0.9941 - loss: 0.0177 - val_accuracy: 0.9934 - val_loss: 0.0210\n",
      "Epoch 8/10\n",
      "\u001b[1m2835/2835\u001b[0m \u001b[32m━━━━━━━━━━━━━━━━━━━━\u001b[0m\u001b[37m\u001b[0m \u001b[1m2s\u001b[0m 650us/step - accuracy: 0.9942 - loss: 0.0167 - val_accuracy: 0.9960 - val_loss: 0.0163\n",
      "Epoch 9/10\n",
      "\u001b[1m2835/2835\u001b[0m \u001b[32m━━━━━━━━━━━━━━━━━━━━\u001b[0m\u001b[37m\u001b[0m \u001b[1m2s\u001b[0m 658us/step - accuracy: 0.9945 - loss: 0.0172 - val_accuracy: 0.9951 - val_loss: 0.0193\n",
      "Epoch 10/10\n",
      "\u001b[1m2835/2835\u001b[0m \u001b[32m━━━━━━━━━━━━━━━━━━━━\u001b[0m\u001b[37m\u001b[0m \u001b[1m2s\u001b[0m 646us/step - accuracy: 0.9951 - loss: 0.0147 - val_accuracy: 0.9951 - val_loss: 0.0184\n"
     ]
    }
   ],
   "source": [
    "# Define MLP Model\n",
    "mlp_model = Sequential([\n",
    "    Dense(128, activation='relu', input_shape=(X_train.shape[1],)),\n",
    "    Dense(64, activation='relu'),\n",
    "    Dense(len(set(y_encoded)), activation='softmax')\n",
    "])\n",
    "\n",
    "mlp_model.compile(optimizer='adam', loss='sparse_categorical_crossentropy', metrics=['accuracy'])\n",
    "mlp_model.fit(X_train, y_train, epochs=10, batch_size=32, validation_split=0.1)\n",
    "\n",
    "# Wrap the model with ART’s TensorFlowV2Classifier\n",
    "mlp_classifier = TensorFlowV2Classifier(\n",
    "    model=mlp_model,\n",
    "    nb_classes=len(set(y_encoded)),\n",
    "    input_shape=(X_train.shape[1],),\n",
    "    loss_object=tf.keras.losses.SparseCategoricalCrossentropy()\n",
    ")\n"
   ]
  },
  {
   "cell_type": "code",
   "execution_count": 34,
   "id": "85ec3ed3-1a7c-4b64-b200-4612b5db04ed",
   "metadata": {},
   "outputs": [
    {
     "name": "stdout",
     "output_type": "stream",
     "text": [
      "\u001b[1m788/788\u001b[0m \u001b[32m━━━━━━━━━━━━━━━━━━━━\u001b[0m\u001b[37m\u001b[0m \u001b[1m0s\u001b[0m 472us/step\n",
      "Classification Report (MLP - FGSM):\n",
      "              precision    recall  f1-score   support\n",
      "\n",
      "           0       0.01      0.11      0.02       201\n",
      "           1       1.00      0.29      0.44         7\n",
      "           3       1.00      0.79      0.88        14\n",
      "           4       0.67      1.00      0.80         2\n",
      "           5       0.87      0.65      0.74       743\n",
      "           6       0.67      1.00      0.80         2\n",
      "           7       0.00      0.00      0.00         3\n",
      "           8       1.00      0.00      0.00         1\n",
      "           9       0.99      0.99      0.99      8238\n",
      "          10       0.55      0.79      0.65       298\n",
      "          11       0.95      0.78      0.86     13386\n",
      "          12       1.00      1.00      1.00         1\n",
      "          13       1.00      1.00      1.00         1\n",
      "          14       0.95      0.58      0.72        36\n",
      "          15       0.87      0.94      0.90       583\n",
      "          16       0.00      0.00      0.00         2\n",
      "          17       0.85      0.89      0.87       749\n",
      "          18       0.94      0.94      0.94       551\n",
      "          19       1.00      0.00      0.00         1\n",
      "          20       0.94      1.00      0.97       196\n",
      "          21       0.08      0.25      0.12       176\n",
      "          22       0.25      0.75      0.38         4\n",
      "\n",
      "    accuracy                           0.85     25195\n",
      "   macro avg       0.71      0.63      0.60     25195\n",
      "weighted avg       0.94      0.85      0.89     25195\n",
      "\n"
     ]
    }
   ],
   "source": [
    "# FGSM Attack\n",
    "fgsm = FastGradientMethod(estimator=mlp_classifier, eps=0.1)\n",
    "X_test_adv_fgsm = fgsm.generate(x=X_test)\n",
    "\n",
    "# Predictions and Evaluation\n",
    "y_pred_fgsm = mlp_model.predict(X_test_adv_fgsm).argmax(axis=1)\n",
    "print(\"Classification Report (MLP - FGSM):\")\n",
    "print(classification_report(y_test, y_pred_fgsm, zero_division=1))\n"
   ]
  },
  {
   "cell_type": "code",
   "execution_count": 35,
   "id": "4351af51-c612-4ce5-97c8-c537ebbd2529",
   "metadata": {},
   "outputs": [
    {
     "data": {
      "application/vnd.jupyter.widget-view+json": {
       "model_id": "42e157365a99402d983eb661ec18b8b5",
       "version_major": 2,
       "version_minor": 0
      },
      "text/plain": [
       "PGD - Batches: 0it [00:00, ?it/s]"
      ]
     },
     "metadata": {},
     "output_type": "display_data"
    },
    {
     "name": "stderr",
     "output_type": "stream",
     "text": [
      "2024-10-19 14:39:37.757961: W tensorflow/core/framework/local_rendezvous.cc:404] Local rendezvous is aborting with status: OUT_OF_RANGE: End of sequence\n"
     ]
    },
    {
     "name": "stdout",
     "output_type": "stream",
     "text": [
      "\u001b[1m788/788\u001b[0m \u001b[32m━━━━━━━━━━━━━━━━━━━━\u001b[0m\u001b[37m\u001b[0m \u001b[1m0s\u001b[0m 457us/step\n",
      "Classification Report (MLP - PGD):\n",
      "              precision    recall  f1-score   support\n",
      "\n",
      "           0       0.00      0.06      0.01       201\n",
      "           1       1.00      0.14      0.25         7\n",
      "           2       0.00      1.00      0.00         0\n",
      "           3       0.92      0.79      0.85        14\n",
      "           4       0.67      1.00      0.80         2\n",
      "           5       0.74      0.36      0.48       743\n",
      "           6       0.67      1.00      0.80         2\n",
      "           7       0.00      0.00      0.00         3\n",
      "           8       1.00      0.00      0.00         1\n",
      "           9       0.99      0.99      0.99      8238\n",
      "          10       0.37      0.78      0.50       298\n",
      "          11       0.94      0.71      0.81     13386\n",
      "          12       1.00      1.00      1.00         1\n",
      "          13       1.00      1.00      1.00         1\n",
      "          14       0.77      0.47      0.59        36\n",
      "          15       0.82      0.93      0.87       583\n",
      "          16       0.00      0.00      0.00         2\n",
      "          17       0.74      0.84      0.78       749\n",
      "          18       0.89      0.93      0.91       551\n",
      "          19       1.00      0.00      0.00         1\n",
      "          20       0.87      0.99      0.93       196\n",
      "          21       0.06      0.21      0.09       176\n",
      "          22       0.11      0.75      0.19         4\n",
      "\n",
      "    accuracy                           0.80     25195\n",
      "   macro avg       0.63      0.61      0.51     25195\n",
      "weighted avg       0.92      0.80      0.85     25195\n",
      "\n"
     ]
    }
   ],
   "source": [
    "# PGD Attack\n",
    "pgd = ProjectedGradientDescent(estimator=mlp_classifier, eps=0.1, eps_step=0.01, max_iter=50)\n",
    "X_test_adv_pgd = pgd.generate(x=X_test)\n",
    "\n",
    "# Predictions and Evaluation\n",
    "y_pred_pgd = mlp_model.predict(X_test_adv_pgd).argmax(axis=1)\n",
    "print(\"Classification Report (MLP - PGD):\")\n",
    "print(classification_report(y_test, y_pred_pgd, zero_division=1))\n"
   ]
  },
  {
   "cell_type": "code",
   "execution_count": null,
   "id": "172d795e-252c-4735-8cc9-5ff3ace62436",
   "metadata": {},
   "outputs": [
    {
     "data": {
      "application/vnd.jupyter.widget-view+json": {
       "model_id": "5c7d5b2d519e402f831c5d6a5d93eeec",
       "version_major": 2,
       "version_minor": 0
      },
      "text/plain": [
       "C&W L_2:   0%|          | 0/25195 [00:00<?, ?it/s]"
      ]
     },
     "metadata": {},
     "output_type": "display_data"
    }
   ],
   "source": [
    "# C&W Attack\n",
    "cw = CarliniL2Method(classifier=mlp_classifier, targeted=False, max_iter=1)\n",
    "X_test_adv_cw = cw.generate(x=X_test)\n",
    "\n",
    "# Predictions and Evaluation\n",
    "y_pred_cw = mlp_model.predict(X_test_adv_cw).argmax(axis=1)\n",
    "print(\"Classification Report (MLP - C&W):\")\n",
    "print(classification_report(y_test, y_pred_cw, zero_division=1))\n",
    "\n"
   ]
  },
  {
   "cell_type": "code",
   "execution_count": 158,
   "id": "e6879425-45e9-440b-b6ab-2280499d7fca",
   "metadata": {},
   "outputs": [
    {
     "name": "stdout",
     "output_type": "stream",
     "text": [
      "Epoch 1/10\n"
     ]
    },
    {
     "name": "stderr",
     "output_type": "stream",
     "text": [
      "/opt/anaconda3/lib/python3.11/site-packages/keras/src/layers/convolutional/base_conv.py:107: UserWarning: Do not pass an `input_shape`/`input_dim` argument to a layer. When using Sequential models, prefer using an `Input(shape)` object as the first layer in the model instead.\n",
      "  super().__init__(activity_regularizer=activity_regularizer, **kwargs)\n"
     ]
    },
    {
     "name": "stdout",
     "output_type": "stream",
     "text": [
      "\u001b[1m2835/2835\u001b[0m \u001b[32m━━━━━━━━━━━━━━━━━━━━\u001b[0m\u001b[37m\u001b[0m \u001b[1m6s\u001b[0m 2ms/step - accuracy: 0.9589 - loss: 0.2036 - val_accuracy: 0.9906 - val_loss: 0.0366\n",
      "Epoch 2/10\n",
      "\u001b[1m2835/2835\u001b[0m \u001b[32m━━━━━━━━━━━━━━━━━━━━\u001b[0m\u001b[37m\u001b[0m \u001b[1m6s\u001b[0m 2ms/step - accuracy: 0.9884 - loss: 0.0420 - val_accuracy: 0.9916 - val_loss: 0.0327\n",
      "Epoch 3/10\n",
      "\u001b[1m2835/2835\u001b[0m \u001b[32m━━━━━━━━━━━━━━━━━━━━\u001b[0m\u001b[37m\u001b[0m \u001b[1m5s\u001b[0m 2ms/step - accuracy: 0.9909 - loss: 0.0340 - val_accuracy: 0.9938 - val_loss: 0.0229\n",
      "Epoch 4/10\n",
      "\u001b[1m2835/2835\u001b[0m \u001b[32m━━━━━━━━━━━━━━━━━━━━\u001b[0m\u001b[37m\u001b[0m \u001b[1m6s\u001b[0m 2ms/step - accuracy: 0.9917 - loss: 0.0270 - val_accuracy: 0.9929 - val_loss: 0.0243\n",
      "Epoch 5/10\n",
      "\u001b[1m2835/2835\u001b[0m \u001b[32m━━━━━━━━━━━━━━━━━━━━\u001b[0m\u001b[37m\u001b[0m \u001b[1m5s\u001b[0m 2ms/step - accuracy: 0.9926 - loss: 0.0254 - val_accuracy: 0.9936 - val_loss: 0.0238\n",
      "Epoch 6/10\n",
      "\u001b[1m2835/2835\u001b[0m \u001b[32m━━━━━━━━━━━━━━━━━━━━\u001b[0m\u001b[37m\u001b[0m \u001b[1m5s\u001b[0m 2ms/step - accuracy: 0.9933 - loss: 0.0218 - val_accuracy: 0.9944 - val_loss: 0.0194\n",
      "Epoch 7/10\n",
      "\u001b[1m2835/2835\u001b[0m \u001b[32m━━━━━━━━━━━━━━━━━━━━\u001b[0m\u001b[37m\u001b[0m \u001b[1m5s\u001b[0m 2ms/step - accuracy: 0.9939 - loss: 0.0190 - val_accuracy: 0.9959 - val_loss: 0.0172\n",
      "Epoch 8/10\n",
      "\u001b[1m2835/2835\u001b[0m \u001b[32m━━━━━━━━━━━━━━━━━━━━\u001b[0m\u001b[37m\u001b[0m \u001b[1m5s\u001b[0m 2ms/step - accuracy: 0.9945 - loss: 0.0172 - val_accuracy: 0.9947 - val_loss: 0.0203\n",
      "Epoch 9/10\n",
      "\u001b[1m2835/2835\u001b[0m \u001b[32m━━━━━━━━━━━━━━━━━━━━\u001b[0m\u001b[37m\u001b[0m \u001b[1m5s\u001b[0m 2ms/step - accuracy: 0.9946 - loss: 0.0185 - val_accuracy: 0.9945 - val_loss: 0.0180\n",
      "Epoch 10/10\n",
      "\u001b[1m2835/2835\u001b[0m \u001b[32m━━━━━━━━━━━━━━━━━━━━\u001b[0m\u001b[37m\u001b[0m \u001b[1m5s\u001b[0m 2ms/step - accuracy: 0.9941 - loss: 0.0176 - val_accuracy: 0.9951 - val_loss: 0.0167\n"
     ]
    }
   ],
   "source": [
    "# Reshape input for CNN\n",
    "X_train_cnn = X_train[..., None]\n",
    "X_test_cnn = X_test[..., None]\n",
    "\n",
    "# Define CNN Model\n",
    "cnn_model = Sequential([\n",
    "    Conv1D(32, kernel_size=3, activation='relu', input_shape=(X_train.shape[1], 1)),\n",
    "    MaxPooling1D(pool_size=2),\n",
    "    Flatten(),\n",
    "    Dense(64, activation='relu'),\n",
    "    Dense(len(set(y_encoded)), activation='softmax')\n",
    "])\n",
    "\n",
    "cnn_model.compile(optimizer='adam', loss='sparse_categorical_crossentropy', metrics=['accuracy'])\n",
    "cnn_model.fit(X_train_cnn, y_train, epochs=10, batch_size=32, validation_split=0.1)\n",
    "\n",
    "# Wrap the model with ART’s TensorFlowV2Classifier\n",
    "cnn_classifier = TensorFlowV2Classifier(\n",
    "    model=cnn_model,\n",
    "    nb_classes=len(set(y_encoded)),\n",
    "    input_shape=(X_train.shape[1], 1),\n",
    "    loss_object=tf.keras.losses.SparseCategoricalCrossentropy()\n",
    ")\n"
   ]
  },
  {
   "cell_type": "code",
   "execution_count": 160,
   "id": "93044828-3929-4278-bdbc-12cdd9fc7b6b",
   "metadata": {},
   "outputs": [
    {
     "name": "stdout",
     "output_type": "stream",
     "text": [
      "\u001b[1m788/788\u001b[0m \u001b[32m━━━━━━━━━━━━━━━━━━━━\u001b[0m\u001b[37m\u001b[0m \u001b[1m0s\u001b[0m 477us/step\n",
      "Classification Report (CNN - FGSM):\n",
      "              precision    recall  f1-score   support\n",
      "\n",
      "           0       0.03      0.19      0.05       201\n",
      "           1       0.67      0.29      0.40         7\n",
      "           2       0.00      1.00      0.00         0\n",
      "           3       1.00      0.86      0.92        14\n",
      "           4       1.00      1.00      1.00         2\n",
      "           5       0.85      0.53      0.66       743\n",
      "           6       0.67      1.00      0.80         2\n",
      "           7       1.00      0.00      0.00         3\n",
      "           8       0.00      0.00      0.00         1\n",
      "           9       0.99      0.99      0.99      8238\n",
      "          10       0.45      0.81      0.58       298\n",
      "          11       0.95      0.79      0.86     13386\n",
      "          12       1.00      0.00      0.00         1\n",
      "          13       1.00      1.00      1.00         1\n",
      "          14       1.00      0.97      0.99        36\n",
      "          15       0.85      0.96      0.90       583\n",
      "          16       0.00      0.00      0.00         2\n",
      "          17       0.58      0.91      0.71       749\n",
      "          18       0.94      0.95      0.95       551\n",
      "          19       1.00      0.00      0.00         1\n",
      "          20       1.00      1.00      1.00       196\n",
      "          21       0.10      0.42      0.16       176\n",
      "          22       0.17      0.25      0.20         4\n",
      "\n",
      "    accuracy                           0.86     25195\n",
      "   macro avg       0.66      0.61      0.53     25195\n",
      "weighted avg       0.93      0.86      0.88     25195\n",
      "\n"
     ]
    }
   ],
   "source": [
    "# FGSM Attack\n",
    "fgsm = FastGradientMethod(estimator=cnn_classifier, eps=0.1)\n",
    "X_test_adv_fgsm_cnn = fgsm.generate(x=X_test_cnn)\n",
    "\n",
    "# Predictions and Evaluation\n",
    "y_pred_fgsm_cnn = cnn_model.predict(X_test_adv_fgsm_cnn).argmax(axis=1)\n",
    "print(\"Classification Report (CNN - FGSM):\")\n",
    "print(classification_report(y_test, y_pred_fgsm_cnn, zero_division=1))\n"
   ]
  },
  {
   "cell_type": "code",
   "execution_count": 162,
   "id": "b4eded71-c292-4415-ad6d-d561c06993de",
   "metadata": {},
   "outputs": [
    {
     "data": {
      "application/vnd.jupyter.widget-view+json": {
       "model_id": "",
       "version_major": 2,
       "version_minor": 0
      },
      "text/plain": [
       "PGD - Batches: 0it [00:00, ?it/s]"
      ]
     },
     "metadata": {},
     "output_type": "display_data"
    },
    {
     "name": "stderr",
     "output_type": "stream",
     "text": [
      "2024-10-16 18:05:59.474574: W tensorflow/core/framework/local_rendezvous.cc:404] Local rendezvous is aborting with status: OUT_OF_RANGE: End of sequence\n"
     ]
    },
    {
     "name": "stdout",
     "output_type": "stream",
     "text": [
      "\u001b[1m788/788\u001b[0m \u001b[32m━━━━━━━━━━━━━━━━━━━━\u001b[0m\u001b[37m\u001b[0m \u001b[1m0s\u001b[0m 447us/step\n",
      "Classification Report (CNN - PGD):\n",
      "              precision    recall  f1-score   support\n",
      "\n",
      "           0       0.01      0.11      0.02       201\n",
      "           1       0.67      0.29      0.40         7\n",
      "           3       1.00      0.86      0.92        14\n",
      "           4       1.00      1.00      1.00         2\n",
      "           5       0.71      0.31      0.43       743\n",
      "           6       0.67      1.00      0.80         2\n",
      "           7       0.00      0.00      0.00         3\n",
      "           8       1.00      0.00      0.00         1\n",
      "           9       0.99      0.99      0.99      8238\n",
      "          10       0.36      0.69      0.47       298\n",
      "          11       0.92      0.67      0.77     13386\n",
      "          12       1.00      0.00      0.00         1\n",
      "          13       1.00      1.00      1.00         1\n",
      "          14       1.00      0.94      0.97        36\n",
      "          15       0.81      0.95      0.87       583\n",
      "          16       1.00      0.00      0.00         2\n",
      "          17       0.50      0.88      0.64       749\n",
      "          18       0.90      0.95      0.92       551\n",
      "          19       1.00      0.00      0.00         1\n",
      "          20       1.00      0.99      1.00       196\n",
      "          21       0.05      0.26      0.09       176\n",
      "          22       0.05      0.25      0.09         4\n",
      "\n",
      "    accuracy                           0.78     25195\n",
      "   macro avg       0.71      0.55      0.52     25195\n",
      "weighted avg       0.90      0.78      0.82     25195\n",
      "\n"
     ]
    }
   ],
   "source": [
    "# PGD Attack\n",
    "pgd = ProjectedGradientDescent(estimator=cnn_classifier, eps=0.1, eps_step=0.01, max_iter=50)\n",
    "X_test_adv_pgd_cnn = pgd.generate(x=X_test_cnn)\n",
    "\n",
    "# Predictions and Evaluation\n",
    "y_pred_pgd_cnn = cnn_model.predict(X_test_adv_pgd_cnn).argmax(axis=1)\n",
    "print(\"Classification Report (CNN - PGD):\")\n",
    "print(classification_report(y_test, y_pred_pgd_cnn, zero_division=1))\n"
   ]
  },
  {
   "cell_type": "code",
   "execution_count": 37,
   "id": "6fd3be93-fadc-4dfb-bbff-f5dd70c13525",
   "metadata": {},
   "outputs": [
    {
     "ename": "NameError",
     "evalue": "name 'cnn_classifier' is not defined",
     "output_type": "error",
     "traceback": [
      "\u001b[0;31m---------------------------------------------------------------------------\u001b[0m",
      "\u001b[0;31mNameError\u001b[0m                                 Traceback (most recent call last)",
      "Cell \u001b[0;32mIn[37], line 2\u001b[0m\n\u001b[1;32m      1\u001b[0m \u001b[38;5;66;03m# C&W Attack\u001b[39;00m\n\u001b[0;32m----> 2\u001b[0m cw \u001b[38;5;241m=\u001b[39m CarliniL2Method(classifier\u001b[38;5;241m=\u001b[39mcnn_classifier, targeted\u001b[38;5;241m=\u001b[39m\u001b[38;5;28;01mFalse\u001b[39;00m, max_iter\u001b[38;5;241m=\u001b[39m\u001b[38;5;241m1\u001b[39m)\n\u001b[1;32m      3\u001b[0m X_test_adv_cw_cnn \u001b[38;5;241m=\u001b[39m cw\u001b[38;5;241m.\u001b[39mgenerate(x\u001b[38;5;241m=\u001b[39mX_test_cnn)\n\u001b[1;32m      5\u001b[0m \u001b[38;5;66;03m# Predictions and Evaluation\u001b[39;00m\n",
      "\u001b[0;31mNameError\u001b[0m: name 'cnn_classifier' is not defined"
     ]
    }
   ],
   "source": [
    "# C&W Attack\n",
    "cw = CarliniL2Method(classifier=cnn_classifier, targeted=False, max_iter=10)\n",
    "X_test_adv_cw_cnn = cw.generate(x=X_test_cnn)\n",
    "\n",
    "# Predictions and Evaluation\n",
    "y_pred_cw_cnn = cnn_model.predict(X_test_adv_cw_cnn).argmax(axis=1)\n",
    "print(\"Classification Report (CNN - C&W):\")\n",
    "print(classification_report(y_test, y_pred_cw_cnn, zero_division=1))\n"
   ]
  },
  {
   "cell_type": "code",
   "execution_count": null,
   "id": "bd1607f7-9277-4250-968b-472bfea7165e",
   "metadata": {},
   "outputs": [],
   "source": []
  }
 ],
 "metadata": {
  "kernelspec": {
   "display_name": "Python 3 (ipykernel)",
   "language": "python",
   "name": "python3"
  },
  "language_info": {
   "codemirror_mode": {
    "name": "ipython",
    "version": 3
   },
   "file_extension": ".py",
   "mimetype": "text/x-python",
   "name": "python",
   "nbconvert_exporter": "python",
   "pygments_lexer": "ipython3",
   "version": "3.12.4"
  }
 },
 "nbformat": 4,
 "nbformat_minor": 5
}
